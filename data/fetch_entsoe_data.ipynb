{
 "cells": [
  {
   "metadata": {},
   "cell_type": "markdown",
   "source": "## Setup",
   "id": "fa4612d3224612cc"
  },
  {
   "cell_type": "code",
   "id": "initial_id",
   "metadata": {
    "collapsed": true,
    "ExecuteTime": {
     "end_time": "2024-08-06T14:10:44.665615Z",
     "start_time": "2024-08-06T14:10:44.577101Z"
    }
   },
   "source": [
    "from entsoe import EntsoePandasClient\n",
    "import os\n",
    "from dotenv import load_dotenv\n",
    "from data_utils import query_and_save"
   ],
   "outputs": [],
   "execution_count": 1
  },
  {
   "metadata": {
    "ExecuteTime": {
     "end_time": "2024-08-06T14:10:45.490679Z",
     "start_time": "2024-08-06T14:10:45.485956Z"
    }
   },
   "cell_type": "code",
   "source": [
    "load_dotenv()  # load env file\n",
    "entsoe_key = os.getenv(\"ENTSOE_API_KEY\")  # Get API keys from .env file\n",
    "\n",
    "# Instantiate the ENTSOE Client\n",
    "client = EntsoePandasClient(api_key=entsoe_key)"
   ],
   "id": "389df75d72a70bb1",
   "outputs": [],
   "execution_count": 2
  },
  {
   "metadata": {},
   "cell_type": "markdown",
   "source": "## Define Parameters",
   "id": "a2d24250e98b1c97"
  },
  {
   "metadata": {
    "ExecuteTime": {
     "end_time": "2024-08-06T14:10:47.812157Z",
     "start_time": "2024-08-06T14:10:47.808587Z"
    }
   },
   "cell_type": "code",
   "source": [
    "# Define the overall time range\n",
    "start_year = 2019\n",
    "end_year = 2024\n",
    "\n",
    "# Define the countries, CORE CCR countries are: AT BE HR CZ FR DE HU LU NL PL RO SK SI   \n",
    "countries = [\"AT\", \"BE\", \"HR\", \"CZ\", \"FR\", \"DE_LU\", \"HU\",\"NL\", \"PL\", \"RO\", \"SK\", \"SI\", \"PL\", \"CH\"]"
   ],
   "id": "4dba93020aef610f",
   "outputs": [],
   "execution_count": 3
  },
  {
   "metadata": {
    "ExecuteTime": {
     "end_time": "2024-08-06T13:17:24.730236Z",
     "start_time": "2024-08-06T13:17:24.725097Z"
    }
   },
   "cell_type": "code",
   "source": [
    "# @retry(stop_max_attempt_number=5, wait_fixed=5000)\n",
    "# def query_and_save(query_func, filename_template, countries=countries, start_year=start_year, end_year=end_year, overwrite=False, **kwargs):\n",
    "#     no_data_countries = []\n",
    "#     error_countries = []\n",
    "#     nan_summary = {}\n",
    "#     successful_queries = 0\n",
    "# \n",
    "#     dir_name = filename_template.split('_{}')[0]\n",
    "#     base_dir = os.path.join(\"raw\", dir_name)\n",
    "#     os.makedirs(base_dir, exist_ok=True)\n",
    "# \n",
    "#     total_jobs = len(countries) * (end_year - start_year + 1)\n",
    "#     \n",
    "#     with tqdm(total=total_jobs, desc=f\"Processing {query_func.__name__}\") as pbar:\n",
    "#         for country in countries:\n",
    "#             country_dir = os.path.join(base_dir, country.lower())\n",
    "#             os.makedirs(country_dir, exist_ok=True)\n",
    "# \n",
    "#             for year in range(start_year, end_year + 1):\n",
    "#                 start = pd.Timestamp(f\"{year}0101\", tz=\"UTC\")\n",
    "#                 end = pd.Timestamp(f\"{year}1231\", tz=\"UTC\") if year != 2024 else pd.Timestamp(f\"{year}0731\", tz=\"UTC\")\n",
    "# \n",
    "#                 filename = filename_template.format(f\"{country}_{year}\")\n",
    "#                 filepath = os.path.join(country_dir, filename)\n",
    "# \n",
    "#                 if os.path.exists(filepath) and not overwrite:\n",
    "#                     existing_data = pd.read_parquet(filepath)\n",
    "#                     if existing_data.index[0].normalize() == start and existing_data.index[-1].normalize() == end:\n",
    "#                         pbar.update(1)\n",
    "#                         successful_queries += 1\n",
    "#                         continue\n",
    "# \n",
    "#                 try:\n",
    "#                     data = query_func(country_code=country, start=start, end=end, **kwargs)\n",
    "#                     \n",
    "#                     df_out = pd.DataFrame(data)\n",
    "#                     \n",
    "#                     if df_out.empty:\n",
    "#                         no_data_countries.append(f\"{country}_{year}\")\n",
    "#                         pbar.update(1)\n",
    "#                         continue\n",
    "# \n",
    "#                     nan_count = df_out.isna().sum().sum()\n",
    "#                     total_count = df_out.size\n",
    "#                     nan_summary[f\"{country}_{year}\"] = (nan_count, total_count)\n",
    "#                     \n",
    "#                     df_out.to_parquet(filepath, index=True)\n",
    "# \n",
    "#                     successful_queries += 1\n",
    "# \n",
    "#                 except NoMatchingDataError:\n",
    "#                     no_data_countries.append(f\"{country}_{year}\")\n",
    "#                 except Exception as e:\n",
    "#                     tqdm.write(f\"Error querying data for {country} in {year}: {e}\")\n",
    "#                     error_countries.append(f\"{country}_{year}\")\n",
    "#                 \n",
    "#                 pbar.update(1)\n",
    "# \n",
    "#     print(\"\\n Summary:\")\n",
    "#     for country_year, (nan_count, total_count) in nan_summary.items():\n",
    "#         if nan_count > 0:\n",
    "#             print(f\"{country_year}: {nan_count} NaNs out of {total_count} datapoints\")\n",
    "# \n",
    "#     print(f\"\\nSuccessful queries: {successful_queries} / {total_jobs} country-years\")\n",
    "# \n",
    "#     if no_data_countries:\n",
    "#         print(f\"\\nNo matching data for: {', '.join(no_data_countries)}\")\n",
    "#     \n",
    "#     if error_countries:\n",
    "#         print(f\"\\nErrors occurred for: {', '.join(error_countries)}\")"
   ],
   "id": "c830b6020417b917",
   "outputs": [],
   "execution_count": 4
  },
  {
   "metadata": {},
   "cell_type": "markdown",
   "source": [
    "## Fetch Data\n",
    "To fetch data from the ENTSOE API, simply run each cell. If there are connection errors, simply run the cell again. Re-running cells will only overwrite data if it's incomplete, so simply rerunning the cells will also update the data to the current date minus 2 days (to allow for delays with uploading the ENTSOE data)"
   ],
   "id": "586d697e90b102f2"
  },
  {
   "metadata": {},
   "cell_type": "markdown",
   "source": "### Day-ahead Prices",
   "id": "30a6b0d711805427"
  },
  {
   "metadata": {
    "ExecuteTime": {
     "end_time": "2024-08-06T13:35:49.968033Z",
     "start_time": "2024-08-06T13:17:24.731262Z"
    }
   },
   "cell_type": "code",
   "source": [
    "query_and_save(\n",
    "    query_func=client.query_day_ahead_prices,\n",
    "    filename_template=\"day_ahead_prices_{}.parquet\",\n",
    "    countries=countries, start_year=start_year, end_year=end_year)"
   ],
   "id": "7548272c9f5548a3",
   "outputs": [
    {
     "data": {
      "text/plain": [
       "Processing query_day_ahead_prices:   0%|          | 0/84 [00:00<?, ?it/s]"
      ],
      "application/vnd.jupyter.widget-view+json": {
       "version_major": 2,
       "version_minor": 0,
       "model_id": "52970264fa20479ca7c7a80666599ad4"
      }
     },
     "metadata": {},
     "output_type": "display_data"
    },
    {
     "name": "stdout",
     "output_type": "stream",
     "text": [
      "\n",
      " Summary:\n",
      "\n",
      "Successful queries: 84 / 84 country-years\n"
     ]
    }
   ],
   "execution_count": 5
  },
  {
   "metadata": {},
   "cell_type": "markdown",
   "source": "### Load Forecast",
   "id": "3bab4e225aced01e"
  },
  {
   "metadata": {
    "ExecuteTime": {
     "end_time": "2024-08-06T13:41:43.410675Z",
     "start_time": "2024-08-06T13:35:49.969289Z"
    }
   },
   "cell_type": "code",
   "source": [
    "query_and_save(\n",
    "    query_func=client.query_load_forecast,\n",
    "    filename_template=\"load_forecast_{}.parquet\",\n",
    "    countries=countries, start_year=start_year, end_year=end_year)"
   ],
   "id": "85afc854f350d569",
   "outputs": [
    {
     "data": {
      "text/plain": [
       "Processing query_load_forecast:   0%|          | 0/84 [00:00<?, ?it/s]"
      ],
      "application/vnd.jupyter.widget-view+json": {
       "version_major": 2,
       "version_minor": 0,
       "model_id": "ac22ecea0b4e458b98324fe7d97ccdeb"
      }
     },
     "metadata": {},
     "output_type": "display_data"
    },
    {
     "name": "stdout",
     "output_type": "stream",
     "text": [
      "\n",
      " Summary:\n",
      "\n",
      "Successful queries: 84 / 84 country-years\n"
     ]
    }
   ],
   "execution_count": 6
  },
  {
   "metadata": {},
   "cell_type": "markdown",
   "source": "### Generation Forecast",
   "id": "3f097e563a30b7e2"
  },
  {
   "metadata": {
    "ExecuteTime": {
     "end_time": "2024-08-06T13:47:35.131318Z",
     "start_time": "2024-08-06T13:41:43.411699Z"
    }
   },
   "cell_type": "code",
   "source": [
    "query_and_save(\n",
    "    query_func=client.query_generation_forecast,\n",
    "    filename_template=\"generation_forecast_{}.parquet\",\n",
    "    countries=countries, start_year=start_year, end_year=end_year)"
   ],
   "id": "47cc927cf5781b32",
   "outputs": [
    {
     "data": {
      "text/plain": [
       "Processing query_generation_forecast:   0%|          | 0/84 [00:00<?, ?it/s]"
      ],
      "application/vnd.jupyter.widget-view+json": {
       "version_major": 2,
       "version_minor": 0,
       "model_id": "d1b0b413b337413cbe2b19a6a1be0aec"
      }
     },
     "metadata": {},
     "output_type": "display_data"
    },
    {
     "name": "stdout",
     "output_type": "stream",
     "text": [
      "\n",
      " Summary:\n",
      "\n",
      "Successful queries: 83 / 84 country-years\n",
      "\n",
      "No matching data for: HR_2019\n"
     ]
    }
   ],
   "execution_count": 7
  },
  {
   "metadata": {},
   "cell_type": "markdown",
   "source": "### Wind and Solar Forecast",
   "id": "48a7be74dfd13e21"
  },
  {
   "metadata": {
    "ExecuteTime": {
     "end_time": "2024-08-06T14:02:07.437865Z",
     "start_time": "2024-08-06T13:47:35.132218Z"
    }
   },
   "cell_type": "code",
   "source": [
    "query_and_save(\n",
    "    query_func=client.query_wind_and_solar_forecast,\n",
    "    filename_template=\"wind_and_solar_forecast_{}.parquet\",\n",
    "    countries=countries, start_year=start_year, end_year=end_year)"
   ],
   "id": "a7467149877639e6",
   "outputs": [
    {
     "data": {
      "text/plain": [
       "Processing query_wind_and_solar_forecast:   0%|          | 0/84 [00:00<?, ?it/s]"
      ],
      "application/vnd.jupyter.widget-view+json": {
       "version_major": 2,
       "version_minor": 0,
       "model_id": "4209a0ef602341d6a9a8d98482aa83e4"
      }
     },
     "metadata": {},
     "output_type": "display_data"
    },
    {
     "name": "stdout",
     "output_type": "stream",
     "text": [
      "\n",
      " Summary:\n",
      "FR_2019: 72 NaNs out of 17430 datapoints\n",
      "FR_2020: 49 NaNs out of 17286 datapoints\n",
      "FR_2021: 74 NaNs out of 17382 datapoints\n",
      "FR_2022: 39 NaNs out of 17456 datapoints\n",
      "FR_2023: 5208 NaNs out of 26139 datapoints\n",
      "DE_LU_2023: 8 NaNs out of 104835 datapoints\n",
      "HU_2019: 96 NaNs out of 69890 datapoints\n",
      "PL_2020: 2398 NaNs out of 17522 datapoints\n",
      "\n",
      "Successful queries: 83 / 84 country-years\n",
      "\n",
      "No matching data for: HR_2019\n"
     ]
    }
   ],
   "execution_count": 8
  },
  {
   "metadata": {},
   "cell_type": "markdown",
   "source": "### Installed Generation Capacity",
   "id": "59be9bb4ad7ca5db"
  },
  {
   "metadata": {
    "ExecuteTime": {
     "end_time": "2024-08-06T14:19:39.288307Z",
     "start_time": "2024-08-06T14:18:22.066008Z"
    }
   },
   "cell_type": "code",
   "source": [
    "query_and_save(\n",
    "    query_func=client.query_installed_generation_capacity,\n",
    "    filename_template=\"installed_generation_capacity_{}.parquet\",\n",
    "    countries=countries, start_year=start_year, end_year=end_year)"
   ],
   "id": "fca898653108ee95",
   "outputs": [
    {
     "data": {
      "text/plain": [
       "Processing query_installed_generation_capacity:   0%|          | 0/84 [00:00<?, ?it/s]"
      ],
      "application/vnd.jupyter.widget-view+json": {
       "version_major": 2,
       "version_minor": 0,
       "model_id": "734c7efe2eda416a8ca3d5438451a8a3"
      }
     },
     "metadata": {},
     "output_type": "display_data"
    },
    {
     "name": "stdout",
     "output_type": "stream",
     "text": [
      "\n",
      " Summary:\n",
      "\n",
      "Successful queries: 81 / 84 country-years\n",
      "\n",
      "No matching data for: SK_2022, SK_2023, SK_2024\n"
     ]
    }
   ],
   "execution_count": 7
  }
 ],
 "metadata": {
  "kernelspec": {
   "display_name": "Python 3",
   "language": "python",
   "name": "python3"
  },
  "language_info": {
   "codemirror_mode": {
    "name": "ipython",
    "version": 2
   },
   "file_extension": ".py",
   "mimetype": "text/x-python",
   "name": "python",
   "nbconvert_exporter": "python",
   "pygments_lexer": "ipython2",
   "version": "2.7.6"
  }
 },
 "nbformat": 4,
 "nbformat_minor": 5
}

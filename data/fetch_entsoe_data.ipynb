{
 "cells": [
  {
   "cell_type": "code",
   "id": "initial_id",
   "metadata": {
    "collapsed": true,
    "ExecuteTime": {
     "end_time": "2024-08-01T15:29:29.083156Z",
     "start_time": "2024-08-01T15:29:28.398110Z"
    }
   },
   "source": [
    "from entsoe import EntsoePandasClient\n",
    "from entsoe.exceptions import NoMatchingDataError\n",
    "from tqdm.notebook import tqdm\n",
    "import pandas as pd\n",
    "import os\n",
    "from dotenv import load_dotenv\n",
    "from retrying import retry"
   ],
   "outputs": [],
   "execution_count": 2
  },
  {
   "metadata": {
    "ExecuteTime": {
     "end_time": "2024-08-01T15:29:29.086603Z",
     "start_time": "2024-08-01T15:29:29.083956Z"
    }
   },
   "cell_type": "code",
   "source": [
    "load_dotenv()  # load env file\n",
    "entsoe_key = os.getenv(\"ENTSOE_API_KEY\")  # Get API keys from .env file\n",
    "\n",
    "# Instantiate the ENTSOE Client\n",
    "client = EntsoePandasClient(api_key=entsoe_key)"
   ],
   "id": "389df75d72a70bb1",
   "outputs": [],
   "execution_count": 3
  },
  {
   "metadata": {
    "ExecuteTime": {
     "end_time": "2024-08-01T15:29:29.299170Z",
     "start_time": "2024-08-01T15:29:29.296930Z"
    }
   },
   "cell_type": "code",
   "source": [
    "# Define the overall time range\n",
    "start_year = 2019\n",
    "end_year = 2024\n",
    "\n",
    "# Define the countries AT BE HR CZ FR DE HU LU NL PL RO SK SI   \n",
    "# HR causing problems in 2019\n",
    "# SK problems in July of 2024, installed gen cap also early 2024\n",
    "countries = [\"AT\", \"BE\", \"HR\", \"CZ\", \"FR\", \"DE_LU\", \"HU\",\"NL\", \"PL\", \"RO\", \"SK\", \"SI\", \"PL\", \"CH\"]"
   ],
   "id": "4dba93020aef610f",
   "outputs": [],
   "execution_count": 4
  },
  {
   "metadata": {
    "ExecuteTime": {
     "end_time": "2024-08-01T15:29:30.761931Z",
     "start_time": "2024-08-01T15:29:30.754492Z"
    }
   },
   "cell_type": "code",
   "source": [
    "from tqdm.auto import tqdm\n",
    "\n",
    "@retry(stop_max_attempt_number=5, wait_fixed=5000)\n",
    "def query_and_save(query_func, filename_template, countries=countries, start_year=start_year, end_year=end_year, **kwargs):\n",
    "    no_data_countries = []\n",
    "    error_countries = []\n",
    "    nan_summary = {}\n",
    "    successful_queries = 0\n",
    "\n",
    "    dir_name = filename_template.split('_{}')[0]\n",
    "    base_dir = os.path.join(\"data/raw\", dir_name)\n",
    "    os.makedirs(base_dir, exist_ok=True)\n",
    "\n",
    "    total_jobs = len(countries) * (end_year - start_year + 1)\n",
    "    \n",
    "    with tqdm(total=total_jobs, desc=f\"Processing {query_func.__name__}\") as pbar:\n",
    "        for country in countries:\n",
    "            country_dir = os.path.join(base_dir, country.lower())\n",
    "            os.makedirs(country_dir, exist_ok=True)\n",
    "\n",
    "            for year in range(start_year, end_year + 1):\n",
    "                year_dir = os.path.join(country_dir, str(year))\n",
    "                os.makedirs(year_dir, exist_ok=True)\n",
    "\n",
    "                start = pd.Timestamp(f\"{year}0101\", tz=\"UTC\")\n",
    "                end = pd.Timestamp(f\"{year}1231\", tz=\"UTC\")\n",
    "                if year == end_year:\n",
    "                    end = pd.Timestamp(f\"{year}0731\", tz=\"UTC\")\n",
    "\n",
    "                try:\n",
    "                    data = query_func(country_code=country, start=start, end=end, **kwargs)\n",
    "                    \n",
    "                    df_out = pd.DataFrame(data)\n",
    "                    \n",
    "                    if df_out.empty:\n",
    "                        no_data_countries.append(f\"{country}_{year}\")\n",
    "                        pbar.update(1)\n",
    "                        continue\n",
    "\n",
    "                    nan_count = df_out.isna().sum().sum()\n",
    "                    total_count = df_out.size\n",
    "                    nan_summary[f\"{country}_{year}\"] = (nan_count, total_count)\n",
    "                    \n",
    "                    filename = filename_template.format(f\"{country}_{year}\")\n",
    "                    filepath = os.path.join(year_dir, filename)\n",
    "                    df_out.to_parquet(filepath, index=True)\n",
    "\n",
    "                    successful_queries += 1\n",
    "\n",
    "                except NoMatchingDataError:\n",
    "                    no_data_countries.append(f\"{country}_{year}\")\n",
    "                except Exception as e:\n",
    "                    tqdm.write(f\"Error querying data for {country} in {year}: {e}\")\n",
    "                    error_countries.append(f\"{country}_{year}\")\n",
    "                \n",
    "                pbar.update(1)\n",
    "\n",
    "    print(\"\\n Summary:\")\n",
    "    for country_year, (nan_count, total_count) in nan_summary.items():\n",
    "        if nan_count > 0:\n",
    "            print(f\"{country_year}: {nan_count} NaNs out of {total_count} datapoints\")\n",
    "\n",
    "    print(f\"\\nSuccessful queries: {successful_queries} / {total_jobs} country-years\")\n",
    "\n",
    "    if no_data_countries:\n",
    "        print(f\"\\nNo matching data for: {', '.join(no_data_countries)}\")\n",
    "    \n",
    "    if error_countries:\n",
    "        print(f\"\\nErrors occurred for: {', '.join(error_countries)}\")"
   ],
   "id": "c830b6020417b917",
   "outputs": [],
   "execution_count": 5
  },
  {
   "metadata": {},
   "cell_type": "markdown",
   "source": "## Data availability test",
   "id": "586d697e90b102f2"
  },
  {
   "metadata": {},
   "cell_type": "markdown",
   "source": "### Day-ahead prices",
   "id": "30a6b0d711805427"
  },
  {
   "metadata": {
    "ExecuteTime": {
     "end_time": "2024-08-01T12:49:32.015325Z",
     "start_time": "2024-08-01T12:28:01.022462Z"
    }
   },
   "cell_type": "code",
   "source": [
    "query_and_save(\n",
    "    query_func=client.query_day_ahead_prices,\n",
    "    filename_template=\"day_ahead_prices_{}.parquet\",\n",
    ")"
   ],
   "id": "7548272c9f5548a3",
   "outputs": [
    {
     "data": {
      "text/plain": [
       "Processing query_day_ahead_prices:   0%|          | 0/84 [00:00<?, ?it/s]"
      ],
      "application/vnd.jupyter.widget-view+json": {
       "version_major": 2,
       "version_minor": 0,
       "model_id": "03613ad5845348f78aafa9ee7ca455fb"
      }
     },
     "metadata": {},
     "output_type": "display_data"
    },
    {
     "name": "stderr",
     "output_type": "stream",
     "text": [
      "Connection Error, retrying in 0 seconds\n"
     ]
    },
    {
     "name": "stdout",
     "output_type": "stream",
     "text": [
      "Error querying data for SI in 2023: ('Connection aborted.', RemoteDisconnected('Remote end closed connection without response'))\n"
     ]
    },
    {
     "name": "stderr",
     "output_type": "stream",
     "text": [
      "Connection Error, retrying in 0 seconds\n"
     ]
    },
    {
     "name": "stdout",
     "output_type": "stream",
     "text": [
      "Error querying data for CH in 2021: ('Connection aborted.', RemoteDisconnected('Remote end closed connection without response'))\n"
     ]
    },
    {
     "name": "stderr",
     "output_type": "stream",
     "text": [
      "Connection Error, retrying in 0 seconds\n"
     ]
    },
    {
     "name": "stdout",
     "output_type": "stream",
     "text": [
      "Error querying data for CH in 2023: ('Connection aborted.', RemoteDisconnected('Remote end closed connection without response'))\n",
      "\n",
      " Summary:\n",
      "\n",
      "Successful queries: 81 / 84 country-years\n",
      "\n",
      "Errors occurred for: SI_2023, CH_2021, CH_2023\n"
     ]
    }
   ],
   "execution_count": 6
  },
  {
   "metadata": {
    "ExecuteTime": {
     "end_time": "2024-08-01T15:48:12.661902Z",
     "start_time": "2024-08-01T15:47:28.598947Z"
    }
   },
   "cell_type": "code",
   "source": [
    "# Retry failed queries\n",
    "ch21 = pd.DataFrame(client.query_day_ahead_prices(\"CH\", start=pd.Timestamp(\"2021-01-01\", tz=\"UTC\"), end=pd.Timestamp(\"2021-12-31\", tz=\"UTC\")))\n",
    "\n",
    "ch21.to_parquet(\"data/raw/day_ahead_prices/ch/2021/day_ahead_prices_CH_2021.parquet\", index=True)\n",
    "\n",
    "ch23 = pd.DataFrame(client.query_day_ahead_prices(\"CH\", start=pd.Timestamp(\"2023-01-01\", tz=\"UTC\"), end=pd.Timestamp(\"2023-12-31\", tz=\"UTC\")))\n",
    "\n",
    "ch23.to_parquet(\"data/raw/day_ahead_prices/ch/2023/day_ahead_prices_CH_2023.parquet\", index=True)\n",
    "\n",
    "si23 = pd.DataFrame(client.query_day_ahead_prices(\"SI\", start=pd.Timestamp(\"2023-01-01\", tz=\"UTC\"), end=pd.Timestamp(\"2023-12-31\", tz=\"UTC\")))\n",
    "\n",
    "si23.to_parquet(\"data/raw/day_ahead_prices/si/2023/day_ahead_prices_SI_2023.parquet\", index=True)"
   ],
   "id": "1ae033de9324e1c9",
   "outputs": [],
   "execution_count": 21
  },
  {
   "metadata": {},
   "cell_type": "markdown",
   "source": "### Load forecast",
   "id": "3bab4e225aced01e"
  },
  {
   "metadata": {
    "ExecuteTime": {
     "end_time": "2024-08-01T13:00:25.372941Z",
     "start_time": "2024-08-01T12:49:32.016285Z"
    }
   },
   "cell_type": "code",
   "source": [
    "query_and_save(\n",
    "    query_func=client.query_load_forecast,\n",
    "    filename_template=\"load_forecast_{}.parquet\",\n",
    ")"
   ],
   "id": "85afc854f350d569",
   "outputs": [
    {
     "data": {
      "text/plain": [
       "Processing query_load_forecast:   0%|          | 0/84 [00:00<?, ?it/s]"
      ],
      "application/vnd.jupyter.widget-view+json": {
       "version_major": 2,
       "version_minor": 0,
       "model_id": "cf78f55077594abe887b85d250685dcf"
      }
     },
     "metadata": {},
     "output_type": "display_data"
    },
    {
     "name": "stderr",
     "output_type": "stream",
     "text": [
      "Connection Error, retrying in 0 seconds\n"
     ]
    },
    {
     "name": "stdout",
     "output_type": "stream",
     "text": [
      "Error querying data for HU in 2021: ('Connection aborted.', RemoteDisconnected('Remote end closed connection without response'))\n"
     ]
    },
    {
     "name": "stderr",
     "output_type": "stream",
     "text": [
      "Connection Error, retrying in 0 seconds\n"
     ]
    },
    {
     "name": "stdout",
     "output_type": "stream",
     "text": [
      "Error querying data for CH in 2024: ('Connection aborted.', RemoteDisconnected('Remote end closed connection without response'))\n",
      "\n",
      " Summary:\n",
      "\n",
      "Successful queries: 82 / 84 country-years\n",
      "\n",
      "Errors occurred for: HU_2021, CH_2024\n"
     ]
    }
   ],
   "execution_count": 7
  },
  {
   "metadata": {
    "ExecuteTime": {
     "end_time": "2024-08-01T15:42:14.476577Z",
     "start_time": "2024-08-01T15:42:07.019696Z"
    }
   },
   "cell_type": "code",
   "source": [
    "# Retry failed queries\n",
    "hu21 = client.query_load_forecast(\"HU\", start=pd.Timestamp(\"2021-01-01\", tz=\"UTC\"), end=pd.Timestamp(\"2021-12-31\", tz=\"UTC\"))\n",
    "\n",
    "hu21.to_parquet(\"data/raw/load_forecast/hu/2021/load_forecast_HU_2021.parquet\", index=True)\n",
    "\n",
    "ch24 = client.query_load_forecast(\"CH\", start=pd.Timestamp(\"2024-01-01\", tz=\"UTC\"), end=pd.Timestamp(\"2024-07-31\", tz=\"UTC\"))\n",
    "\n",
    "ch24.to_parquet(\"data/raw/load_forecast/ch/2024/load_forecast_HU_2024.parquet\", index=True)"
   ],
   "id": "9b08b9479c7ef447",
   "outputs": [],
   "execution_count": 17
  },
  {
   "metadata": {},
   "cell_type": "markdown",
   "source": "### Generation forecast",
   "id": "3f097e563a30b7e2"
  },
  {
   "metadata": {
    "ExecuteTime": {
     "end_time": "2024-08-01T13:16:30.538863Z",
     "start_time": "2024-08-01T13:00:25.374630Z"
    }
   },
   "cell_type": "code",
   "source": [
    "query_and_save(\n",
    "    query_func=client.query_generation_forecast,\n",
    "    filename_template=\"generation_forecast_{}.parquet\",\n",
    ")"
   ],
   "id": "47cc927cf5781b32",
   "outputs": [
    {
     "data": {
      "text/plain": [
       "Processing query_generation_forecast:   0%|          | 0/84 [00:00<?, ?it/s]"
      ],
      "application/vnd.jupyter.widget-view+json": {
       "version_major": 2,
       "version_minor": 0,
       "model_id": "030f2b3a685c476d90a0dde7df3a1ed5"
      }
     },
     "metadata": {},
     "output_type": "display_data"
    },
    {
     "name": "stderr",
     "output_type": "stream",
     "text": [
      "Connection Error, retrying in 0 seconds\n"
     ]
    },
    {
     "name": "stdout",
     "output_type": "stream",
     "text": [
      "Error querying data for SI in 2020: ('Connection aborted.', RemoteDisconnected('Remote end closed connection without response'))\n",
      "\n",
      " Summary:\n",
      "\n",
      "Successful queries: 82 / 84 country-years\n",
      "\n",
      "No matching data for: HR_2019\n",
      "\n",
      "Errors occurred for: SI_2020\n"
     ]
    }
   ],
   "execution_count": 8
  },
  {
   "metadata": {
    "ExecuteTime": {
     "end_time": "2024-08-01T15:50:29.863540Z",
     "start_time": "2024-08-01T15:50:23.738448Z"
    }
   },
   "cell_type": "code",
   "source": [
    "si20 = pd.DataFrame(client.query_generation_forecast(\"SI\", start=pd.Timestamp(\"2020-01-01\", tz=\"UTC\"), end=pd.Timestamp(\"2020-12-31\", tz=\"UTC\")))\n",
    "\n",
    "si20.to_parquet(\"data/raw/generation_forecast/si/2020/generation_forecast_SI_2020.parquet\", index=True)"
   ],
   "id": "a0e2f59446fc769e",
   "outputs": [],
   "execution_count": 23
  },
  {
   "metadata": {},
   "cell_type": "markdown",
   "source": "### Wind and solar forecast",
   "id": "48a7be74dfd13e21"
  },
  {
   "metadata": {
    "ExecuteTime": {
     "end_time": "2024-08-01T13:38:15.649173Z",
     "start_time": "2024-08-01T13:16:30.539902Z"
    }
   },
   "cell_type": "code",
   "source": [
    "query_and_save(\n",
    "    query_func=client.query_wind_and_solar_forecast,\n",
    "    filename_template=\"wind_and_solar_forecast_{}.parquet\",\n",
    ")"
   ],
   "id": "a7467149877639e6",
   "outputs": [
    {
     "data": {
      "text/plain": [
       "Processing query_wind_and_solar_forecast:   0%|          | 0/84 [00:00<?, ?it/s]"
      ],
      "application/vnd.jupyter.widget-view+json": {
       "version_major": 2,
       "version_minor": 0,
       "model_id": "27c731f2322e4dee889b345a446c6b57"
      }
     },
     "metadata": {},
     "output_type": "display_data"
    },
    {
     "name": "stderr",
     "output_type": "stream",
     "text": [
      "Connection Error, retrying in 0 seconds\n"
     ]
    },
    {
     "name": "stdout",
     "output_type": "stream",
     "text": [
      "Error querying data for AT in 2021: ('Connection aborted.', RemoteDisconnected('Remote end closed connection without response'))\n"
     ]
    },
    {
     "name": "stderr",
     "output_type": "stream",
     "text": [
      "Connection Error, retrying in 0 seconds\n"
     ]
    },
    {
     "name": "stdout",
     "output_type": "stream",
     "text": [
      "Error querying data for HU in 2023: ('Connection aborted.', RemoteDisconnected('Remote end closed connection without response'))\n",
      "\n",
      " Summary:\n",
      "FR_2019: 72 NaNs out of 17430 datapoints\n",
      "FR_2020: 49 NaNs out of 17286 datapoints\n",
      "FR_2021: 74 NaNs out of 17382 datapoints\n",
      "FR_2022: 39 NaNs out of 17456 datapoints\n",
      "FR_2023: 5208 NaNs out of 26139 datapoints\n",
      "DE_LU_2023: 8 NaNs out of 104835 datapoints\n",
      "HU_2019: 96 NaNs out of 69890 datapoints\n",
      "PL_2020: 2398 NaNs out of 17522 datapoints\n",
      "\n",
      "Successful queries: 81 / 84 country-years\n",
      "\n",
      "No matching data for: HR_2019\n",
      "\n",
      "Errors occurred for: AT_2021, HU_2023\n"
     ]
    }
   ],
   "execution_count": 9
  },
  {
   "metadata": {
    "ExecuteTime": {
     "end_time": "2024-08-01T15:55:11.109392Z",
     "start_time": "2024-08-01T15:54:33.252976Z"
    }
   },
   "cell_type": "code",
   "source": [
    "at21 = pd.DataFrame(client.query_wind_and_solar_forecast(\"AT\", start=pd.Timestamp(\"2021-01-01\", tz=\"UTC\"), end=pd.Timestamp(\"2021-12-31\", tz=\"UTC\")))\n",
    "\n",
    "at21.to_parquet(\"data/raw/wind_and_solar_forecast/at/2021/wind_and_solar_forecast_AT_2021.parquet\", index=True)\n",
    "\n",
    "hu23 = pd.DataFrame(client.query_wind_and_solar_forecast(\"HU\", start=pd.Timestamp(\"2023-01-01\", tz=\"UTC\"), end=pd.Timestamp(\"2023-12-31\", tz=\"UTC\")))\n",
    "\n",
    "hu23.to_parquet(\"data/raw/wind_and_solar_forecast/hu/2023/wind_and_solar_forecast_HU_2023.parquet\", index=True)"
   ],
   "id": "8855f3113c31e67b",
   "outputs": [],
   "execution_count": 24
  },
  {
   "metadata": {},
   "cell_type": "markdown",
   "source": "### Installed Generation Capacity",
   "id": "59be9bb4ad7ca5db"
  },
  {
   "metadata": {
    "ExecuteTime": {
     "end_time": "2024-08-01T13:39:40.128672Z",
     "start_time": "2024-08-01T13:38:15.651716Z"
    }
   },
   "cell_type": "code",
   "source": [
    "query_and_save(\n",
    "    query_func=client.query_installed_generation_capacity,\n",
    "    filename_template=\"installed_generation_capacity_{}.parquet\",\n",
    ")"
   ],
   "id": "fca898653108ee95",
   "outputs": [
    {
     "data": {
      "text/plain": [
       "Processing query_installed_generation_capacity:   0%|          | 0/84 [00:00<?, ?it/s]"
      ],
      "application/vnd.jupyter.widget-view+json": {
       "version_major": 2,
       "version_minor": 0,
       "model_id": "69e46a78bd8a4f3a8d7b4ce4c37204ba"
      }
     },
     "metadata": {},
     "output_type": "display_data"
    },
    {
     "name": "stdout",
     "output_type": "stream",
     "text": [
      "\n",
      " Summary:\n",
      "\n",
      "Successful queries: 81 / 84 country-years\n",
      "\n",
      "No matching data for: SK_2022, SK_2023, SK_2024\n"
     ]
    }
   ],
   "execution_count": 10
  }
 ],
 "metadata": {
  "kernelspec": {
   "display_name": "Python 3",
   "language": "python",
   "name": "python3"
  },
  "language_info": {
   "codemirror_mode": {
    "name": "ipython",
    "version": 2
   },
   "file_extension": ".py",
   "mimetype": "text/x-python",
   "name": "python",
   "nbconvert_exporter": "python",
   "pygments_lexer": "ipython2",
   "version": "2.7.6"
  }
 },
 "nbformat": 4,
 "nbformat_minor": 5
}

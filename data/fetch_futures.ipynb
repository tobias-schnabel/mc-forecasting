{
 "cells": [
  {
   "cell_type": "code",
   "id": "initial_id",
   "metadata": {
    "collapsed": true,
    "ExecuteTime": {
     "end_time": "2024-08-06T12:44:57.524923Z",
     "start_time": "2024-08-06T12:44:57.522349Z"
    }
   },
   "source": [
    "import yfinance as yf\n",
    "import pandas as pd\n",
    "import os\n",
    "from datetime import datetime, timezone"
   ],
   "outputs": [],
   "execution_count": 10
  },
  {
   "metadata": {
    "ExecuteTime": {
     "end_time": "2024-08-06T12:47:08.404446Z",
     "start_time": "2024-08-06T12:47:08.360481Z"
    }
   },
   "cell_type": "code",
   "source": [
    "# Define the tickers and date range\n",
    "tickers = {\n",
    "    \"coal\": \"MTF=F\",\n",
    "    \"gas\": \"TTF=F\"\n",
    "}\n",
    "start_date = \"2019-01-01\"\n",
    "end_date = \"2024-07-31\"\n",
    "\n",
    "# Function to fetch data for a single ticker\n",
    "def fetch_data(ticker):\n",
    "    data = yf.Ticker(ticker).history(start=start_date, end=end_date)\n",
    "    return data['Close']\n",
    "\n",
    "# Fetch data for both tickers\n",
    "data = {}\n",
    "for commodity, ticker in tickers.items():\n",
    "    data[commodity] = fetch_data(ticker)\n",
    "    \n",
    "# Convert index to UTC but keep timezone info\n",
    "for commodity in data:\n",
    "    data[commodity].index = pd.to_datetime(data[commodity].index).tz_convert(timezone.utc)\n",
    "\n",
    "# Function to save data as parquet files organized by year\n",
    "def save_as_parquet(series, commodity):\n",
    "    base_folder = os.path.join(\"raw\", commodity)\n",
    "    os.makedirs(base_folder, exist_ok=True)\n",
    "    \n",
    "    # Convert Series to DataFrame and ensure correct column order\n",
    "    df = pd.DataFrame({'Date': series.index, commodity: series.values})\n",
    "    \n",
    "    # Group data by year and save each year's data separately\n",
    "    for year, year_data in df.groupby(df['Date'].dt.year):\n",
    "        year_folder = os.path.join(base_folder, str(year))\n",
    "        os.makedirs(year_folder, exist_ok=True)\n",
    "        \n",
    "        file_name = f\"{commodity}_{year}.parquet\"\n",
    "        file_path = os.path.join(year_folder, file_name)\n",
    "        \n",
    "        # Save as parquet\n",
    "        year_data.to_parquet(file_path, index=False)\n",
    "        print(f\"Saved {file_path}\")\n",
    "\n",
    "# Save data for each commodity\n",
    "for commodity, prices in data.items():\n",
    "    save_as_parquet(prices, commodity)\n",
    "\n",
    "print(\"Data processing and saving completed.\")\n",
    "\n",
    "# Display the first few rows of each dataset\n",
    "for commodity, prices in data.items():\n",
    "    print(f\"\\nFirst few rows of {commodity.capitalize()} data:\")\n",
    "    print(prices.head())"
   ],
   "id": "71af2fd60898cc71",
   "outputs": [
    {
     "name": "stdout",
     "output_type": "stream",
     "text": [
      "Saved raw/coal/2019/coal_2019.parquet\n",
      "Saved raw/coal/2020/coal_2020.parquet\n",
      "Saved raw/coal/2021/coal_2021.parquet\n",
      "Saved raw/coal/2022/coal_2022.parquet\n",
      "Saved raw/coal/2023/coal_2023.parquet\n",
      "Saved raw/coal/2024/coal_2024.parquet\n",
      "Saved raw/gas/2019/gas_2019.parquet\n",
      "Saved raw/gas/2020/gas_2020.parquet\n",
      "Saved raw/gas/2021/gas_2021.parquet\n",
      "Saved raw/gas/2022/gas_2022.parquet\n",
      "Saved raw/gas/2023/gas_2023.parquet\n",
      "Saved raw/gas/2024/gas_2024.parquet\n",
      "Data processing and saving completed.\n",
      "\n",
      "First few rows of Coal data:\n",
      "Date\n",
      "2019-01-02 05:00:00+00:00    87.449997\n",
      "2019-01-03 05:00:00+00:00    83.699997\n",
      "2019-01-04 05:00:00+00:00    83.349998\n",
      "2019-01-07 05:00:00+00:00    81.599998\n",
      "2019-01-08 05:00:00+00:00    82.150002\n",
      "Name: Close, dtype: float64\n",
      "\n",
      "Last few rows of Coal data:\n",
      "Date\n",
      "2019-01-02 05:00:00+00:00    87.449997\n",
      "2019-01-03 05:00:00+00:00    83.699997\n",
      "2019-01-04 05:00:00+00:00    83.349998\n",
      "2019-01-07 05:00:00+00:00    81.599998\n",
      "2019-01-08 05:00:00+00:00    82.150002\n",
      "Name: Close, dtype: float64\n",
      "\n",
      "First few rows of Gas data:\n",
      "Date\n",
      "2019-01-02 05:00:00+00:00    22.475000\n",
      "2019-01-03 05:00:00+00:00    22.254999\n",
      "2019-01-04 05:00:00+00:00    22.930000\n",
      "2019-01-07 05:00:00+00:00    21.530001\n",
      "2019-01-08 05:00:00+00:00    22.090000\n",
      "Name: Close, dtype: float64\n",
      "\n",
      "Last few rows of Gas data:\n",
      "Date\n",
      "2019-01-02 05:00:00+00:00    22.475000\n",
      "2019-01-03 05:00:00+00:00    22.254999\n",
      "2019-01-04 05:00:00+00:00    22.930000\n",
      "2019-01-07 05:00:00+00:00    21.530001\n",
      "2019-01-08 05:00:00+00:00    22.090000\n",
      "Name: Close, dtype: float64\n"
     ]
    }
   ],
   "execution_count": 12
  },
  {
   "metadata": {},
   "cell_type": "code",
   "outputs": [],
   "execution_count": null,
   "source": "",
   "id": "7feb5af7339f12dc"
  }
 ],
 "metadata": {
  "kernelspec": {
   "display_name": "Python 3",
   "language": "python",
   "name": "python3"
  },
  "language_info": {
   "codemirror_mode": {
    "name": "ipython",
    "version": 2
   },
   "file_extension": ".py",
   "mimetype": "text/x-python",
   "name": "python",
   "nbconvert_exporter": "python",
   "pygments_lexer": "ipython2",
   "version": "2.7.6"
  }
 },
 "nbformat": 4,
 "nbformat_minor": 5
}

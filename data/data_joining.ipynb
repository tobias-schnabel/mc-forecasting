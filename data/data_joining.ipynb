{
 "cells": [
  {
   "cell_type": "code",
   "id": "initial_id",
   "metadata": {
    "collapsed": true,
    "ExecuteTime": {
     "end_time": "2024-08-06T17:13:17.005249Z",
     "start_time": "2024-08-06T17:13:16.900322Z"
    }
   },
   "source": [
    "# Import necessary libraries\n",
    "import sys\n",
    "import os\n",
    "sys.path.append(os.path.abspath(os.path.join(os.getcwd(), '..')))\n",
    "from data_utils import *\n",
    "import pandas as pd\n",
    "pd.set_option('future.no_silent_downcasting', True)"
   ],
   "outputs": [],
   "execution_count": 1
  },
  {
   "metadata": {
    "ExecuteTime": {
     "end_time": "2024-08-06T17:13:17.221080Z",
     "start_time": "2024-08-06T17:13:17.006160Z"
    }
   },
   "cell_type": "code",
   "source": [
    "start_date = '2019-01-01 00:00:00'\n",
    "end_date = '2024-07-31 23:00:00'\n",
    "cg = load_coal_gas_data(start_date, end_date)\n",
    "print(cg.head())\n",
    "print(cg.tail())"
   ],
   "id": "ebf39f4048003ea4",
   "outputs": [
    {
     "name": "stdout",
     "output_type": "stream",
     "text": [
      "                          coal     gas\n",
      "2019-01-01 00:00:00  87.449997  22.475\n",
      "2019-01-01 01:00:00  87.449997  22.475\n",
      "2019-01-01 02:00:00  87.449997  22.475\n",
      "2019-01-01 03:00:00  87.449997  22.475\n",
      "2019-01-01 04:00:00  87.449997  22.475\n",
      "                           coal     gas\n",
      "2024-07-31 19:00:00  116.650002  35.868\n",
      "2024-07-31 20:00:00  116.650002  35.868\n",
      "2024-07-31 21:00:00  116.650002  35.868\n",
      "2024-07-31 22:00:00  116.650002  35.868\n",
      "2024-07-31 23:00:00  116.650002  35.868\n"
     ]
    }
   ],
   "execution_count": 2
  },
  {
   "metadata": {
    "ExecuteTime": {
     "end_time": "2024-08-06T17:13:17.268916Z",
     "start_time": "2024-08-06T17:13:17.221939Z"
    }
   },
   "cell_type": "code",
   "source": [
    "dfs = load_data('wind_and_solar_forecast', [2022], ['DE_LU'])\n",
    "is_continuous, problematic_dfs = check_time_continuity(dfs)\n",
    "installed_capacity = load_installed_capacity(2023)"
   ],
   "id": "70e0811fc6a48632",
   "outputs": [],
   "execution_count": 3
  },
  {
   "metadata": {},
   "cell_type": "markdown",
   "source": "",
   "id": "128ea350e129ccaa"
  },
  {
   "metadata": {
    "ExecuteTime": {
     "end_time": "2024-08-06T17:13:17.298365Z",
     "start_time": "2024-08-06T17:13:17.270088Z"
    }
   },
   "cell_type": "code",
   "source": [
    "dfs = load_data('wind_and_solar_forecast', [2022, 2023], ['DE_LU', 'FR'])\n",
    "is_continuous, problematic_dfs = check_time_continuity(dfs)\n",
    "installed_capacity = load_installed_capacity(2023)\n",
    "hourly_df = drop_non_hourly_data(dfs[0])"
   ],
   "id": "f8bee2899c2153d4",
   "outputs": [],
   "execution_count": 4
  },
  {
   "metadata": {
    "ExecuteTime": {
     "end_time": "2024-08-06T17:13:17.301869Z",
     "start_time": "2024-08-06T17:13:17.299180Z"
    }
   },
   "cell_type": "code",
   "source": "inscap = total_columns(installed_capacity)",
   "id": "fbf7d61a48059c90",
   "outputs": [],
   "execution_count": 5
  },
  {
   "metadata": {
    "ExecuteTime": {
     "end_time": "2024-08-06T17:13:17.304795Z",
     "start_time": "2024-08-06T17:13:17.302515Z"
    }
   },
   "cell_type": "code",
   "source": "print(inscap.head())",
   "id": "e3b576005d1b5fab",
   "outputs": [
    {
     "name": "stdout",
     "output_type": "stream",
     "text": [
      "country\n",
      "PL    55216.0\n",
      "BE    26800.0\n",
      "CH    15860.0\n",
      "CZ    19646.0\n",
      "RO    16357.0\n",
      "dtype: float64\n"
     ]
    }
   ],
   "execution_count": 6
  },
  {
   "metadata": {
    "ExecuteTime": {
     "end_time": "2024-08-06T17:13:17.310140Z",
     "start_time": "2024-08-06T17:13:17.305566Z"
    }
   },
   "cell_type": "code",
   "source": "print(installed_capacity.head())",
   "id": "4cc588830f2c12f1",
   "outputs": [
    {
     "name": "stdout",
     "output_type": "stream",
     "text": [
      "         Biomass  Fossil Brown coal/Lignite  Fossil Coal-derived gas  \\\n",
      "country                                                                \n",
      "PL         664.0                     7560.0                    281.0   \n",
      "BE         730.0                        NaN                      NaN   \n",
      "CH           NaN                        NaN                      NaN   \n",
      "CZ         410.0                     7160.0                    380.0   \n",
      "RO         118.0                     2497.0                      NaN   \n",
      "\n",
      "         Fossil Gas  Fossil Hard coal  Fossil Oil  Hydro Pumped Storage  \\\n",
      "country                                                                   \n",
      "PL           3786.0           19008.0       393.0                1591.0   \n",
      "BE           6988.0               NaN       450.0                1308.0   \n",
      "CH              NaN               NaN         NaN                6697.0   \n",
      "CZ           1240.0            1200.0         0.0                1172.0   \n",
      "RO           1988.0             176.0         NaN                   NaN   \n",
      "\n",
      "         Hydro Run-of-river and poundage  Hydro Water Reservoir   Other  \\\n",
      "country                                                                   \n",
      "PL                                 323.0                  469.0  1520.0   \n",
      "BE                                 186.0                    NaN    27.0   \n",
      "CH                                 605.0                 5588.0     NaN   \n",
      "CZ                                 340.0                  772.0     0.0   \n",
      "RO                                2780.0                 3356.0     NaN   \n",
      "\n",
      "           Solar  Wind Onshore  Nuclear  Waste  Wind Offshore  \\\n",
      "country                                                         \n",
      "PL       10643.0        8978.0      NaN    NaN            NaN   \n",
      "BE        6475.0        3053.0   4937.0  384.0         2262.0   \n",
      "CH           NaN           NaN   2970.0    NaN            NaN   \n",
      "CZ        2083.0         339.0   4040.0  100.0            NaN   \n",
      "RO        1185.0        2957.0   1300.0    NaN            NaN   \n",
      "\n",
      "         Other renewable  Fossil Oil shale  Fossil Peat  Geothermal  Marine  \n",
      "country                                                                      \n",
      "PL                   NaN               NaN          NaN         NaN     NaN  \n",
      "BE                   NaN               NaN          NaN         NaN     NaN  \n",
      "CH                   NaN               NaN          NaN         NaN     NaN  \n",
      "CZ                 410.0               NaN          NaN         NaN     NaN  \n",
      "RO                   NaN               NaN          NaN         NaN     NaN  \n"
     ]
    }
   ],
   "execution_count": 7
  },
  {
   "metadata": {
    "ExecuteTime": {
     "end_time": "2024-08-06T17:13:17.312161Z",
     "start_time": "2024-08-06T17:13:17.310947Z"
    }
   },
   "cell_type": "code",
   "source": "",
   "id": "a77ea1fef6703ca8",
   "outputs": [],
   "execution_count": 7
  }
 ],
 "metadata": {
  "kernelspec": {
   "display_name": "Python 3",
   "language": "python",
   "name": "python3"
  },
  "language_info": {
   "codemirror_mode": {
    "name": "ipython",
    "version": 2
   },
   "file_extension": ".py",
   "mimetype": "text/x-python",
   "name": "python",
   "nbconvert_exporter": "python",
   "pygments_lexer": "ipython2",
   "version": "2.7.6"
  }
 },
 "nbformat": 4,
 "nbformat_minor": 5
}

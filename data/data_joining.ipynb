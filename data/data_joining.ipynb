{
 "cells": [
  {
   "cell_type": "code",
   "id": "initial_id",
   "metadata": {
    "collapsed": true,
    "ExecuteTime": {
     "end_time": "2024-08-07T17:47:28.404680Z",
     "start_time": "2024-08-07T17:47:27.972996Z"
    }
   },
   "source": [
    "# Import necessary libraries\n",
    "import sys\n",
    "import os\n",
    "sys.path.append(os.path.abspath(os.path.join(os.getcwd(), '..')))\n",
    "from data_utils import *\n",
    "import pandas as pd\n",
    "pd.set_option('future.no_silent_downcasting', True)"
   ],
   "outputs": [],
   "execution_count": 1
  },
  {
   "metadata": {
    "ExecuteTime": {
     "end_time": "2024-08-07T17:47:28.408010Z",
     "start_time": "2024-08-07T17:47:28.405693Z"
    }
   },
   "cell_type": "code",
   "source": [
    "start_year = 2019\n",
    "end_year = 2024\n",
    "start_date = '2019-01-01 00:00:00'\n",
    "end_date = '2024-07-31 23:00:00'\n",
    "# Define the countries, CORE CCR countries are: AT BE HR CZ FR DE HU LU NL PL RO SK SI   \n",
    "# We also have Poland and Switzerland, Croatia (HR) has no wind and solar forecast for 2019 so drop\n",
    "countries = [\"AT\", \"BE\", \"CZ\", \"FR\", \"DE_LU\", \"HU\",\"NL\", \"PL\", \"RO\", \"SK\", \"SI\", \"PL\", \"CH\"]\n",
    "print(f\"Number of countries: {len(countries)}\")"
   ],
   "id": "4ddffea2bec4b450",
   "outputs": [
    {
     "name": "stdout",
     "output_type": "stream",
     "text": [
      "Number of countries: 13\n"
     ]
    }
   ],
   "execution_count": 2
  },
  {
   "metadata": {
    "ExecuteTime": {
     "end_time": "2024-08-07T17:47:28.638287Z",
     "start_time": "2024-08-07T17:47:28.408924Z"
    }
   },
   "cell_type": "code",
   "source": "cg = load_coal_gas_data(start_date, end_date)  # load coal and gas data",
   "id": "ebf39f4048003ea4",
   "outputs": [],
   "execution_count": 3
  },
  {
   "metadata": {
    "ExecuteTime": {
     "end_time": "2024-08-07T17:47:28.712617Z",
     "start_time": "2024-08-07T17:47:28.639013Z"
    }
   },
   "cell_type": "code",
   "source": "inscap = load_installed_capacity(2019)  # load installed capacity data",
   "id": "70e0811fc6a48632",
   "outputs": [],
   "execution_count": 4
  },
  {
   "metadata": {
    "ExecuteTime": {
     "end_time": "2024-08-07T17:47:28.892590Z",
     "start_time": "2024-08-07T17:47:28.714035Z"
    }
   },
   "cell_type": "code",
   "source": "dap = load_day_ahead_prices(start_date, end_date, countries, True)  # load day-ahead prices",
   "id": "a77ea1fef6703ca8",
   "outputs": [
    {
     "name": "stdout",
     "output_type": "stream",
     "text": [
      "\n",
      "Missing data analysis:\n",
      "No missing values in the DataFrame\n"
     ]
    }
   ],
   "execution_count": 5
  },
  {
   "metadata": {
    "ExecuteTime": {
     "end_time": "2024-08-07T17:47:29.235856Z",
     "start_time": "2024-08-07T17:47:28.893269Z"
    }
   },
   "cell_type": "code",
   "source": "genf = load_variable_data(start_date, end_date, \"generation_forecast\", countries, True)  # load generation forecast",
   "id": "7ca00747c17a0da6",
   "outputs": [
    {
     "name": "stdout",
     "output_type": "stream",
     "text": [
      "\n",
      "Missing data analysis:\n",
      "\n",
      "BE:\n",
      "  Total missing entries: 25\n",
      "  Missing range: 2024-07-30 23:00:00+00:00 to 2024-07-31 23:00:00+00:00\n",
      "  Missing entries by year:\n",
      "    2024: 25\n",
      "\n",
      "FR:\n",
      "  Total missing entries: 192\n",
      "  Missing range: 2019-02-17 23:00:00+00:00 to 2019-02-18 22:00:00+00:00\n",
      "  Missing range: 2021-02-19 23:00:00+00:00 to 2021-02-20 22:00:00+00:00\n",
      "  Missing range: 2021-04-09 22:00:00+00:00 to 2021-04-12 21:00:00+00:00\n",
      "  Missing range: 2021-05-19 22:00:00+00:00 to 2021-05-20 21:00:00+00:00\n",
      "  Missing range: 2021-05-24 22:00:00+00:00 to 2021-05-25 21:00:00+00:00\n",
      "  Missing range: 2021-05-27 22:00:00+00:00 to 2021-05-28 21:00:00+00:00\n",
      "  Missing entries by year:\n",
      "    2019: 24\n",
      "    2021: 168\n",
      "\n",
      "DE_LU:\n",
      "  Total missing entries: 49\n",
      "  Missing range: 2023-10-28 22:00:00+00:00 to 2023-10-28 22:00:00+00:00\n",
      "  Missing range: 2024-06-20 22:00:00+00:00 to 2024-06-21 21:00:00+00:00\n",
      "  Missing range: 2024-06-25 22:00:00+00:00 to 2024-06-26 21:00:00+00:00\n",
      "  Missing entries by year:\n",
      "    2023: 1\n",
      "    2024: 48\n",
      "\n",
      "PL:\n",
      "  Total missing entries: 24\n",
      "  Missing range: 2024-06-12 22:00:00+00:00 to 2024-06-13 21:00:00+00:00\n",
      "  Missing entries by year:\n",
      "    2024: 24\n",
      "\n",
      "RO:\n",
      "  Total missing entries: 96\n",
      "  Missing range: 2019-05-05 21:00:00+00:00 to 2019-05-06 20:00:00+00:00\n",
      "  Missing range: 2019-07-17 21:00:00+00:00 to 2019-07-18 20:00:00+00:00\n",
      "  Missing range: 2019-08-11 21:00:00+00:00 to 2019-08-12 20:00:00+00:00\n",
      "  Missing range: 2019-11-06 22:00:00+00:00 to 2019-11-07 21:00:00+00:00\n",
      "  Missing entries by year:\n",
      "    2019: 96\n",
      "\n",
      "SK:\n",
      "  Total missing entries: 818\n",
      "  Missing range: 2019-06-15 22:00:00+00:00 to 2019-06-17 21:00:00+00:00\n",
      "  Missing range: 2023-12-07 23:00:00+00:00 to 2023-12-08 22:00:00+00:00\n",
      "  Missing range: 2024-06-30 22:00:00+00:00 to 2024-07-31 23:00:00+00:00\n",
      "  Missing entries by year:\n",
      "    2019: 48\n",
      "    2023: 24\n",
      "    2024: 746\n",
      "\n",
      "SI:\n",
      "  Total missing entries: 722\n",
      "  Missing range: 2019-10-26 22:00:00+00:00 to 2019-10-27 22:00:00+00:00\n",
      "  Missing range: 2020-04-16 22:00:00+00:00 to 2020-04-19 21:00:00+00:00\n",
      "  Missing range: 2020-04-21 22:00:00+00:00 to 2020-04-24 21:00:00+00:00\n",
      "  Missing range: 2020-10-24 22:00:00+00:00 to 2020-10-25 22:00:00+00:00\n",
      "  Missing range: 2021-10-30 22:00:00+00:00 to 2021-10-31 22:00:00+00:00\n",
      "  Missing range: 2022-03-26 23:00:00+00:00 to 2022-03-27 21:00:00+00:00\n",
      "  Missing range: 2022-04-17 22:00:00+00:00 to 2022-04-18 21:00:00+00:00\n",
      "  Missing range: 2022-04-21 22:00:00+00:00 to 2022-05-07 21:00:00+00:00\n",
      "  Missing range: 2022-07-08 22:00:00+00:00 to 2022-07-09 21:00:00+00:00\n",
      "  Missing range: 2022-10-29 22:00:00+00:00 to 2022-10-30 22:00:00+00:00\n",
      "  Missing range: 2023-03-25 23:00:00+00:00 to 2023-03-26 21:00:00+00:00\n",
      "  Missing entries by year:\n",
      "    2019: 25\n",
      "    2020: 169\n",
      "    2021: 25\n",
      "    2022: 480\n",
      "    2023: 23\n"
     ]
    }
   ],
   "execution_count": 6
  },
  {
   "metadata": {
    "ExecuteTime": {
     "end_time": "2024-08-07T17:47:29.553713Z",
     "start_time": "2024-08-07T17:47:29.236517Z"
    }
   },
   "cell_type": "code",
   "source": "loadf = load_variable_data(start_date, end_date, \"load_forecast\", countries, True)  # load load forecast",
   "id": "97ff41a59538e7a1",
   "outputs": [
    {
     "name": "stdout",
     "output_type": "stream",
     "text": [
      "\n",
      "Missing data analysis:\n",
      "\n",
      "DE_LU:\n",
      "  Total missing entries: 49\n",
      "  Missing range: 2022-02-21 23:00:00+00:00 to 2022-02-22 22:00:00+00:00\n",
      "  Missing range: 2022-03-23 23:00:00+00:00 to 2022-03-24 22:00:00+00:00\n",
      "  Missing range: 2023-10-28 22:00:00+00:00 to 2023-10-28 22:00:00+00:00\n",
      "  Missing entries by year:\n",
      "    2022: 48\n",
      "    2023: 1\n",
      "\n",
      "HU:\n",
      "  Total missing entries: 97\n",
      "  Missing range: 2019-03-30 23:00:00+00:00 to 2019-03-31 21:00:00+00:00\n",
      "  Missing range: 2019-11-17 23:00:00+00:00 to 2019-11-18 22:00:00+00:00\n",
      "  Missing range: 2020-10-24 22:00:00+00:00 to 2020-10-25 22:00:00+00:00\n",
      "  Missing range: 2021-10-31 01:00:00+00:00 to 2021-10-31 01:00:00+00:00\n",
      "  Missing range: 2021-12-24 23:00:00+00:00 to 2021-12-25 22:00:00+00:00\n",
      "  Missing entries by year:\n",
      "    2019: 47\n",
      "    2020: 25\n",
      "    2021: 25\n",
      "\n",
      "SK:\n",
      "  Total missing entries: 746\n",
      "  Missing range: 2024-06-30 22:00:00+00:00 to 2024-07-31 23:00:00+00:00\n",
      "  Missing entries by year:\n",
      "    2024: 746\n",
      "\n",
      "SI:\n",
      "  Total missing entries: 215\n",
      "  Missing range: 2023-03-25 23:00:00+00:00 to 2023-03-26 21:00:00+00:00\n",
      "  Missing range: 2023-09-03 22:00:00+00:00 to 2023-09-04 21:00:00+00:00\n",
      "  Missing range: 2023-10-28 22:00:00+00:00 to 2023-10-29 22:00:00+00:00\n",
      "  Missing range: 2024-03-04 23:00:00+00:00 to 2024-03-05 22:00:00+00:00\n",
      "  Missing range: 2024-03-19 23:00:00+00:00 to 2024-03-20 22:00:00+00:00\n",
      "  Missing range: 2024-03-30 23:00:00+00:00 to 2024-03-31 21:00:00+00:00\n",
      "  Missing range: 2024-05-10 22:00:00+00:00 to 2024-05-11 21:00:00+00:00\n",
      "  Missing range: 2024-05-25 22:00:00+00:00 to 2024-05-26 21:00:00+00:00\n",
      "  Missing range: 2024-06-26 22:00:00+00:00 to 2024-06-27 21:00:00+00:00\n",
      "  Missing entries by year:\n",
      "    2023: 72\n",
      "    2024: 143\n"
     ]
    }
   ],
   "execution_count": 7
  },
  {
   "metadata": {
    "ExecuteTime": {
     "end_time": "2024-08-07T17:47:29.893800Z",
     "start_time": "2024-08-07T17:47:29.554503Z"
    }
   },
   "cell_type": "code",
   "source": "wsf = load_variable_data(start_date, end_date, \"wind_and_solar_forecast\", countries, True )  # load wind and solar forecast",
   "id": "bdbbfeea00f7d928",
   "outputs": [
    {
     "name": "stdout",
     "output_type": "stream",
     "text": [
      "\n",
      "Missing data analysis:\n",
      "\n",
      "FR:\n",
      "  Total missing entries: 219\n",
      "  Missing range: 2019-10-27 01:00:00+00:00 to 2019-10-27 22:00:00+00:00\n",
      "  Missing range: 2020-07-11 22:00:00+00:00 to 2020-07-13 21:00:00+00:00\n",
      "  Missing range: 2020-10-25 01:00:00+00:00 to 2020-10-25 22:00:00+00:00\n",
      "  Missing range: 2020-11-10 23:00:00+00:00 to 2020-11-12 22:00:00+00:00\n",
      "  Missing range: 2021-03-28 21:00:00+00:00 to 2021-03-28 21:00:00+00:00\n",
      "  Missing range: 2021-06-22 22:00:00+00:00 to 2021-06-23 21:00:00+00:00\n",
      "  Missing range: 2021-10-31 02:00:00+00:00 to 2021-10-31 22:00:00+00:00\n",
      "  Missing range: 2022-03-27 21:00:00+00:00 to 2022-03-27 21:00:00+00:00\n",
      "  Missing range: 2022-10-30 22:00:00+00:00 to 2022-10-30 22:00:00+00:00\n",
      "  Missing range: 2022-11-12 16:00:00+00:00 to 2022-11-12 22:00:00+00:00\n",
      "  Missing range: 2023-04-17 22:00:00+00:00 to 2023-04-18 21:00:00+00:00\n",
      "  Missing entries by year:\n",
      "    2019: 22\n",
      "    2020: 118\n",
      "    2021: 46\n",
      "    2022: 9\n",
      "    2023: 24\n",
      "\n",
      "NL:\n",
      "  Total missing entries: 24\n",
      "  Missing range: 2023-11-13 23:00:00+00:00 to 2023-11-14 22:00:00+00:00\n",
      "  Missing entries by year:\n",
      "    2023: 24\n",
      "\n",
      "PL:\n",
      "  Total missing entries: 48\n",
      "  Missing range: 2019-02-10 23:00:00+00:00 to 2019-02-11 22:00:00+00:00\n",
      "  Missing range: 2024-06-12 22:00:00+00:00 to 2024-06-13 21:00:00+00:00\n",
      "  Missing entries by year:\n",
      "    2019: 24\n",
      "    2024: 24\n",
      "\n",
      "RO:\n",
      "  Total missing entries: 72\n",
      "  Missing range: 2021-03-08 22:00:00+00:00 to 2021-03-09 21:00:00+00:00\n",
      "  Missing range: 2021-09-23 21:00:00+00:00 to 2021-09-24 20:00:00+00:00\n",
      "  Missing range: 2021-10-18 21:00:00+00:00 to 2021-10-19 20:00:00+00:00\n",
      "  Missing entries by year:\n",
      "    2021: 72\n",
      "\n",
      "SK:\n",
      "  Total missing entries: 168\n",
      "  Missing range: 2019-06-15 22:00:00+00:00 to 2019-06-17 21:00:00+00:00\n",
      "  Missing range: 2019-06-29 22:00:00+00:00 to 2019-06-30 21:00:00+00:00\n",
      "  Missing range: 2020-08-22 22:00:00+00:00 to 2020-08-23 21:00:00+00:00\n",
      "  Missing range: 2023-04-17 22:00:00+00:00 to 2023-04-18 21:00:00+00:00\n",
      "  Missing range: 2023-12-07 23:00:00+00:00 to 2023-12-08 22:00:00+00:00\n",
      "  Missing range: 2023-12-21 23:00:00+00:00 to 2023-12-22 22:00:00+00:00\n",
      "  Missing entries by year:\n",
      "    2019: 72\n",
      "    2020: 24\n",
      "    2023: 72\n",
      "\n",
      "SI:\n",
      "  Total missing entries: 673\n",
      "  Missing range: 2019-10-27 22:00:00+00:00 to 2019-10-27 22:00:00+00:00\n",
      "  Missing range: 2020-04-18 22:00:00+00:00 to 2020-04-20 21:00:00+00:00\n",
      "  Missing range: 2020-04-21 22:00:00+00:00 to 2020-04-22 21:00:00+00:00\n",
      "  Missing range: 2020-10-25 22:00:00+00:00 to 2020-10-25 22:00:00+00:00\n",
      "  Missing range: 2023-03-25 23:00:00+00:00 to 2023-03-26 21:00:00+00:00\n",
      "  Missing range: 2023-10-03 22:00:00+00:00 to 2023-10-04 21:00:00+00:00\n",
      "  Missing range: 2023-10-06 22:00:00+00:00 to 2023-10-10 21:00:00+00:00\n",
      "  Missing range: 2023-10-28 22:00:00+00:00 to 2023-10-29 22:00:00+00:00\n",
      "  Missing range: 2024-02-09 23:00:00+00:00 to 2024-02-10 22:00:00+00:00\n",
      "  Missing range: 2024-02-21 23:00:00+00:00 to 2024-02-23 22:00:00+00:00\n",
      "  Missing range: 2024-03-03 23:00:00+00:00 to 2024-03-04 22:00:00+00:00\n",
      "  Missing range: 2024-03-11 23:00:00+00:00 to 2024-03-12 22:00:00+00:00\n",
      "  Missing range: 2024-03-30 23:00:00+00:00 to 2024-03-31 21:00:00+00:00\n",
      "  Missing range: 2024-04-11 22:00:00+00:00 to 2024-04-12 21:00:00+00:00\n",
      "  Missing range: 2024-05-10 22:00:00+00:00 to 2024-05-11 21:00:00+00:00\n",
      "  Missing range: 2024-05-17 22:00:00+00:00 to 2024-05-18 21:00:00+00:00\n",
      "  Missing range: 2024-05-24 22:00:00+00:00 to 2024-05-25 21:00:00+00:00\n",
      "  Missing range: 2024-05-28 22:00:00+00:00 to 2024-05-29 21:00:00+00:00\n",
      "  Missing range: 2024-06-10 22:00:00+00:00 to 2024-06-11 21:00:00+00:00\n",
      "  Missing range: 2024-06-14 22:00:00+00:00 to 2024-06-15 21:00:00+00:00\n",
      "  Missing range: 2024-06-27 22:00:00+00:00 to 2024-06-28 21:00:00+00:00\n",
      "  Missing range: 2024-06-29 22:00:00+00:00 to 2024-06-30 21:00:00+00:00\n",
      "  Missing range: 2024-07-03 22:00:00+00:00 to 2024-07-04 21:00:00+00:00\n",
      "  Missing range: 2024-07-11 22:00:00+00:00 to 2024-07-12 21:00:00+00:00\n",
      "  Missing range: 2024-07-30 22:00:00+00:00 to 2024-07-31 21:00:00+00:00\n",
      "  Missing entries by year:\n",
      "    2019: 1\n",
      "    2020: 73\n",
      "    2023: 168\n",
      "    2024: 431\n"
     ]
    }
   ],
   "execution_count": 8
  },
  {
   "metadata": {
    "ExecuteTime": {
     "end_time": "2024-08-07T17:47:29.897463Z",
     "start_time": "2024-08-07T17:47:29.894576Z"
    }
   },
   "cell_type": "code",
   "source": [
    "# Make sure all variables have the same dimensions\n",
    "is_consistent = check_dataframe_consistency(dap, genf, loadf, wsf, verbose=True)"
   ],
   "id": "8ab272f1682daa26",
   "outputs": [
    {
     "name": "stdout",
     "output_type": "stream",
     "text": [
      "All dataframes are consistent in date range and dimensions\n"
     ]
    }
   ],
   "execution_count": 9
  },
  {
   "metadata": {
    "ExecuteTime": {
     "end_time": "2024-08-07T17:47:29.899882Z",
     "start_time": "2024-08-07T17:47:29.898072Z"
    }
   },
   "cell_type": "code",
   "source": "print(len(dap) == len(cg))  # Coal and Gas have same dims",
   "id": "d19566fa0830e4ab",
   "outputs": [
    {
     "name": "stdout",
     "output_type": "stream",
     "text": [
      "True\n"
     ]
    }
   ],
   "execution_count": 10
  },
  {
   "metadata": {
    "ExecuteTime": {
     "end_time": "2024-08-07T17:47:29.993606Z",
     "start_time": "2024-08-07T17:47:29.900556Z"
    }
   },
   "cell_type": "code",
   "source": [
    "# Save to Parquet\n",
    "cg.to_parquet(\"merged/coal_gas.parquet\")\n",
    "dap.to_parquet(\"merged/day_ahead_prices.parquet\")\n",
    "genf.to_parquet(\"merged/generation_forecast.parquet\")\n",
    "loadf.to_parquet(\"merged/load_forecast.parquet\")\n",
    "wsf.to_parquet(\"merged/wind_solar_forecast.parquet\")\n",
    "inscap.to_parquet(\"merged/installed_capacity_2019.parquet\")"
   ],
   "id": "a31c4056dfcb286f",
   "outputs": [],
   "execution_count": 11
  }
 ],
 "metadata": {
  "kernelspec": {
   "display_name": "Python 3",
   "language": "python",
   "name": "python3"
  },
  "language_info": {
   "codemirror_mode": {
    "name": "ipython",
    "version": 2
   },
   "file_extension": ".py",
   "mimetype": "text/x-python",
   "name": "python",
   "nbconvert_exporter": "python",
   "pygments_lexer": "ipython2",
   "version": "2.7.6"
  }
 },
 "nbformat": 4,
 "nbformat_minor": 5
}

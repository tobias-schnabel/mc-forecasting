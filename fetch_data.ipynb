{
 "cells": [
  {
   "cell_type": "code",
   "id": "initial_id",
   "metadata": {
    "collapsed": true,
    "ExecuteTime": {
     "end_time": "2024-07-31T22:31:50.802815Z",
     "start_time": "2024-07-31T22:31:50.469526Z"
    }
   },
   "source": [
    "from entsoe import EntsoePandasClient\n",
    "from entsoe.exceptions import NoMatchingDataError\n",
    "from tqdm.notebook import tqdm\n",
    "import pandas as pd\n",
    "import os\n",
    "from dotenv import load_dotenv\n",
    "from retrying import retry"
   ],
   "outputs": [],
   "execution_count": 1
  },
  {
   "metadata": {
    "ExecuteTime": {
     "end_time": "2024-07-31T22:31:50.806409Z",
     "start_time": "2024-07-31T22:31:50.803706Z"
    }
   },
   "cell_type": "code",
   "source": [
    "load_dotenv()  # load env file\n",
    "entsoe_key = os.getenv(\"ENTSOE_API_KEY\")  # Get API keys from .env file\n",
    "\n",
    "# Instantiate the ENTSOE Client\n",
    "client = EntsoePandasClient(api_key=entsoe_key)"
   ],
   "id": "389df75d72a70bb1",
   "outputs": [],
   "execution_count": 2
  },
  {
   "metadata": {
    "ExecuteTime": {
     "end_time": "2024-07-31T22:31:50.808575Z",
     "start_time": "2024-07-31T22:31:50.806907Z"
    }
   },
   "cell_type": "code",
   "source": [
    "# Define the time range\n",
    "start = pd.Timestamp(\"20240101\", tz=\"UTC\")\n",
    "end = pd.Timestamp(\"20240103\", tz=\"UTC\")\n",
    "\n",
    "# Define the countries AT BE HR CZ FR DE HU LU NL PL RO SK SI   \n",
    "# HR causing problems in 2019\n",
    "# SK problems in July of 2024, installed gen cap also early 2024\n",
    "countries = [\"AT\", \"BE\", \"HR\", \"CZ\", \"FR\", \"DE_LU\", \"HU\",\"NL\", \"PL\", \"RO\", \"SK\", \"SI\", \"PL\", \"CH\"]"
   ],
   "id": "4dba93020aef610f",
   "outputs": [],
   "execution_count": 3
  },
  {
   "metadata": {
    "ExecuteTime": {
     "end_time": "2024-07-31T22:31:50.813264Z",
     "start_time": "2024-07-31T22:31:50.809975Z"
    }
   },
   "cell_type": "code",
   "source": [
    "@retry(stop_max_attempt_number=5, wait_fixed=5000)\n",
    "def query_and_save(query_func, filename_template, countries=countries, start=start, end=end, **kwargs):\n",
    "    \"\"\"\n",
    "    Query data for multiple countries and save to CSV files.\n",
    "\n",
    "    Args:\n",
    "        query_func (callable): The function to use for querying data.\n",
    "        countries (list): List of country codes to query data for.\n",
    "        start (datetime): The start date/time for the query.\n",
    "        end (datetime): The end date/time for the query.\n",
    "        filename_template (str): Template for the filename to save the CSV data.\n",
    "        **kwargs: Additional keyword arguments to pass to the query function.\n",
    "    \"\"\"\n",
    "    no_data_countries = []\n",
    "    error_countries = []\n",
    "    nan_summary = {}\n",
    "    successful_queries = 0\n",
    "\n",
    "    dir_name = filename_template.split('_{}')[0]\n",
    "    subdir = os.path.join(\"raw_data\", dir_name)\n",
    "    os.makedirs(subdir, exist_ok=True)\n",
    "\n",
    "    for country in tqdm(countries, desc=f\"Processing {query_func.__name__}\"):\n",
    "        try:\n",
    "            data = query_func(country_code=country, start=start, end=end, **kwargs)\n",
    "            \n",
    "            df_out = pd.DataFrame(data)\n",
    "            \n",
    "            nan_count = df_out.isna().sum().sum()\n",
    "            total_count = df_out.size\n",
    "            nan_summary[country] = (nan_count, total_count)\n",
    "            \n",
    "            filename = filename_template.format(country)\n",
    "            filepath = os.path.join(subdir, filename)\n",
    "            df_out.to_csv(filepath, index_label='date')\n",
    "\n",
    "            successful_queries += 1\n",
    "\n",
    "        except NoMatchingDataError:\n",
    "            no_data_countries.append(country)\n",
    "        except Exception as e:\n",
    "            tqdm.write(f\"Error querying data for {country}: {e}\")\n",
    "            error_countries.append(country)\n",
    "\n",
    "    print(\"\\n Summary:\")\n",
    "    for country, (nan_count, total_count) in nan_summary.items():\n",
    "        if nan_count > 0:\n",
    "            print(f\"{country}: {nan_count} NaNs out of {total_count} datapoints\")\n",
    "\n",
    "    print(f\"\\nSuccessful queries: {successful_queries} / {len(countries)} countries\")\n",
    "\n",
    "    if no_data_countries:\n",
    "        print(f\"\\nNo matching data for: {', '.join(no_data_countries)}\")\n",
    "    \n",
    "    if error_countries:\n",
    "        print(f\"\\nErrors occurred for: {', '.join(error_countries)}\")"
   ],
   "id": "c830b6020417b917",
   "outputs": [],
   "execution_count": 4
  },
  {
   "metadata": {},
   "cell_type": "markdown",
   "source": "## Data availability test",
   "id": "586d697e90b102f2"
  },
  {
   "metadata": {},
   "cell_type": "markdown",
   "source": "### Day-ahead prices",
   "id": "30a6b0d711805427"
  },
  {
   "metadata": {
    "ExecuteTime": {
     "end_time": "2024-07-31T22:32:10.587429Z",
     "start_time": "2024-07-31T22:31:50.813865Z"
    }
   },
   "cell_type": "code",
   "source": [
    "query_and_save(\n",
    "    query_func=client.query_day_ahead_prices,\n",
    "    filename_template=\"day_ahead_prices_{}.csv\",\n",
    ")"
   ],
   "id": "7548272c9f5548a3",
   "outputs": [
    {
     "data": {
      "text/plain": [
       "Processing query_day_ahead_prices:   0%|          | 0/14 [00:00<?, ?it/s]"
      ],
      "application/vnd.jupyter.widget-view+json": {
       "version_major": 2,
       "version_minor": 0,
       "model_id": "8194ae9597f34eff92f26a91b6c32916"
      }
     },
     "metadata": {},
     "output_type": "display_data"
    },
    {
     "name": "stdout",
     "output_type": "stream",
     "text": [
      "\n",
      " Summary:\n",
      "\n",
      "Successful queries: 14 out of 14 countries\n"
     ]
    }
   ],
   "execution_count": 5
  },
  {
   "metadata": {},
   "cell_type": "markdown",
   "source": "",
   "id": "f0ccc5c4ceef4bdc"
  },
  {
   "metadata": {},
   "cell_type": "markdown",
   "source": "### Load forecast",
   "id": "3bab4e225aced01e"
  },
  {
   "metadata": {
    "ExecuteTime": {
     "end_time": "2024-07-31T22:32:19.150850Z",
     "start_time": "2024-07-31T22:32:10.589078Z"
    }
   },
   "cell_type": "code",
   "source": [
    "query_and_save(\n",
    "    query_func=client.query_load_forecast,\n",
    "    filename_template=\"load_forecast_{}.csv\",\n",
    ")"
   ],
   "id": "85afc854f350d569",
   "outputs": [
    {
     "data": {
      "text/plain": [
       "Processing query_load_forecast:   0%|          | 0/14 [00:00<?, ?it/s]"
      ],
      "application/vnd.jupyter.widget-view+json": {
       "version_major": 2,
       "version_minor": 0,
       "model_id": "5d84bd0f89ca46d28f126856f3645f55"
      }
     },
     "metadata": {},
     "output_type": "display_data"
    },
    {
     "name": "stderr",
     "output_type": "stream",
     "text": [
      "Connection Error, retrying in 0 seconds\n"
     ]
    },
    {
     "name": "stdout",
     "output_type": "stream",
     "text": [
      "Error querying data for PL: ('Connection aborted.', RemoteDisconnected('Remote end closed connection without response'))\n",
      "\n",
      " Summary:\n",
      "\n",
      "Successful queries: 13 out of 14 countries\n",
      "\n",
      "Errors occurred for: PL\n"
     ]
    }
   ],
   "execution_count": 6
  },
  {
   "metadata": {},
   "cell_type": "markdown",
   "source": "### Generation forecast",
   "id": "3f097e563a30b7e2"
  },
  {
   "metadata": {
    "ExecuteTime": {
     "end_time": "2024-07-31T22:32:31.344807Z",
     "start_time": "2024-07-31T22:32:19.151864Z"
    }
   },
   "cell_type": "code",
   "source": [
    "query_and_save(\n",
    "    query_func=client.query_generation_forecast,\n",
    "    filename_template=\"generation_forecast_{}.csv\",\n",
    ")"
   ],
   "id": "47cc927cf5781b32",
   "outputs": [
    {
     "data": {
      "text/plain": [
       "Processing query_generation_forecast:   0%|          | 0/14 [00:00<?, ?it/s]"
      ],
      "application/vnd.jupyter.widget-view+json": {
       "version_major": 2,
       "version_minor": 0,
       "model_id": "d09f63fad189423ebc66ed91ab8deffe"
      }
     },
     "metadata": {},
     "output_type": "display_data"
    },
    {
     "name": "stdout",
     "output_type": "stream",
     "text": [
      "\n",
      " Summary:\n",
      "\n",
      "Successful queries: 14 out of 14 countries\n"
     ]
    }
   ],
   "execution_count": 7
  },
  {
   "metadata": {},
   "cell_type": "markdown",
   "source": "### Wind and solar forecast",
   "id": "48a7be74dfd13e21"
  },
  {
   "metadata": {
    "ExecuteTime": {
     "end_time": "2024-07-31T22:32:44.853876Z",
     "start_time": "2024-07-31T22:32:31.346181Z"
    }
   },
   "cell_type": "code",
   "source": [
    "query_and_save(\n",
    "    query_func=client.query_wind_and_solar_forecast,\n",
    "    filename_template=\"wind_and_solar_forecast_{}.csv\",\n",
    ")"
   ],
   "id": "a7467149877639e6",
   "outputs": [
    {
     "data": {
      "text/plain": [
       "Processing query_wind_and_solar_forecast:   0%|          | 0/14 [00:00<?, ?it/s]"
      ],
      "application/vnd.jupyter.widget-view+json": {
       "version_major": 2,
       "version_minor": 0,
       "model_id": "c11df999d400469bbcd7445781c3198d"
      }
     },
     "metadata": {},
     "output_type": "display_data"
    },
    {
     "name": "stdout",
     "output_type": "stream",
     "text": [
      "\n",
      " Summary:\n",
      "\n",
      "Successful queries: 14 out of 14 countries\n"
     ]
    }
   ],
   "execution_count": 8
  },
  {
   "metadata": {},
   "cell_type": "markdown",
   "source": "### Installed Generation Capacity",
   "id": "59be9bb4ad7ca5db"
  },
  {
   "metadata": {
    "ExecuteTime": {
     "end_time": "2024-07-31T22:33:21.381368Z",
     "start_time": "2024-07-31T22:32:44.855288Z"
    }
   },
   "cell_type": "code",
   "source": [
    "query_and_save(\n",
    "    query_func=client.query_installed_generation_capacity,\n",
    "    filename_template=\"installed_generation_capacity_{}.csv\",\n",
    ")"
   ],
   "id": "fca898653108ee95",
   "outputs": [
    {
     "data": {
      "text/plain": [
       "Processing query_installed_generation_capacity:   0%|          | 0/14 [00:00<?, ?it/s]"
      ],
      "application/vnd.jupyter.widget-view+json": {
       "version_major": 2,
       "version_minor": 0,
       "model_id": "5444941f7c364b94aeb5baa1c670be97"
      }
     },
     "metadata": {},
     "output_type": "display_data"
    },
    {
     "name": "stdout",
     "output_type": "stream",
     "text": [
      "\n",
      " Summary:\n",
      "\n",
      "Successful queries: 13 out of 14 countries\n",
      "\n",
      "No matching data for: SK\n"
     ]
    }
   ],
   "execution_count": 9
  }
 ],
 "metadata": {
  "kernelspec": {
   "display_name": "Python 3",
   "language": "python",
   "name": "python3"
  },
  "language_info": {
   "codemirror_mode": {
    "name": "ipython",
    "version": 2
   },
   "file_extension": ".py",
   "mimetype": "text/x-python",
   "name": "python",
   "nbconvert_exporter": "python",
   "pygments_lexer": "ipython2",
   "version": "2.7.6"
  }
 },
 "nbformat": 4,
 "nbformat_minor": 5
}

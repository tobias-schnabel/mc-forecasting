{
 "cells": [
  {
   "metadata": {
    "ExecuteTime": {
     "end_time": "2024-09-07T15:53:43.461095Z",
     "start_time": "2024-09-07T15:53:42.856188Z"
    }
   },
   "cell_type": "code",
   "source": [
    "import pandas as pd\n",
    "import os\n",
    "import getpass\n",
    "from pylatex import Table, NoEscape, Command\n",
    "\n",
    "export_username = \"ts\"  # Only save tables to dropbox on my machine"
   ],
   "id": "59125d5ef55f9ea6",
   "outputs": [],
   "execution_count": 1
  },
  {
   "metadata": {
    "ExecuteTime": {
     "end_time": "2024-09-07T15:53:43.503104Z",
     "start_time": "2024-09-07T15:53:43.494710Z"
    }
   },
   "cell_type": "code",
   "source": [
    "def create_latex_table_content(df, caption, label, colnames=None):\n",
    "    \"\"\"\n",
    "    Create LaTeX table content from a pandas DataFrame.\n",
    "    Automatically formats columns with all integer-like floats as integers.\n",
    "    Uses 'H' float specifier, centers all values except the leftmost column,\n",
    "    adds vertical lines between columns after the first one,\n",
    "    ensures the table fits within textwidth, and allows line breaks in column names.\n",
    "    \n",
    "    Args:\n",
    "    df (pd.DataFrame): Input DataFrame\n",
    "    caption (str): Table caption\n",
    "    label (str): Table label for referencing\n",
    "    colnames (list): List of column names. If None, uses df.columns. Use \\\\\\ for line breaks (will cause warning).\n",
    "    \n",
    "    Returns:\n",
    "    str: LaTeX code for the table\n",
    "    \"\"\"\n",
    "    table_content = []\n",
    "    table_content.append(r'\\begin{table}[H]')\n",
    "    table_content.append(r'\\centering')\n",
    "    table_content.append(f'\\\\caption{{{caption}}}')\n",
    "    table_content.append(f'\\\\label{{{label}}}')\n",
    "    \n",
    "    # Ensure table fits within text width\n",
    "    table_content.append(r'\\resizebox{\\textwidth}{!}{')\n",
    "    \n",
    "    # Infer number of columns from df and create table format\n",
    "    num_cols = len(df.columns) + 1  # +1 for the index column\n",
    "    table_format = 'l' + '|c' * (num_cols - 1)\n",
    "    table_content.append(f'\\\\begin{{tabular}}{{{table_format}}}')\n",
    "    \n",
    "    # Use provided column names or df.columns, and add 'Dataset' for the index\n",
    "    if colnames is None:\n",
    "        colnames = ['Dataset'] + list(df.columns)\n",
    "    \n",
    "    # Wrap column names with \\makecell to allow line breaks\n",
    "    wrapped_colnames = [f'\\\\makecell{{{name}}}' for name in colnames]\n",
    "    table_content.append(' & '.join(wrapped_colnames) + r' \\\\')\n",
    "    \n",
    "    # Add cline after column names\n",
    "    table_content.append(r'\\cline{1-' + str(num_cols) + '}')\n",
    "    \n",
    "    # Determine which columns should be formatted as integers\n",
    "    int_columns = [col for col in df.columns if df[col].dtype in ['float64', 'int64'] and \n",
    "                   df[col].apply(lambda x: x.is_integer() if isinstance(x, float) else True).all()]\n",
    "    \n",
    "    for index, row in df.iterrows():\n",
    "        row_content = [f\"{index}\"]  # Start with the index (dataset name)\n",
    "        for col, value in row.items():\n",
    "            if pd.isna(value):\n",
    "                row_content.append('')\n",
    "            elif isinstance(value, (int, float)):\n",
    "                if col in int_columns:\n",
    "                    row_content.append(f\"\\\\num{{{int(value):,}}}\")\n",
    "                elif value < 1 and value > 0:  # Assume it's a percentage\n",
    "                    row_content.append(f\"\\\\num{{{value*100:.4f}}}\\\\%\")\n",
    "                else:\n",
    "                    row_content.append(f\"\\\\num{{{value:,}}}\")\n",
    "            else:\n",
    "                row_content.append(f\"{value}\")\n",
    "        table_content.append(' & '.join(row_content) + r' \\\\')\n",
    "    \n",
    "    # Add bottom line\n",
    "    table_content.append(r'\\hline')\n",
    "    table_content.append(r'\\end{tabular}')\n",
    "    table_content.append(r'}')  # Close resizebox\n",
    "    table_content.append(r'\\end{table}')\n",
    "    \n",
    "    return '\\n'.join(table_content)"
   ],
   "id": "6fd7ffad79486ede",
   "outputs": [
    {
     "name": "stderr",
     "output_type": "stream",
     "text": [
      "<>:2: SyntaxWarning: invalid escape sequence '\\ '\n",
      "<>:2: SyntaxWarning: invalid escape sequence '\\ '\n",
      "/var/folders/lq/x2t80c813gsbg58jgjy302hc0000gn/T/ipykernel_32909/1479183484.py:2: SyntaxWarning: invalid escape sequence '\\ '\n",
      "  \"\"\"\n"
     ]
    }
   ],
   "execution_count": 2
  },
  {
   "metadata": {
    "ExecuteTime": {
     "end_time": "2024-09-07T15:53:43.633145Z",
     "start_time": "2024-09-07T15:53:43.623571Z"
    }
   },
   "cell_type": "code",
   "source": [
    "def save_latex_table_content(content, filename):\n",
    "    \"\"\"\n",
    "    Save LaTeX table content to a file, but only if on the specified machine.\n",
    "    \n",
    "    Args:\n",
    "    content (str): LaTeX table content to save\n",
    "    filename (str): Name of the file to save (without extension)\n",
    "    \n",
    "    Returns:\n",
    "    None\n",
    "    \"\"\"\n",
    "    username = getpass.getuser()\n",
    "    if username == export_username:\n",
    "        filepath = \"/Users/ts/Library/CloudStorage/Dropbox/Apps/Overleaf/Dissertation Oxford/Tables\"\n",
    "        full_filename = os.path.join(filepath, filename + \".tex\")\n",
    "        \n",
    "        with open(full_filename, 'w') as file:\n",
    "            file.write(content)\n",
    "        \n",
    "        print(f\"Table content saved to {full_filename}\")\n",
    "    else:\n",
    "        print(\"Table content not saved (not on the specified machine)\")"
   ],
   "id": "6bb8a0dc424524fc",
   "outputs": [],
   "execution_count": 3
  },
  {
   "metadata": {
    "ExecuteTime": {
     "end_time": "2024-09-07T15:53:43.872319Z",
     "start_time": "2024-09-07T15:53:43.728151Z"
    }
   },
   "cell_type": "code",
   "source": [
    "# Load the data\n",
    "df = pd.read_parquet('analysis/summary-stats/data_quality_summary.parquet')\n",
    "\n",
    "# Create the table content\n",
    "latex_table_content = create_latex_table_content(\n",
    "    df,\n",
    "    caption=\"Data Quality Summary\",\n",
    "    label=\"tab:data_quality_summary\",\n",
    "    colnames=[\"Dataset\", \"Total Entries\", \"Missing Entries\", \"Missing \\\\%\", \"Longest Missing \\\\\\Streak\", \"Overlapping Missing \\\\\\Entries\"]\n",
    ")\n",
    "\n",
    "# Save the table content\n",
    "save_latex_table_content(latex_table_content, \"data_summary\")"
   ],
   "id": "da22e67633d95654",
   "outputs": [
    {
     "name": "stdout",
     "output_type": "stream",
     "text": [
      "Table content saved to /Users/ts/Library/CloudStorage/Dropbox/Apps/Overleaf/Dissertation Oxford/Tables/data_summary.tex\n"
     ]
    },
    {
     "name": "stderr",
     "output_type": "stream",
     "text": [
      "<>:9: SyntaxWarning: invalid escape sequence '\\S'\n",
      "<>:9: SyntaxWarning: invalid escape sequence '\\E'\n",
      "<>:9: SyntaxWarning: invalid escape sequence '\\S'\n",
      "<>:9: SyntaxWarning: invalid escape sequence '\\E'\n",
      "/var/folders/lq/x2t80c813gsbg58jgjy302hc0000gn/T/ipykernel_32909/791088595.py:9: SyntaxWarning: invalid escape sequence '\\S'\n",
      "  colnames=[\"Dataset\", \"Total Entries\", \"Missing Entries\", \"Missing \\\\%\", \"Longest Missing \\\\\\Streak\", \"Overlapping Missing \\\\\\Entries\"]\n",
      "/var/folders/lq/x2t80c813gsbg58jgjy302hc0000gn/T/ipykernel_32909/791088595.py:9: SyntaxWarning: invalid escape sequence '\\E'\n",
      "  colnames=[\"Dataset\", \"Total Entries\", \"Missing Entries\", \"Missing \\\\%\", \"Longest Missing \\\\\\Streak\", \"Overlapping Missing \\\\\\Entries\"]\n"
     ]
    }
   ],
   "execution_count": 4
  },
  {
   "metadata": {
    "ExecuteTime": {
     "end_time": "2024-09-07T15:53:43.977498Z",
     "start_time": "2024-09-07T15:53:43.971475Z"
    }
   },
   "cell_type": "code",
   "source": "",
   "id": "cd27e49f8c5f0374",
   "outputs": [],
   "execution_count": null
  }
 ],
 "metadata": {
  "kernelspec": {
   "display_name": "Python 3",
   "language": "python",
   "name": "python3"
  },
  "language_info": {
   "codemirror_mode": {
    "name": "ipython",
    "version": 2
   },
   "file_extension": ".py",
   "mimetype": "text/x-python",
   "name": "python",
   "nbconvert_exporter": "python",
   "pygments_lexer": "ipython2",
   "version": "2.7.6"
  }
 },
 "nbformat": 4,
 "nbformat_minor": 5
}

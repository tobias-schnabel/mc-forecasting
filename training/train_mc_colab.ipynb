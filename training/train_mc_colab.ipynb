{
 "cells": [
  {
   "cell_type": "code",
   "execution_count": null,
   "id": "initial_id",
   "metadata": {
    "collapsed": true
   },
   "outputs": [],
   "source": [
    "import pandas as pd\n",
    "\n",
    "from data_utils import setup_environment\n",
    "from models.mcnnm import MCNNMEstimator"
   ]
  },
  {
   "metadata": {},
   "cell_type": "code",
   "outputs": [],
   "execution_count": null,
   "source": [
    "setup_paths, DataLoader, ForecastEngine = setup_environment()\n",
    "\n",
    "data_dir, base_dir, tuning_dir, results_dir = setup_paths()\n",
    "data_loader = DataLoader(data_dir)\n",
    "\n",
    "mc = MCNNMEstimator(\"MCNNM\", results_dir, use_db=False)\n",
    "\n",
    "engine = ForecastEngine(data_loader, [mc])\n",
    "\n",
    "start_date = pd.Timestamp(\"2019-01-01\", tz='UTC')\n",
    "end_date = pd.Timestamp(\"2019-12-31\", tz='UTC')\n",
    "\n",
    "try:\n",
    "    engine.run_forecast(start_date, end_date)\n",
    "except KeyboardInterrupt:\n",
    "    print(\"Training interrupted. Saving final results...\")\n",
    "    engine._save_final_results()\n",
    "    engine._save_final_hyperparameters()\n"
   ],
   "id": "f0a2745f2acf667f"
  }
 ],
 "metadata": {
  "kernelspec": {
   "display_name": "Python 3",
   "language": "python",
   "name": "python3"
  },
  "language_info": {
   "codemirror_mode": {
    "name": "ipython",
    "version": 2
   },
   "file_extension": ".py",
   "mimetype": "text/x-python",
   "name": "python",
   "nbconvert_exporter": "python",
   "pygments_lexer": "ipython2",
   "version": "2.7.6"
  }
 },
 "nbformat": 4,
 "nbformat_minor": 5
}

{
 "cells": [
  {
   "cell_type": "code",
   "id": "initial_id",
   "metadata": {
    "collapsed": true,
    "ExecuteTime": {
     "end_time": "2024-08-17T01:26:38.427166Z",
     "start_time": "2024-08-17T01:26:37.659098Z"
    }
   },
   "source": [
    "import sys\n",
    "import os\n",
    "import pytz\n",
    "sys.path.append(os.path.abspath('..'))\n",
    "from datetime import datetime, timedelta\n",
    "from data_loader import DataLoader\n",
    "from forecast_engine import ForecastEngine\n",
    "from models.simple_regression import SimpleRegressionEstimator"
   ],
   "outputs": [],
   "execution_count": 1
  },
  {
   "metadata": {
    "ExecuteTime": {
     "end_time": "2024-08-17T01:26:38.432123Z",
     "start_time": "2024-08-17T01:26:38.430407Z"
    }
   },
   "cell_type": "code",
   "source": [
    "# Initialize DataLoader\n",
    "data_loader = DataLoader(\"../data/cleaned\")"
   ],
   "id": "3784790d765ea63b",
   "outputs": [],
   "execution_count": 2
  },
  {
   "metadata": {
    "ExecuteTime": {
     "end_time": "2024-08-17T01:26:38.505902Z",
     "start_time": "2024-08-17T01:26:38.503940Z"
    }
   },
   "cell_type": "code",
   "source": [
    "# Initialize Estimator\n",
    "base_dir = \"../scratch\"\n",
    "estimator = SimpleRegressionEstimator(\"SimpleRegression\", os.path.join(base_dir, \"SimpleRegression\"))"
   ],
   "id": "6066ef8c22f8d63a",
   "outputs": [],
   "execution_count": 3
  },
  {
   "metadata": {
    "ExecuteTime": {
     "end_time": "2024-08-17T01:26:38.566899Z",
     "start_time": "2024-08-17T01:26:38.511025Z"
    }
   },
   "cell_type": "code",
   "source": [
    "# Initialize ForecastEngine\n",
    "forecast_engine = ForecastEngine(data_loader, [estimator], base_dir)"
   ],
   "id": "fddfb121fa6dae06",
   "outputs": [],
   "execution_count": 4
  },
  {
   "metadata": {
    "ExecuteTime": {
     "end_time": "2024-08-17T01:26:38.573542Z",
     "start_time": "2024-08-17T01:26:38.571755Z"
    }
   },
   "cell_type": "code",
   "source": [
    "utc = pytz.UTC\n",
    "start_date = utc.localize(datetime(2019, 1, 1))\n",
    "end_date = utc.localize(datetime(2019, 1, 31))"
   ],
   "id": "bc0d8ec12cac8f04",
   "outputs": [],
   "execution_count": 5
  },
  {
   "metadata": {
    "ExecuteTime": {
     "end_time": "2024-08-17T01:26:38.711446Z",
     "start_time": "2024-08-17T01:26:38.579015Z"
    }
   },
   "cell_type": "code",
   "source": "forecast_engine.run_forecast(start_date, end_date)",
   "id": "adfe2b191ced5d11",
   "outputs": [
    {
     "name": "stderr",
     "output_type": "stream",
     "text": [
      "Forecasting Progress: 100%|██████████| 30/30 [00:00<00:00, 253.69it/s]"
     ]
    },
    {
     "name": "stdout",
     "output_type": "stream",
     "text": [
      "Results for SimpleRegression saved to ../scratch/SimpleRegression_results.parquet\n"
     ]
    },
    {
     "name": "stderr",
     "output_type": "stream",
     "text": [
      "\n"
     ]
    }
   ],
   "execution_count": 6
  },
  {
   "metadata": {
    "ExecuteTime": {
     "end_time": "2024-08-17T01:26:38.806645Z",
     "start_time": "2024-08-17T01:26:38.802310Z"
    }
   },
   "cell_type": "code",
   "source": [
    "# Check results\n",
    "print(forecast_engine.results['SimpleRegression'].tail())"
   ],
   "id": "56f0d6af46b204fd",
   "outputs": [
    {
     "name": "stdout",
     "output_type": "stream",
     "text": [
      "               forecast_date        MAE       RMSE       MAPE      sMAPE  \\\n",
      "24 2019-01-26 00:00:00+00:00  16.353312  31.442973  21.675968  18.522929   \n",
      "25 2019-01-27 00:00:00+00:00  12.757805  27.560859  12.341002  11.839094   \n",
      "26 2019-01-28 00:00:00+00:00  13.027052  29.980772  10.095814   9.318413   \n",
      "27 2019-01-29 00:00:00+00:00   7.847342  12.174400   8.772179   8.497200   \n",
      "28 2019-01-30 00:00:00+00:00  12.710585  19.563150  12.737023  12.028027   \n",
      "\n",
      "        rMAE  \n",
      "24  0.494962  \n",
      "25  0.873100  \n",
      "26  0.573277  \n",
      "27  0.843561  \n",
      "28  3.056832  \n"
     ]
    }
   ],
   "execution_count": 7
  }
 ],
 "metadata": {
  "kernelspec": {
   "display_name": "Python 3",
   "language": "python",
   "name": "python3"
  },
  "language_info": {
   "codemirror_mode": {
    "name": "ipython",
    "version": 2
   },
   "file_extension": ".py",
   "mimetype": "text/x-python",
   "name": "python",
   "nbconvert_exporter": "python",
   "pygments_lexer": "ipython2",
   "version": "2.7.6"
  }
 },
 "nbformat": 4,
 "nbformat_minor": 5
}

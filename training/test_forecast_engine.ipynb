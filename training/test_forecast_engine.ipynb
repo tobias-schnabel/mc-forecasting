{
 "cells": [
  {
   "cell_type": "code",
   "id": "initial_id",
   "metadata": {
    "collapsed": true,
    "ExecuteTime": {
     "end_time": "2024-08-17T16:46:18.065030Z",
     "start_time": "2024-08-17T16:46:16.925926Z"
    }
   },
   "source": [
    "import sys\n",
    "import os\n",
    "import pandas as pd\n",
    "sys.path.append(os.path.abspath('..'))\n",
    "from data_utils import setup_paths\n",
    "from data_loader import DataLoader\n",
    "from forecast_engine import ForecastEngine\n",
    "from models.simple_regression import SimpleRegressionEstimator"
   ],
   "outputs": [],
   "execution_count": 1
  },
  {
   "metadata": {
    "ExecuteTime": {
     "end_time": "2024-08-17T16:46:18.140910Z",
     "start_time": "2024-08-17T16:46:18.068631Z"
    }
   },
   "cell_type": "code",
   "source": [
    "# Set up paths\n",
    "data_dir, base_dir, tuning_dir, results_dir = setup_paths('scratch')\n",
    "data_loader = DataLoader(data_dir)\n",
    "estimator = SimpleRegressionEstimator(\"SimpleRegression\", results_dir, use_db=False)\n",
    "forecast_engine = ForecastEngine(data_loader, [estimator])"
   ],
   "id": "3784790d765ea63b",
   "outputs": [],
   "execution_count": 2
  },
  {
   "metadata": {
    "ExecuteTime": {
     "end_time": "2024-08-17T16:46:18.238346Z",
     "start_time": "2024-08-17T16:46:18.236191Z"
    }
   },
   "cell_type": "code",
   "source": [
    "start_date = pd.Timestamp(\"2019-01-01\", tz='UTC')\n",
    "end_date = pd.Timestamp(\"2019-06-30\", tz='UTC')"
   ],
   "id": "bc0d8ec12cac8f04",
   "outputs": [],
   "execution_count": 3
  },
  {
   "metadata": {
    "ExecuteTime": {
     "end_time": "2024-08-17T16:46:19.473839Z",
     "start_time": "2024-08-17T16:46:18.244435Z"
    }
   },
   "cell_type": "code",
   "source": "forecast_engine.run_forecast(start_date, end_date)",
   "id": "adfe2b191ced5d11",
   "outputs": [
    {
     "name": "stderr",
     "output_type": "stream",
     "text": [
      "Forecasting Progress: 100%|██████████| 180/180 [00:01<00:00, 148.14it/s]"
     ]
    },
    {
     "name": "stdout",
     "output_type": "stream",
     "text": [
      "Results for SimpleRegression saved\n"
     ]
    },
    {
     "name": "stderr",
     "output_type": "stream",
     "text": [
      "\n"
     ]
    }
   ],
   "execution_count": 4
  },
  {
   "metadata": {
    "ExecuteTime": {
     "end_time": "2024-08-17T16:46:19.539550Z",
     "start_time": "2024-08-17T16:46:19.533821Z"
    }
   },
   "cell_type": "code",
   "source": [
    "# Check results\n",
    "print(forecast_engine.results['SimpleRegression'].head())"
   ],
   "id": "56f0d6af46b204fd",
   "outputs": [
    {
     "name": "stdout",
     "output_type": "stream",
     "text": [
      "              forecast_date         MAE        RMSE        MAPE       sMAPE  \\\n",
      "0 2019-01-02 00:00:00+00:00  392.935358  618.836740  441.977781  136.666549   \n",
      "1 2019-01-03 00:00:00+00:00   78.902088  125.114281   82.092609   70.070914   \n",
      "2 2019-01-04 00:00:00+00:00   35.492502   65.082057   36.259354   30.203218   \n",
      "3 2019-01-05 00:00:00+00:00   19.074391   34.619745   19.918452   22.007449   \n",
      "4 2019-01-06 00:00:00+00:00   27.265442   49.876811   31.031256   34.349666   \n",
      "\n",
      "       rMAE  fit_time  predict_time  optimize_time  total_time  \n",
      "0  7.268463  0.001370      0.000194              0    0.001564  \n",
      "1  2.599409  0.000690      0.000109              0    0.000799  \n",
      "2  2.087713  0.000595      0.000088              0    0.000683  \n",
      "3  0.902669  0.000726      0.000129              0    0.000855  \n",
      "4  1.268000  0.000620      0.000086              0    0.000706  \n"
     ]
    }
   ],
   "execution_count": 5
  },
  {
   "metadata": {
    "ExecuteTime": {
     "end_time": "2024-08-17T16:46:19.605761Z",
     "start_time": "2024-08-17T16:46:19.604271Z"
    }
   },
   "cell_type": "code",
   "source": "",
   "id": "7b6163650cd8b156",
   "outputs": [],
   "execution_count": null
  }
 ],
 "metadata": {
  "kernelspec": {
   "display_name": "Python 3",
   "language": "python",
   "name": "python3"
  },
  "language_info": {
   "codemirror_mode": {
    "name": "ipython",
    "version": 2
   },
   "file_extension": ".py",
   "mimetype": "text/x-python",
   "name": "python",
   "nbconvert_exporter": "python",
   "pygments_lexer": "ipython2",
   "version": "2.7.6"
  }
 },
 "nbformat": 4,
 "nbformat_minor": 5
}

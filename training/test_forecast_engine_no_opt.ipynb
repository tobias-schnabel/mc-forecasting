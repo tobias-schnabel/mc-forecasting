{
 "cells": [
  {
   "cell_type": "code",
   "id": "initial_id",
   "metadata": {
    "collapsed": true,
    "ExecuteTime": {
     "end_time": "2024-08-17T22:35:23.774400Z",
     "start_time": "2024-08-17T22:35:22.871214Z"
    }
   },
   "source": [
    "import os\n",
    "import pandas as pd\n",
    "from data_utils import setup_environment\n",
    "setup_paths, DataLoader, ForecastEngine = setup_environment()\n",
    "from models.simple_regression import SimpleRegressionEstimator"
   ],
   "outputs": [],
   "execution_count": 1
  },
  {
   "metadata": {
    "ExecuteTime": {
     "end_time": "2024-08-17T22:35:23.838271Z",
     "start_time": "2024-08-17T22:35:23.778076Z"
    }
   },
   "cell_type": "code",
   "source": [
    "# Set up paths\n",
    "data_dir, base_dir, tuning_dir, results_dir = setup_paths('scratch')\n",
    "data_loader = DataLoader(data_dir)\n",
    "estimator = SimpleRegressionEstimator(\"SimpleRegression\", results_dir, use_db=False)\n",
    "forecast_engine = ForecastEngine(data_loader, [estimator])"
   ],
   "id": "3784790d765ea63b",
   "outputs": [],
   "execution_count": 2
  },
  {
   "metadata": {
    "ExecuteTime": {
     "end_time": "2024-08-17T22:35:23.914709Z",
     "start_time": "2024-08-17T22:35:23.912715Z"
    }
   },
   "cell_type": "code",
   "source": [
    "start_date = pd.Timestamp(\"2019-01-01\", tz='UTC')\n",
    "end_date = pd.Timestamp(\"2019-06-30\", tz='UTC')"
   ],
   "id": "bc0d8ec12cac8f04",
   "outputs": [],
   "execution_count": 3
  },
  {
   "metadata": {
    "ExecuteTime": {
     "end_time": "2024-08-17T22:35:24.891960Z",
     "start_time": "2024-08-17T22:35:23.919405Z"
    }
   },
   "cell_type": "code",
   "source": "forecast_engine.run_forecast(start_date, end_date)",
   "id": "adfe2b191ced5d11",
   "outputs": [
    {
     "name": "stderr",
     "output_type": "stream",
     "text": [
      "Forecasting Progress: 100%|██████████| 180/180 [00:00<00:00, 187.51it/s]"
     ]
    },
    {
     "name": "stdout",
     "output_type": "stream",
     "text": [
      "Results for SimpleRegression saved to SimpleRegression_results.parquet\n"
     ]
    },
    {
     "name": "stderr",
     "output_type": "stream",
     "text": [
      "\n"
     ]
    }
   ],
   "execution_count": 4
  },
  {
   "metadata": {
    "ExecuteTime": {
     "end_time": "2024-08-17T22:35:24.956630Z",
     "start_time": "2024-08-17T22:35:24.950804Z"
    }
   },
   "cell_type": "code",
   "source": [
    "# Check results\n",
    "print(forecast_engine.results['SimpleRegression'].head())"
   ],
   "id": "56f0d6af46b204fd",
   "outputs": [
    {
     "name": "stdout",
     "output_type": "stream",
     "text": [
      "              forecast_date         MAE            MSE        RMSE  \\\n",
      "0 2019-01-02 00:00:00+00:00  392.935358  382958.910965  618.836740   \n",
      "1 2019-01-03 00:00:00+00:00   78.902088   15653.583214  125.114281   \n",
      "2 2019-01-04 00:00:00+00:00   35.492502    4235.674080   65.082057   \n",
      "3 2019-01-05 00:00:00+00:00   19.074391    1198.526744   34.619745   \n",
      "4 2019-01-06 00:00:00+00:00   27.265442    2487.696296   49.876811   \n",
      "\n",
      "         MAPE       sMAPE      rMAE  fit_time  predict_time  optimize_time  \\\n",
      "0  441.977781  136.666549  7.268463  0.001037      0.000148              0   \n",
      "1   82.092609   70.070914  2.599409  0.000512      0.000073              0   \n",
      "2   36.259354   30.203218  2.087713  0.000443      0.000061              0   \n",
      "3   19.918452   22.007449  0.902669  0.000468      0.000064              0   \n",
      "4   31.031256   34.349666  1.268000  0.000468      0.000060              0   \n",
      "\n",
      "   total_time  \n",
      "0    0.001185  \n",
      "1    0.000585  \n",
      "2    0.000504  \n",
      "3    0.000532  \n",
      "4    0.000528  \n"
     ]
    }
   ],
   "execution_count": 5
  }
 ],
 "metadata": {
  "kernelspec": {
   "display_name": "Python 3",
   "language": "python",
   "name": "python3"
  },
  "language_info": {
   "codemirror_mode": {
    "name": "ipython",
    "version": 2
   },
   "file_extension": ".py",
   "mimetype": "text/x-python",
   "name": "python",
   "nbconvert_exporter": "python",
   "pygments_lexer": "ipython2",
   "version": "2.7.6"
  }
 },
 "nbformat": 4,
 "nbformat_minor": 5
}

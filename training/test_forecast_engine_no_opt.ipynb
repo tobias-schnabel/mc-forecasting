{
 "cells": [
  {
   "cell_type": "code",
   "id": "initial_id",
   "metadata": {
    "collapsed": true,
    "ExecuteTime": {
     "end_time": "2024-08-17T19:13:10.106070Z",
     "start_time": "2024-08-17T19:13:09.045344Z"
    }
   },
   "source": [
    "import sys\n",
    "import os\n",
    "import pandas as pd\n",
    "sys.path.append(os.path.abspath('..'))\n",
    "from data_utils import setup_paths\n",
    "from data_loader import DataLoader\n",
    "from forecast_engine import ForecastEngine\n",
    "from models.simple_regression import SimpleRegressionEstimator"
   ],
   "outputs": [],
   "execution_count": 1
  },
  {
   "metadata": {
    "ExecuteTime": {
     "end_time": "2024-08-17T19:13:10.183303Z",
     "start_time": "2024-08-17T19:13:10.110188Z"
    }
   },
   "cell_type": "code",
   "source": [
    "# Set up paths\n",
    "data_dir, base_dir, tuning_dir, results_dir = setup_paths('scratch')\n",
    "data_loader = DataLoader(data_dir)\n",
    "estimator = SimpleRegressionEstimator(\"SimpleRegression\", results_dir, use_db=False)\n",
    "forecast_engine = ForecastEngine(data_loader, [estimator])"
   ],
   "id": "3784790d765ea63b",
   "outputs": [],
   "execution_count": 2
  },
  {
   "metadata": {
    "ExecuteTime": {
     "end_time": "2024-08-17T19:13:10.274996Z",
     "start_time": "2024-08-17T19:13:10.272947Z"
    }
   },
   "cell_type": "code",
   "source": [
    "start_date = pd.Timestamp(\"2019-01-01\", tz='UTC')\n",
    "end_date = pd.Timestamp(\"2019-06-30\", tz='UTC')"
   ],
   "id": "bc0d8ec12cac8f04",
   "outputs": [],
   "execution_count": 3
  },
  {
   "metadata": {
    "ExecuteTime": {
     "end_time": "2024-08-17T19:13:11.454339Z",
     "start_time": "2024-08-17T19:13:10.279886Z"
    }
   },
   "cell_type": "code",
   "source": "forecast_engine.run_forecast(start_date, end_date)",
   "id": "adfe2b191ced5d11",
   "outputs": [
    {
     "name": "stderr",
     "output_type": "stream",
     "text": [
      "Forecasting Progress: 100%|██████████| 180/180 [00:01<00:00, 155.16it/s]"
     ]
    },
    {
     "name": "stdout",
     "output_type": "stream",
     "text": [
      "Results for SimpleRegression saved\n"
     ]
    },
    {
     "name": "stderr",
     "output_type": "stream",
     "text": [
      "\n"
     ]
    }
   ],
   "execution_count": 4
  },
  {
   "metadata": {
    "ExecuteTime": {
     "end_time": "2024-08-17T19:13:11.579957Z",
     "start_time": "2024-08-17T19:13:11.574533Z"
    }
   },
   "cell_type": "code",
   "source": [
    "# Check results\n",
    "print(forecast_engine.results['SimpleRegression'].head())"
   ],
   "id": "56f0d6af46b204fd",
   "outputs": [
    {
     "name": "stdout",
     "output_type": "stream",
     "text": [
      "              forecast_date         MAE            MSE        RMSE  \\\n",
      "0 2019-01-02 00:00:00+00:00  392.935358  382958.910965  618.836740   \n",
      "1 2019-01-03 00:00:00+00:00   78.902088   15653.583214  125.114281   \n",
      "2 2019-01-04 00:00:00+00:00   35.492502    4235.674080   65.082057   \n",
      "3 2019-01-05 00:00:00+00:00   19.074391    1198.526744   34.619745   \n",
      "4 2019-01-06 00:00:00+00:00   27.265442    2487.696296   49.876811   \n",
      "\n",
      "         MAPE       sMAPE      rMAE  fit_time  predict_time  optimize_time  \\\n",
      "0  441.977781  136.666549  7.268463  0.001136      0.000149              0   \n",
      "1   82.092609   70.070914  2.599409  0.000630      0.000088              0   \n",
      "2   36.259354   30.203218  2.087713  0.000582      0.000077              0   \n",
      "3   19.918452   22.007449  0.902669  0.000566      0.000072              0   \n",
      "4   31.031256   34.349666  1.268000  0.000574      0.000069              0   \n",
      "\n",
      "   total_time  \n",
      "0    0.001285  \n",
      "1    0.000718  \n",
      "2    0.000659  \n",
      "3    0.000638  \n",
      "4    0.000643  \n"
     ]
    }
   ],
   "execution_count": 5
  },
  {
   "metadata": {
    "ExecuteTime": {
     "end_time": "2024-08-17T19:13:11.621981Z",
     "start_time": "2024-08-17T19:13:11.620387Z"
    }
   },
   "cell_type": "code",
   "source": "",
   "id": "7b6163650cd8b156",
   "outputs": [],
   "execution_count": null
  }
 ],
 "metadata": {
  "kernelspec": {
   "display_name": "Python 3",
   "language": "python",
   "name": "python3"
  },
  "language_info": {
   "codemirror_mode": {
    "name": "ipython",
    "version": 2
   },
   "file_extension": ".py",
   "mimetype": "text/x-python",
   "name": "python",
   "nbconvert_exporter": "python",
   "pygments_lexer": "ipython2",
   "version": "2.7.6"
  }
 },
 "nbformat": 4,
 "nbformat_minor": 5
}

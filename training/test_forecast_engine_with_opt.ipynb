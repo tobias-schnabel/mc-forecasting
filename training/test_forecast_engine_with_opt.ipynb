{
 "cells": [
  {
   "cell_type": "code",
   "id": "initial_id",
   "metadata": {
    "collapsed": true,
    "ExecuteTime": {
     "end_time": "2024-08-18T13:05:59.732680Z",
     "start_time": "2024-08-18T13:05:59.030726Z"
    }
   },
   "source": [
    "import os\n",
    "import pandas as pd\n",
    "from data_utils import setup_environment\n",
    "setup_paths, DataLoader, ForecastEngine = setup_environment()\n",
    "from models.elastic_net_regression import ElasticNetEstimator"
   ],
   "outputs": [],
   "execution_count": 1
  },
  {
   "metadata": {
    "ExecuteTime": {
     "end_time": "2024-08-18T13:06:00.084428Z",
     "start_time": "2024-08-18T13:05:59.736585Z"
    }
   },
   "cell_type": "code",
   "source": [
    "data_dir, base_dir, tuning_dir, results_dir = setup_paths('scratch')\n",
    "data_loader = DataLoader(data_dir)\n",
    "estimator = ElasticNetEstimator(\"ElasticNet\", results_dir, use_db=True)\n",
    "forecast_engine = ForecastEngine(data_loader, [estimator])"
   ],
   "id": "3784790d765ea63b",
   "outputs": [],
   "execution_count": 2
  },
  {
   "metadata": {
    "ExecuteTime": {
     "end_time": "2024-08-18T13:06:00.150521Z",
     "start_time": "2024-08-18T13:06:00.148599Z"
    }
   },
   "cell_type": "code",
   "source": [
    "start_date = pd.Timestamp(\"2019-01-01\", tz='UTC')\n",
    "end_date = pd.Timestamp(\"2019-01-31\", tz='UTC')"
   ],
   "id": "bc0d8ec12cac8f04",
   "outputs": [],
   "execution_count": 3
  },
  {
   "metadata": {
    "ExecuteTime": {
     "end_time": "2024-08-18T13:06:12.126237Z",
     "start_time": "2024-08-18T13:06:00.155184Z"
    }
   },
   "cell_type": "code",
   "source": "forecast_engine.run_forecast(start_date, end_date)",
   "id": "adfe2b191ced5d11",
   "outputs": [
    {
     "name": "stderr",
     "output_type": "stream",
     "text": [
      "Forecasting Progress: 100%|██████████| 30/30 [00:11<00:00,  2.51it/s]"
     ]
    },
    {
     "name": "stdout",
     "output_type": "stream",
     "text": [
      "Results for ElasticNet saved to ElasticNet_results.parquet\n",
      "Hyperparameters for ElasticNet saved to ElasticNet_hyperparameters.parquet\n"
     ]
    },
    {
     "name": "stderr",
     "output_type": "stream",
     "text": [
      "\n"
     ]
    }
   ],
   "execution_count": 4
  },
  {
   "metadata": {
    "ExecuteTime": {
     "end_time": "2024-08-18T13:06:12.262230Z",
     "start_time": "2024-08-18T13:06:12.251509Z"
    }
   },
   "cell_type": "code",
   "source": [
    "# Print results summary\n",
    "results_df = pd.read_parquet(os.path.join(results_dir, \"ElasticNet_results.parquet\"))\n",
    "results_df.tail()"
   ],
   "id": "56f0d6af46b204fd",
   "outputs": [
    {
     "data": {
      "text/plain": [
       "               forecast_date        MAE         MSE       RMSE       MAPE  \\\n",
       "24 2019-01-26 00:00:00+00:00  13.503351  423.271597  20.573565  22.683214   \n",
       "25 2019-01-27 00:00:00+00:00  12.227954  642.365589  25.344932  12.610233   \n",
       "26 2019-01-28 00:00:00+00:00  12.762878  727.247522  26.967527  10.770403   \n",
       "27 2019-01-29 00:00:00+00:00   7.980268  150.351236  12.261779   8.908292   \n",
       "28 2019-01-30 00:00:00+00:00  12.633311  370.534838  19.249281  12.838724   \n",
       "\n",
       "        sMAPE      rMAE  fit_time  predict_time  optimize_time  total_time  \n",
       "24  19.168914  0.408703  0.306102      0.000158       3.203421    3.509681  \n",
       "25  12.075847  0.836839  0.325879      0.000170       3.203421    3.529470  \n",
       "26   9.986730  0.561652  0.317722      0.000169       3.203421    3.521312  \n",
       "27   8.613488  0.857850  0.339088      0.000164       3.203421    3.542673  \n",
       "28  11.970463  3.038248  0.359467      0.000177       3.203421    3.563065  "
      ],
      "text/html": [
       "<div>\n",
       "<style scoped>\n",
       "    .dataframe tbody tr th:only-of-type {\n",
       "        vertical-align: middle;\n",
       "    }\n",
       "\n",
       "    .dataframe tbody tr th {\n",
       "        vertical-align: top;\n",
       "    }\n",
       "\n",
       "    .dataframe thead th {\n",
       "        text-align: right;\n",
       "    }\n",
       "</style>\n",
       "<table border=\"1\" class=\"dataframe\">\n",
       "  <thead>\n",
       "    <tr style=\"text-align: right;\">\n",
       "      <th></th>\n",
       "      <th>forecast_date</th>\n",
       "      <th>MAE</th>\n",
       "      <th>MSE</th>\n",
       "      <th>RMSE</th>\n",
       "      <th>MAPE</th>\n",
       "      <th>sMAPE</th>\n",
       "      <th>rMAE</th>\n",
       "      <th>fit_time</th>\n",
       "      <th>predict_time</th>\n",
       "      <th>optimize_time</th>\n",
       "      <th>total_time</th>\n",
       "    </tr>\n",
       "  </thead>\n",
       "  <tbody>\n",
       "    <tr>\n",
       "      <th>24</th>\n",
       "      <td>2019-01-26 00:00:00+00:00</td>\n",
       "      <td>13.503351</td>\n",
       "      <td>423.271597</td>\n",
       "      <td>20.573565</td>\n",
       "      <td>22.683214</td>\n",
       "      <td>19.168914</td>\n",
       "      <td>0.408703</td>\n",
       "      <td>0.306102</td>\n",
       "      <td>0.000158</td>\n",
       "      <td>3.203421</td>\n",
       "      <td>3.509681</td>\n",
       "    </tr>\n",
       "    <tr>\n",
       "      <th>25</th>\n",
       "      <td>2019-01-27 00:00:00+00:00</td>\n",
       "      <td>12.227954</td>\n",
       "      <td>642.365589</td>\n",
       "      <td>25.344932</td>\n",
       "      <td>12.610233</td>\n",
       "      <td>12.075847</td>\n",
       "      <td>0.836839</td>\n",
       "      <td>0.325879</td>\n",
       "      <td>0.000170</td>\n",
       "      <td>3.203421</td>\n",
       "      <td>3.529470</td>\n",
       "    </tr>\n",
       "    <tr>\n",
       "      <th>26</th>\n",
       "      <td>2019-01-28 00:00:00+00:00</td>\n",
       "      <td>12.762878</td>\n",
       "      <td>727.247522</td>\n",
       "      <td>26.967527</td>\n",
       "      <td>10.770403</td>\n",
       "      <td>9.986730</td>\n",
       "      <td>0.561652</td>\n",
       "      <td>0.317722</td>\n",
       "      <td>0.000169</td>\n",
       "      <td>3.203421</td>\n",
       "      <td>3.521312</td>\n",
       "    </tr>\n",
       "    <tr>\n",
       "      <th>27</th>\n",
       "      <td>2019-01-29 00:00:00+00:00</td>\n",
       "      <td>7.980268</td>\n",
       "      <td>150.351236</td>\n",
       "      <td>12.261779</td>\n",
       "      <td>8.908292</td>\n",
       "      <td>8.613488</td>\n",
       "      <td>0.857850</td>\n",
       "      <td>0.339088</td>\n",
       "      <td>0.000164</td>\n",
       "      <td>3.203421</td>\n",
       "      <td>3.542673</td>\n",
       "    </tr>\n",
       "    <tr>\n",
       "      <th>28</th>\n",
       "      <td>2019-01-30 00:00:00+00:00</td>\n",
       "      <td>12.633311</td>\n",
       "      <td>370.534838</td>\n",
       "      <td>19.249281</td>\n",
       "      <td>12.838724</td>\n",
       "      <td>11.970463</td>\n",
       "      <td>3.038248</td>\n",
       "      <td>0.359467</td>\n",
       "      <td>0.000177</td>\n",
       "      <td>3.203421</td>\n",
       "      <td>3.563065</td>\n",
       "    </tr>\n",
       "  </tbody>\n",
       "</table>\n",
       "</div>"
      ]
     },
     "execution_count": 5,
     "metadata": {},
     "output_type": "execute_result"
    }
   ],
   "execution_count": 5
  },
  {
   "metadata": {
    "ExecuteTime": {
     "end_time": "2024-08-18T13:06:12.525964Z",
     "start_time": "2024-08-18T13:06:12.520899Z"
    }
   },
   "cell_type": "code",
   "source": [
    "# Print results summary\n",
    "hyper_df = pd.read_parquet(os.path.join(results_dir, \"tuning\", \"ElasticNet_hyperparameters.parquet\"))\n",
    "hyper_df.tail()"
   ],
   "id": "7b6163650cd8b156",
   "outputs": [
    {
     "data": {
      "text/plain": [
       "               forecast_date  param_alpha  param_l1_ratio\n",
       "24 2019-01-26 00:00:00+00:00      0.97359        0.668444\n",
       "25 2019-01-27 00:00:00+00:00      0.97359        0.668444\n",
       "26 2019-01-28 00:00:00+00:00      0.97359        0.668444\n",
       "27 2019-01-29 00:00:00+00:00      0.97359        0.668444\n",
       "28 2019-01-30 00:00:00+00:00      0.97359        0.668444"
      ],
      "text/html": [
       "<div>\n",
       "<style scoped>\n",
       "    .dataframe tbody tr th:only-of-type {\n",
       "        vertical-align: middle;\n",
       "    }\n",
       "\n",
       "    .dataframe tbody tr th {\n",
       "        vertical-align: top;\n",
       "    }\n",
       "\n",
       "    .dataframe thead th {\n",
       "        text-align: right;\n",
       "    }\n",
       "</style>\n",
       "<table border=\"1\" class=\"dataframe\">\n",
       "  <thead>\n",
       "    <tr style=\"text-align: right;\">\n",
       "      <th></th>\n",
       "      <th>forecast_date</th>\n",
       "      <th>param_alpha</th>\n",
       "      <th>param_l1_ratio</th>\n",
       "    </tr>\n",
       "  </thead>\n",
       "  <tbody>\n",
       "    <tr>\n",
       "      <th>24</th>\n",
       "      <td>2019-01-26 00:00:00+00:00</td>\n",
       "      <td>0.97359</td>\n",
       "      <td>0.668444</td>\n",
       "    </tr>\n",
       "    <tr>\n",
       "      <th>25</th>\n",
       "      <td>2019-01-27 00:00:00+00:00</td>\n",
       "      <td>0.97359</td>\n",
       "      <td>0.668444</td>\n",
       "    </tr>\n",
       "    <tr>\n",
       "      <th>26</th>\n",
       "      <td>2019-01-28 00:00:00+00:00</td>\n",
       "      <td>0.97359</td>\n",
       "      <td>0.668444</td>\n",
       "    </tr>\n",
       "    <tr>\n",
       "      <th>27</th>\n",
       "      <td>2019-01-29 00:00:00+00:00</td>\n",
       "      <td>0.97359</td>\n",
       "      <td>0.668444</td>\n",
       "    </tr>\n",
       "    <tr>\n",
       "      <th>28</th>\n",
       "      <td>2019-01-30 00:00:00+00:00</td>\n",
       "      <td>0.97359</td>\n",
       "      <td>0.668444</td>\n",
       "    </tr>\n",
       "  </tbody>\n",
       "</table>\n",
       "</div>"
      ]
     },
     "execution_count": 6,
     "metadata": {},
     "output_type": "execute_result"
    }
   ],
   "execution_count": 6
  }
 ],
 "metadata": {
  "kernelspec": {
   "display_name": "Python 3",
   "language": "python",
   "name": "python3"
  },
  "language_info": {
   "codemirror_mode": {
    "name": "ipython",
    "version": 2
   },
   "file_extension": ".py",
   "mimetype": "text/x-python",
   "name": "python",
   "nbconvert_exporter": "python",
   "pygments_lexer": "ipython2",
   "version": "2.7.6"
  }
 },
 "nbformat": 4,
 "nbformat_minor": 5
}

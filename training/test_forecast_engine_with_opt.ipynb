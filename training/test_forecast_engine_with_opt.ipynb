{
 "cells": [
  {
   "cell_type": "code",
   "id": "initial_id",
   "metadata": {
    "collapsed": true,
    "ExecuteTime": {
     "end_time": "2024-08-17T18:21:37.528348Z",
     "start_time": "2024-08-17T18:21:36.428904Z"
    }
   },
   "source": [
    "import sys\n",
    "import os\n",
    "import pandas as pd\n",
    "sys.path.append(os.path.abspath('..'))\n",
    "from data_utils import setup_paths\n",
    "from data_loader import DataLoader\n",
    "from forecast_engine import ForecastEngine\n",
    "from models.elastic_net_regression import ElasticNetEstimator"
   ],
   "outputs": [],
   "execution_count": 1
  },
  {
   "metadata": {
    "ExecuteTime": {
     "end_time": "2024-08-17T18:21:37.927889Z",
     "start_time": "2024-08-17T18:21:37.531771Z"
    }
   },
   "cell_type": "code",
   "source": [
    "# Set up paths\n",
    "data_dir, base_dir, tuning_dir, results_dir = setup_paths('scratch')\n",
    "data_loader = DataLoader(data_dir)\n",
    "estimator = ElasticNetEstimator(\"ElasticNet\", results_dir, use_db=True)\n",
    "forecast_engine = ForecastEngine(data_loader, [estimator])"
   ],
   "id": "3784790d765ea63b",
   "outputs": [],
   "execution_count": 2
  },
  {
   "metadata": {
    "ExecuteTime": {
     "end_time": "2024-08-17T18:21:38.020445Z",
     "start_time": "2024-08-17T18:21:38.018544Z"
    }
   },
   "cell_type": "code",
   "source": [
    "start_date = pd.Timestamp(\"2019-01-01\", tz='UTC')\n",
    "end_date = pd.Timestamp(\"2019-01-31\", tz='UTC')"
   ],
   "id": "bc0d8ec12cac8f04",
   "outputs": [],
   "execution_count": 3
  },
  {
   "metadata": {
    "ExecuteTime": {
     "end_time": "2024-08-17T18:21:44.783505Z",
     "start_time": "2024-08-17T18:21:38.025577Z"
    }
   },
   "cell_type": "code",
   "source": "forecast_engine.run_forecast(start_date, end_date)",
   "id": "adfe2b191ced5d11",
   "outputs": [
    {
     "name": "stderr",
     "output_type": "stream",
     "text": [
      "Forecasting Progress: 100%|██████████| 30/30 [00:06<00:00,  4.45it/s]"
     ]
    },
    {
     "name": "stdout",
     "output_type": "stream",
     "text": [
      "Results for ElasticNet saved\n"
     ]
    },
    {
     "name": "stderr",
     "output_type": "stream",
     "text": [
      "\n"
     ]
    }
   ],
   "execution_count": 4
  },
  {
   "metadata": {
    "ExecuteTime": {
     "end_time": "2024-08-17T18:21:50.410765Z",
     "start_time": "2024-08-17T18:21:50.401759Z"
    }
   },
   "cell_type": "code",
   "source": [
    "# Print results summary\n",
    "results_df = pd.read_parquet(os.path.join(results_dir, \"ElasticNet_results.parquet\"))\n",
    "results_df.tail()"
   ],
   "id": "56f0d6af46b204fd",
   "outputs": [
    {
     "data": {
      "text/plain": [
       "               forecast_date        MAE         MSE       RMSE       MAPE  \\\n",
       "24 2019-01-26 00:00:00+00:00  13.113651  405.980851  20.148967  22.519666   \n",
       "25 2019-01-27 00:00:00+00:00  12.993938  749.427719  27.375678  13.181910   \n",
       "26 2019-01-28 00:00:00+00:00  13.883258  873.120179  29.548607  11.972126   \n",
       "27 2019-01-29 00:00:00+00:00   9.156508  192.419937  13.871551  10.056136   \n",
       "28 2019-01-30 00:00:00+00:00  13.143494  425.879291  20.636843  13.105080   \n",
       "\n",
       "        sMAPE      rMAE  fit_time  predict_time  optimize_time  total_time  \n",
       "24  19.269833  0.396908  0.318449      0.000140       2.027959    2.346548  \n",
       "25  12.485022  0.889260  0.341413      0.000148       2.027959    2.369520  \n",
       "26  10.966834  0.610956  0.334554      0.000160       2.027959    2.362673  \n",
       "27   9.565725  0.984292  0.355289      0.000137       2.027959    2.383385  \n",
       "28  12.104321  3.160945  0.373664      0.000154       2.027959    2.401777  "
      ],
      "text/html": [
       "<div>\n",
       "<style scoped>\n",
       "    .dataframe tbody tr th:only-of-type {\n",
       "        vertical-align: middle;\n",
       "    }\n",
       "\n",
       "    .dataframe tbody tr th {\n",
       "        vertical-align: top;\n",
       "    }\n",
       "\n",
       "    .dataframe thead th {\n",
       "        text-align: right;\n",
       "    }\n",
       "</style>\n",
       "<table border=\"1\" class=\"dataframe\">\n",
       "  <thead>\n",
       "    <tr style=\"text-align: right;\">\n",
       "      <th></th>\n",
       "      <th>forecast_date</th>\n",
       "      <th>MAE</th>\n",
       "      <th>MSE</th>\n",
       "      <th>RMSE</th>\n",
       "      <th>MAPE</th>\n",
       "      <th>sMAPE</th>\n",
       "      <th>rMAE</th>\n",
       "      <th>fit_time</th>\n",
       "      <th>predict_time</th>\n",
       "      <th>optimize_time</th>\n",
       "      <th>total_time</th>\n",
       "    </tr>\n",
       "  </thead>\n",
       "  <tbody>\n",
       "    <tr>\n",
       "      <th>24</th>\n",
       "      <td>2019-01-26 00:00:00+00:00</td>\n",
       "      <td>13.113651</td>\n",
       "      <td>405.980851</td>\n",
       "      <td>20.148967</td>\n",
       "      <td>22.519666</td>\n",
       "      <td>19.269833</td>\n",
       "      <td>0.396908</td>\n",
       "      <td>0.318449</td>\n",
       "      <td>0.000140</td>\n",
       "      <td>2.027959</td>\n",
       "      <td>2.346548</td>\n",
       "    </tr>\n",
       "    <tr>\n",
       "      <th>25</th>\n",
       "      <td>2019-01-27 00:00:00+00:00</td>\n",
       "      <td>12.993938</td>\n",
       "      <td>749.427719</td>\n",
       "      <td>27.375678</td>\n",
       "      <td>13.181910</td>\n",
       "      <td>12.485022</td>\n",
       "      <td>0.889260</td>\n",
       "      <td>0.341413</td>\n",
       "      <td>0.000148</td>\n",
       "      <td>2.027959</td>\n",
       "      <td>2.369520</td>\n",
       "    </tr>\n",
       "    <tr>\n",
       "      <th>26</th>\n",
       "      <td>2019-01-28 00:00:00+00:00</td>\n",
       "      <td>13.883258</td>\n",
       "      <td>873.120179</td>\n",
       "      <td>29.548607</td>\n",
       "      <td>11.972126</td>\n",
       "      <td>10.966834</td>\n",
       "      <td>0.610956</td>\n",
       "      <td>0.334554</td>\n",
       "      <td>0.000160</td>\n",
       "      <td>2.027959</td>\n",
       "      <td>2.362673</td>\n",
       "    </tr>\n",
       "    <tr>\n",
       "      <th>27</th>\n",
       "      <td>2019-01-29 00:00:00+00:00</td>\n",
       "      <td>9.156508</td>\n",
       "      <td>192.419937</td>\n",
       "      <td>13.871551</td>\n",
       "      <td>10.056136</td>\n",
       "      <td>9.565725</td>\n",
       "      <td>0.984292</td>\n",
       "      <td>0.355289</td>\n",
       "      <td>0.000137</td>\n",
       "      <td>2.027959</td>\n",
       "      <td>2.383385</td>\n",
       "    </tr>\n",
       "    <tr>\n",
       "      <th>28</th>\n",
       "      <td>2019-01-30 00:00:00+00:00</td>\n",
       "      <td>13.143494</td>\n",
       "      <td>425.879291</td>\n",
       "      <td>20.636843</td>\n",
       "      <td>13.105080</td>\n",
       "      <td>12.104321</td>\n",
       "      <td>3.160945</td>\n",
       "      <td>0.373664</td>\n",
       "      <td>0.000154</td>\n",
       "      <td>2.027959</td>\n",
       "      <td>2.401777</td>\n",
       "    </tr>\n",
       "  </tbody>\n",
       "</table>\n",
       "</div>"
      ]
     },
     "execution_count": 7,
     "metadata": {},
     "output_type": "execute_result"
    }
   ],
   "execution_count": 7
  },
  {
   "metadata": {
    "ExecuteTime": {
     "end_time": "2024-08-17T18:21:44.957442Z",
     "start_time": "2024-08-17T18:21:44.955021Z"
    }
   },
   "cell_type": "code",
   "source": [
    "# Print optimization details\n",
    "print(\"\\nOptimization Details:\")\n",
    "print(f\"Best hyperparameters: {estimator.hyperparameters}\")\n",
    "print(f\"Best performance: {estimator.best_performance}\")\n",
    "print(f\"Last optimization date: {estimator.last_optimization_date}\")"
   ],
   "id": "7b6163650cd8b156",
   "outputs": [
    {
     "name": "stdout",
     "output_type": "stream",
     "text": [
      "\n",
      "Optimization Details:\n",
      "Best hyperparameters: {'alpha': 0.03004245652910175, 'l1_ratio': 0.3866191233335806}\n",
      "Best performance: 7.741657895655641\n",
      "Last optimization date: 2024-08-17 18:21:40.068270+00:00\n"
     ]
    }
   ],
   "execution_count": 6
  }
 ],
 "metadata": {
  "kernelspec": {
   "display_name": "Python 3",
   "language": "python",
   "name": "python3"
  },
  "language_info": {
   "codemirror_mode": {
    "name": "ipython",
    "version": 2
   },
   "file_extension": ".py",
   "mimetype": "text/x-python",
   "name": "python",
   "nbconvert_exporter": "python",
   "pygments_lexer": "ipython2",
   "version": "2.7.6"
  }
 },
 "nbformat": 4,
 "nbformat_minor": 5
}

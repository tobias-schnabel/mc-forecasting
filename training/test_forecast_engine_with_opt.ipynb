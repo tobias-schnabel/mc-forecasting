{
 "cells": [
  {
   "cell_type": "code",
   "id": "initial_id",
   "metadata": {
    "collapsed": true,
    "ExecuteTime": {
     "end_time": "2024-08-17T22:35:31.557005Z",
     "start_time": "2024-08-17T22:35:30.729413Z"
    }
   },
   "source": [
    "import os\n",
    "import pandas as pd\n",
    "from data_utils import setup_environment\n",
    "setup_paths, DataLoader, ForecastEngine = setup_environment()\n",
    "from models.elastic_net_regression import ElasticNetEstimator"
   ],
   "outputs": [],
   "execution_count": 1
  },
  {
   "metadata": {
    "ExecuteTime": {
     "end_time": "2024-08-17T22:35:31.898376Z",
     "start_time": "2024-08-17T22:35:31.560945Z"
    }
   },
   "cell_type": "code",
   "source": [
    "data_dir, base_dir, tuning_dir, results_dir = setup_paths('scratch')\n",
    "data_loader = DataLoader(data_dir)\n",
    "estimator = ElasticNetEstimator(\"ElasticNet\", results_dir, use_db=True)\n",
    "forecast_engine = ForecastEngine(data_loader, [estimator])"
   ],
   "id": "3784790d765ea63b",
   "outputs": [],
   "execution_count": 2
  },
  {
   "metadata": {
    "ExecuteTime": {
     "end_time": "2024-08-17T22:35:31.977865Z",
     "start_time": "2024-08-17T22:35:31.975914Z"
    }
   },
   "cell_type": "code",
   "source": [
    "start_date = pd.Timestamp(\"2019-01-01\", tz='UTC')\n",
    "end_date = pd.Timestamp(\"2019-01-31\", tz='UTC')"
   ],
   "id": "bc0d8ec12cac8f04",
   "outputs": [],
   "execution_count": 3
  },
  {
   "metadata": {
    "ExecuteTime": {
     "end_time": "2024-08-17T22:35:47.658893Z",
     "start_time": "2024-08-17T22:35:31.982181Z"
    }
   },
   "cell_type": "code",
   "source": "forecast_engine.run_forecast(start_date, end_date)",
   "id": "adfe2b191ced5d11",
   "outputs": [
    {
     "name": "stderr",
     "output_type": "stream",
     "text": [
      "Forecasting Progress: 100%|██████████| 30/30 [00:15<00:00,  1.92it/s]"
     ]
    },
    {
     "name": "stdout",
     "output_type": "stream",
     "text": [
      "Results for ElasticNet saved to ElasticNet_results.parquet\n",
      "Hyperparameters for ElasticNet saved to ElasticNet_hyperparameters.parquet\n"
     ]
    },
    {
     "name": "stderr",
     "output_type": "stream",
     "text": [
      "\n"
     ]
    }
   ],
   "execution_count": 4
  },
  {
   "metadata": {
    "ExecuteTime": {
     "end_time": "2024-08-17T22:35:47.791599Z",
     "start_time": "2024-08-17T22:35:47.779762Z"
    }
   },
   "cell_type": "code",
   "source": [
    "# Print results summary\n",
    "results_df = pd.read_parquet(os.path.join(results_dir, \"ElasticNet_results.parquet\"))\n",
    "results_df.tail()"
   ],
   "id": "56f0d6af46b204fd",
   "outputs": [
    {
     "data": {
      "text/plain": [
       "               forecast_date        MAE         MSE       RMSE       MAPE  \\\n",
       "24 2019-01-26 00:00:00+00:00  13.096840  403.957428  20.098692  22.516240   \n",
       "25 2019-01-27 00:00:00+00:00  13.010392  750.502322  27.395297  13.207574   \n",
       "26 2019-01-28 00:00:00+00:00  13.880216  874.742828  29.576052  11.965457   \n",
       "27 2019-01-29 00:00:00+00:00   9.130188  191.621361  13.842737  10.020981   \n",
       "28 2019-01-30 00:00:00+00:00  13.147054  426.021093  20.640278  13.108547   \n",
       "\n",
       "        sMAPE      rMAE  fit_time  predict_time  optimize_time  total_time  \n",
       "24  19.263557  0.396399  0.250315      0.000148       2.605932    2.856395  \n",
       "25  12.496804  0.890386  0.265416      0.000138       2.605932    2.871486  \n",
       "26  10.955454  0.610822  0.261047      0.000130       2.605932    2.867109  \n",
       "27   9.537869  0.981462  0.273859      0.000150       2.605932    2.879941  \n",
       "28  12.108359  3.161801  0.298276      0.000149       5.458893    5.757318  "
      ],
      "text/html": [
       "<div>\n",
       "<style scoped>\n",
       "    .dataframe tbody tr th:only-of-type {\n",
       "        vertical-align: middle;\n",
       "    }\n",
       "\n",
       "    .dataframe tbody tr th {\n",
       "        vertical-align: top;\n",
       "    }\n",
       "\n",
       "    .dataframe thead th {\n",
       "        text-align: right;\n",
       "    }\n",
       "</style>\n",
       "<table border=\"1\" class=\"dataframe\">\n",
       "  <thead>\n",
       "    <tr style=\"text-align: right;\">\n",
       "      <th></th>\n",
       "      <th>forecast_date</th>\n",
       "      <th>MAE</th>\n",
       "      <th>MSE</th>\n",
       "      <th>RMSE</th>\n",
       "      <th>MAPE</th>\n",
       "      <th>sMAPE</th>\n",
       "      <th>rMAE</th>\n",
       "      <th>fit_time</th>\n",
       "      <th>predict_time</th>\n",
       "      <th>optimize_time</th>\n",
       "      <th>total_time</th>\n",
       "    </tr>\n",
       "  </thead>\n",
       "  <tbody>\n",
       "    <tr>\n",
       "      <th>24</th>\n",
       "      <td>2019-01-26 00:00:00+00:00</td>\n",
       "      <td>13.096840</td>\n",
       "      <td>403.957428</td>\n",
       "      <td>20.098692</td>\n",
       "      <td>22.516240</td>\n",
       "      <td>19.263557</td>\n",
       "      <td>0.396399</td>\n",
       "      <td>0.250315</td>\n",
       "      <td>0.000148</td>\n",
       "      <td>2.605932</td>\n",
       "      <td>2.856395</td>\n",
       "    </tr>\n",
       "    <tr>\n",
       "      <th>25</th>\n",
       "      <td>2019-01-27 00:00:00+00:00</td>\n",
       "      <td>13.010392</td>\n",
       "      <td>750.502322</td>\n",
       "      <td>27.395297</td>\n",
       "      <td>13.207574</td>\n",
       "      <td>12.496804</td>\n",
       "      <td>0.890386</td>\n",
       "      <td>0.265416</td>\n",
       "      <td>0.000138</td>\n",
       "      <td>2.605932</td>\n",
       "      <td>2.871486</td>\n",
       "    </tr>\n",
       "    <tr>\n",
       "      <th>26</th>\n",
       "      <td>2019-01-28 00:00:00+00:00</td>\n",
       "      <td>13.880216</td>\n",
       "      <td>874.742828</td>\n",
       "      <td>29.576052</td>\n",
       "      <td>11.965457</td>\n",
       "      <td>10.955454</td>\n",
       "      <td>0.610822</td>\n",
       "      <td>0.261047</td>\n",
       "      <td>0.000130</td>\n",
       "      <td>2.605932</td>\n",
       "      <td>2.867109</td>\n",
       "    </tr>\n",
       "    <tr>\n",
       "      <th>27</th>\n",
       "      <td>2019-01-29 00:00:00+00:00</td>\n",
       "      <td>9.130188</td>\n",
       "      <td>191.621361</td>\n",
       "      <td>13.842737</td>\n",
       "      <td>10.020981</td>\n",
       "      <td>9.537869</td>\n",
       "      <td>0.981462</td>\n",
       "      <td>0.273859</td>\n",
       "      <td>0.000150</td>\n",
       "      <td>2.605932</td>\n",
       "      <td>2.879941</td>\n",
       "    </tr>\n",
       "    <tr>\n",
       "      <th>28</th>\n",
       "      <td>2019-01-30 00:00:00+00:00</td>\n",
       "      <td>13.147054</td>\n",
       "      <td>426.021093</td>\n",
       "      <td>20.640278</td>\n",
       "      <td>13.108547</td>\n",
       "      <td>12.108359</td>\n",
       "      <td>3.161801</td>\n",
       "      <td>0.298276</td>\n",
       "      <td>0.000149</td>\n",
       "      <td>5.458893</td>\n",
       "      <td>5.757318</td>\n",
       "    </tr>\n",
       "  </tbody>\n",
       "</table>\n",
       "</div>"
      ]
     },
     "execution_count": 5,
     "metadata": {},
     "output_type": "execute_result"
    }
   ],
   "execution_count": 5
  },
  {
   "metadata": {
    "ExecuteTime": {
     "end_time": "2024-08-17T22:35:47.903045Z",
     "start_time": "2024-08-17T22:35:47.897998Z"
    }
   },
   "cell_type": "code",
   "source": [
    "# Print results summary\n",
    "hyper_df = pd.read_parquet(os.path.join(results_dir, \"tuning\", \"ElasticNet_hyperparameters.parquet\"))\n",
    "hyper_df.tail()"
   ],
   "id": "7b6163650cd8b156",
   "outputs": [
    {
     "data": {
      "text/plain": [
       "               forecast_date  param_alpha  param_l1_ratio\n",
       "24 2019-01-26 00:00:00+00:00     0.990455        0.928404\n",
       "25 2019-01-27 00:00:00+00:00     0.990455        0.928404\n",
       "26 2019-01-28 00:00:00+00:00     0.990455        0.928404\n",
       "27 2019-01-29 00:00:00+00:00     0.990455        0.928404\n",
       "28 2019-01-30 00:00:00+00:00     0.997833        0.995493"
      ],
      "text/html": [
       "<div>\n",
       "<style scoped>\n",
       "    .dataframe tbody tr th:only-of-type {\n",
       "        vertical-align: middle;\n",
       "    }\n",
       "\n",
       "    .dataframe tbody tr th {\n",
       "        vertical-align: top;\n",
       "    }\n",
       "\n",
       "    .dataframe thead th {\n",
       "        text-align: right;\n",
       "    }\n",
       "</style>\n",
       "<table border=\"1\" class=\"dataframe\">\n",
       "  <thead>\n",
       "    <tr style=\"text-align: right;\">\n",
       "      <th></th>\n",
       "      <th>forecast_date</th>\n",
       "      <th>param_alpha</th>\n",
       "      <th>param_l1_ratio</th>\n",
       "    </tr>\n",
       "  </thead>\n",
       "  <tbody>\n",
       "    <tr>\n",
       "      <th>24</th>\n",
       "      <td>2019-01-26 00:00:00+00:00</td>\n",
       "      <td>0.990455</td>\n",
       "      <td>0.928404</td>\n",
       "    </tr>\n",
       "    <tr>\n",
       "      <th>25</th>\n",
       "      <td>2019-01-27 00:00:00+00:00</td>\n",
       "      <td>0.990455</td>\n",
       "      <td>0.928404</td>\n",
       "    </tr>\n",
       "    <tr>\n",
       "      <th>26</th>\n",
       "      <td>2019-01-28 00:00:00+00:00</td>\n",
       "      <td>0.990455</td>\n",
       "      <td>0.928404</td>\n",
       "    </tr>\n",
       "    <tr>\n",
       "      <th>27</th>\n",
       "      <td>2019-01-29 00:00:00+00:00</td>\n",
       "      <td>0.990455</td>\n",
       "      <td>0.928404</td>\n",
       "    </tr>\n",
       "    <tr>\n",
       "      <th>28</th>\n",
       "      <td>2019-01-30 00:00:00+00:00</td>\n",
       "      <td>0.997833</td>\n",
       "      <td>0.995493</td>\n",
       "    </tr>\n",
       "  </tbody>\n",
       "</table>\n",
       "</div>"
      ]
     },
     "execution_count": 6,
     "metadata": {},
     "output_type": "execute_result"
    }
   ],
   "execution_count": 6
  }
 ],
 "metadata": {
  "kernelspec": {
   "display_name": "Python 3",
   "language": "python",
   "name": "python3"
  },
  "language_info": {
   "codemirror_mode": {
    "name": "ipython",
    "version": 2
   },
   "file_extension": ".py",
   "mimetype": "text/x-python",
   "name": "python",
   "nbconvert_exporter": "python",
   "pygments_lexer": "ipython2",
   "version": "2.7.6"
  }
 },
 "nbformat": 4,
 "nbformat_minor": 5
}

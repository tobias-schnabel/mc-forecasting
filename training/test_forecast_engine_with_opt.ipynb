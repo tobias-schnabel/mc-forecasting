{
 "cells": [
  {
   "cell_type": "code",
   "id": "initial_id",
   "metadata": {
    "collapsed": true
   },
   "source": [
    "import sys\n",
    "import os\n",
    "import pandas as pd\n",
    "sys.path.append(os.path.abspath('..'))\n",
    "from data_utils import setup_paths\n",
    "from data_loader import DataLoader\n",
    "from forecast_engine import ForecastEngine\n",
    "from models.elastic_net_regression import ElasticNetEstimator"
   ],
   "outputs": [],
   "execution_count": null
  },
  {
   "metadata": {},
   "cell_type": "code",
   "source": [
    "# Set up paths\n",
    "data_dir, base_dir, tuning_dir, results_dir = setup_paths('scratch')\n",
    "data_loader = DataLoader(data_dir)\n",
    "estimator = ElasticNetEstimator(\"ElasticNet\", results_dir, use_db=True)\n",
    "forecast_engine = ForecastEngine(data_loader, [estimator])"
   ],
   "id": "3784790d765ea63b",
   "outputs": [],
   "execution_count": null
  },
  {
   "metadata": {},
   "cell_type": "code",
   "source": [
    "start_date = pd.Timestamp(\"2019-01-01\", tz='UTC')\n",
    "end_date = pd.Timestamp(\"2019-01-31\", tz='UTC')"
   ],
   "id": "bc0d8ec12cac8f04",
   "outputs": [],
   "execution_count": null
  },
  {
   "metadata": {},
   "cell_type": "code",
   "source": "forecast_engine.run_forecast(start_date, end_date)",
   "id": "adfe2b191ced5d11",
   "outputs": [],
   "execution_count": null
  },
  {
   "metadata": {},
   "cell_type": "code",
   "source": "print(forecast_engine.estimators[0].optimization_frequency)",
   "id": "9f85f14826eba7ed",
   "outputs": [],
   "execution_count": null
  },
  {
   "metadata": {},
   "cell_type": "code",
   "source": [
    "# Print results summary\n",
    "results_df = pd.read_parquet(os.path.join(results_dir, \"ElasticNet_results.parquet\"))\n",
    "results_df.tail()"
   ],
   "id": "56f0d6af46b204fd",
   "outputs": [],
   "execution_count": null
  },
  {
   "metadata": {},
   "cell_type": "code",
   "source": [
    "# Print optimization details\n",
    "print(\"\\nOptimization Details:\")\n",
    "print(f\"Best hyperparameters: {estimator.hyperparameters}\")\n",
    "print(f\"Best performance: {estimator.best_performance}\")\n",
    "print(f\"Last optimization date: {estimator.last_optimization_date}\")"
   ],
   "id": "7b6163650cd8b156",
   "outputs": [],
   "execution_count": null
  }
 ],
 "metadata": {
  "kernelspec": {
   "display_name": "Python 3",
   "language": "python",
   "name": "python3"
  },
  "language_info": {
   "codemirror_mode": {
    "name": "ipython",
    "version": 2
   },
   "file_extension": ".py",
   "mimetype": "text/x-python",
   "name": "python",
   "nbconvert_exporter": "python",
   "pygments_lexer": "ipython2",
   "version": "2.7.6"
  }
 },
 "nbformat": 4,
 "nbformat_minor": 5
}

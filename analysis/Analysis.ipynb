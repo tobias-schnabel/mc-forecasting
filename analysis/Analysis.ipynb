{
 "cells": [
  {
   "metadata": {
    "ExecuteTime": {
     "end_time": "2024-09-11T22:09:24.824715Z",
     "start_time": "2024-09-11T22:09:24.590917Z"
    }
   },
   "cell_type": "code",
   "source": [
    "import pandas as pd\n",
    "import os\n",
    "import getpass\n",
    "\n",
    "export_username = \"ts\"  # Only save tables to dropbox on my machine\n",
    "\n",
    "import pandas as pd\n",
    "\n",
    "\n",
    "def create_comparison_table(dataframes, estimator_names, metrics=['RMSE', 'MAE', 'rMAE'], decimal_places=3):\n",
    "    def calc_stats(df, metrics):\n",
    "        stats = {}\n",
    "        for metric in metrics:\n",
    "            stats[f'{metric}_min'] = df[metric].min()\n",
    "            stats[f'{metric}_mean'] = df[metric].mean()\n",
    "            stats[f'{metric}_median'] = df[metric].median()\n",
    "            stats[f'{metric}_max'] = df[metric].max()\n",
    "        \n",
    "        time_metrics = ['fit_time', 'predict_time', 'optimize_time']\n",
    "        for time_metric in time_metrics:\n",
    "            stats[f'{time_metric}_mean'] = df[time_metric].mean()\n",
    "        \n",
    "        return pd.Series(stats)\n",
    "\n",
    "    all_stats = {}\n",
    "    for df, name in zip(dataframes, estimator_names):\n",
    "        all_stats[name] = calc_stats(df, metrics)\n",
    "\n",
    "    comparison_table = pd.DataFrame(all_stats).T\n",
    "\n",
    "    # Create multi-level columns\n",
    "    column_tuples = [(metric, stat) for metric in metrics for stat in ['min', 'mean', 'median', 'max']] + \\\n",
    "                    [(metric, 'mean') for metric in ['fit time', 'predict time', 'optimize time']]\n",
    "    comparison_table.columns = pd.MultiIndex.from_tuples(column_tuples)\n",
    "\n",
    "    # Reorder columns\n",
    "    new_order = metrics + ['fit time', 'predict time', 'optimize time']\n",
    "    comparison_table = comparison_table.reindex(columns=new_order, level=0)\n",
    "\n",
    "    return comparison_table.round(decimal_places)\n",
    "\n",
    "\n",
    "def create_latex_table_content(df, caption, label):\n",
    "    table_content = []\n",
    "    table_content.append(r'\\begin{table}[H]')\n",
    "    table_content.append(r'\\centering')\n",
    "    table_content.append(f'\\\\caption{{{caption}}}')\n",
    "    table_content.append(f'\\\\label{{{label}}}')\n",
    "    table_content.append(r'\\resizebox{\\textwidth}{!}{')\n",
    "    \n",
    "    num_cols = len(df.columns) + 1\n",
    "    table_format = '|l|' + 'c|' * (num_cols - 1)\n",
    "    table_content.append(f'\\\\begin{{tabular}}{{{table_format}}}')\n",
    "    table_content.append(r'\\hline')\n",
    "    \n",
    "    # Create main headers\n",
    "    main_metrics = df.columns.get_level_values(0).unique()\n",
    "    main_headers = ['Estimator'] + [f'\\\\multicolumn{{4}}{{c|}}{{{metric}}}' for metric in ['RMSE', 'MAE', 'rMAE']] + [f'\\\\multicolumn{{3}}{{c|}}{{{'Mean Execution Time (s)'}}}']\n",
    "    table_content.append(' & '.join(main_headers) + r' \\\\')\n",
    "    \n",
    "    # Add horizontal line between metric names and subcolumn names\n",
    "    table_content.append(r'\\cline{2-' + str(num_cols) + '}')\n",
    "    \n",
    "    # Create sub-headers\n",
    "    sub_headers = ['']\n",
    "    for metric in main_metrics:\n",
    "        if metric in ['RMSE', 'MAE', 'rMAE']:\n",
    "            sub_headers.extend(['min', 'mean', 'median', 'max'])\n",
    "        # else:\n",
    "        #     sub_headers.append('mean')\n",
    "    sub_headers.extend([r'\\texttt{fit()}', r'\\texttt{predict()}', r'\\texttt{optimize()}'])\n",
    "    table_content.append(' & '.join(sub_headers) + r' \\\\')\n",
    "    \n",
    "    table_content.append(r'\\hline')\n",
    "    \n",
    "    # Find minimum values for each column\n",
    "    min_values = df.min()\n",
    "\n",
    "    for i, (index, row) in enumerate(df.iterrows()):\n",
    "        row_content = [f\"{index}\"]\n",
    "        for (col, subcol), value in row.items():\n",
    "            if pd.isna(value):\n",
    "                cell_content = ''\n",
    "            elif isinstance(value, (int, float)):\n",
    "                if value == 0:\n",
    "                    cell_content = '0'\n",
    "                elif value.is_integer():\n",
    "                    cell_content = f\"\\\\num{{{int(value):,}}}\"\n",
    "                elif value < 1 and value > 0:\n",
    "                    cell_content = f\"\\\\num{{{value:.3f}}}\"\n",
    "                else:\n",
    "                    cell_content = f\"\\\\num{{{value:.3f}}}\"\n",
    "                \n",
    "                # Highlight minimum value\n",
    "                if value == min_values[(col, subcol)]  and not df[col][subcol].eq(value).all():\n",
    "                    cell_content = f\"\\\\cellcolor{{gray!25}}\\\\textbf{{{cell_content}}}\"\n",
    "            else:\n",
    "                cell_content = f\"{value}\"\n",
    "            row_content.append(cell_content)\n",
    "        table_content.append(' & '.join(row_content) + r' \\\\')\n",
    "        \n",
    "        # Add horizontal line after each estimator\n",
    "        table_content.append(r'\\hline')\n",
    "    \n",
    "    table_content.append(r'\\end{tabular}')\n",
    "    table_content.append(r'}')\n",
    "    table_content.append(r'\\end{table}')\n",
    "    \n",
    "    return '\\n'.join(table_content)\n",
    "\n",
    "\n",
    "\n",
    "def save_latex_table_content(content, filename):\n",
    "    \"\"\"\n",
    "    Save LaTeX table content to a file, but only if on the specified machine.\n",
    "    \n",
    "    Args:\n",
    "    content (str): LaTeX table content to save\n",
    "    filename (str): Name of the file to save (without extension)\n",
    "    \n",
    "    Returns:\n",
    "    None\n",
    "    \"\"\"\n",
    "    username = getpass.getuser()\n",
    "    if username == export_username:\n",
    "        filepath = \"/Users/ts/Library/CloudStorage/Dropbox/Apps/Overleaf/Dissertation Oxford/Tables\"\n",
    "        full_filename = os.path.join(filepath, filename + \".tex\")\n",
    "        \n",
    "        with open(full_filename, 'w') as file:\n",
    "            file.write(content)\n",
    "        \n",
    "        print(f\"Table content saved to {full_filename}\")\n",
    "    else:\n",
    "        print(\"Table content not saved (not on the specified machine)\")"
   ],
   "id": "61993d23d01a70fa",
   "outputs": [],
   "execution_count": 1
  },
  {
   "metadata": {},
   "cell_type": "markdown",
   "source": "## Comparison of 64 and 32 bit float precision for MC-NNM 56",
   "id": "768d2eb8c2e40bd3"
  },
  {
   "metadata": {
    "ExecuteTime": {
     "end_time": "2024-09-11T22:09:24.850886Z",
     "start_time": "2024-09-11T22:09:24.827785Z"
    }
   },
   "cell_type": "code",
   "source": [
    "MCNNM_56_64 = pd.read_parquet('../results/MCNNM_56_results.parquet')\n",
    "MCNNM_56_32 = pd.read_parquet('../results/MCNNM-56_32_results.parquet')\n",
    "MCNNM_56_32.shape, MCNNM_56_64.shape"
   ],
   "id": "8da6122bf9318471",
   "outputs": [
    {
     "data": {
      "text/plain": [
       "((2006, 11), (363, 11))"
      ]
     },
     "execution_count": 2,
     "metadata": {},
     "output_type": "execute_result"
    }
   ],
   "execution_count": 2
  },
  {
   "metadata": {
    "ExecuteTime": {
     "end_time": "2024-09-11T22:09:24.904888Z",
     "start_time": "2024-09-11T22:09:24.902648Z"
    }
   },
   "cell_type": "code",
   "source": [
    "# subset the first 363 rows of the 32 bit precision results (this is where I stopped the training for 64 bit)\n",
    "MCNNM_56_32_trunc = MCNNM_56_32.iloc[:363]\n",
    "MCNNM_56_32_trunc.shape, MCNNM_56_64.shape"
   ],
   "id": "a92d70a195959a4d",
   "outputs": [
    {
     "data": {
      "text/plain": [
       "((363, 11), (363, 11))"
      ]
     },
     "execution_count": 3,
     "metadata": {},
     "output_type": "execute_result"
    }
   ],
   "execution_count": 3
  },
  {
   "metadata": {
    "ExecuteTime": {
     "end_time": "2024-09-11T22:09:24.975321Z",
     "start_time": "2024-09-11T22:09:24.967835Z"
    }
   },
   "cell_type": "code",
   "source": [
    "dataframes_32_64 = [MCNNM_56_32_trunc, MCNNM_56_64]\n",
    "estimator_names_32_64 = ['32-bit', '64-bit']\n",
    "table_32_64 = create_comparison_table(dataframes_32_64, estimator_names_32_64)\n",
    "print(table_32_64)"
   ],
   "id": "7ef22986b53dfe4",
   "outputs": [
    {
     "name": "stdout",
     "output_type": "stream",
     "text": [
      "          RMSE                             MAE                           rMAE  \\\n",
      "           min    mean  median      max    min    mean  median     max    min   \n",
      "32-bit  14.245  33.065  30.275  105.003  8.242  18.739  17.650  45.308  0.447   \n",
      "64-bit  13.322  33.033  30.578  105.003  7.547  18.721  17.585  46.387  0.435   \n",
      "\n",
      "                            fit time predict time optimize time  \n",
      "         mean median    max     mean         mean          mean  \n",
      "32-bit  1.750  1.545  4.957      0.0        5.031         2.245  \n",
      "64-bit  1.754  1.565  4.957      0.0        5.041        15.646  \n"
     ]
    }
   ],
   "execution_count": 4
  },
  {
   "metadata": {},
   "cell_type": "markdown",
   "source": "We can see that the 64-bit precision model has slightly better performance than the 32-bit model, with lower RMSE and MAE values. The difference is relatively small, but it is consistent across all metrics. The prediction time is also slightly longer for the 64-bit model, which severely compounds during the optimization phase. This is expected, as the 64-bit model has twice the memory requirements and will be slower to compute.",
   "id": "6d8750fc8cadc786"
  },
  {
   "metadata": {
    "ExecuteTime": {
     "end_time": "2024-09-11T22:17:27.149718Z",
     "start_time": "2024-09-11T22:17:27.136572Z"
    }
   },
   "cell_type": "code",
   "source": [
    "# Create your comparison table\n",
    "dataframes = [MCNNM_56_32_trunc, MCNNM_56_64]\n",
    "estimator_names = [r'\\hyperref[est:MC-NNM]{MC-NNM} (32)', r'\\hyperref[est:MC-NNM]{MC-NNM} (64)']\n",
    "table_32_64 = create_comparison_table(dataframes, estimator_names, decimal_places=3)\n",
    "\n",
    "# Generate the LaTeX content\n",
    "latex_32_64 = create_latex_table_content(\n",
    "    table_32_64,\n",
    "    caption=\"Comparison of 32-bit and 64-bit MC-NNM Estimators On The First Year of Data\",\n",
    "    label=\"tab:32-64\"\n",
    ")\n",
    "\n",
    "# Save the LaTeX content\n",
    "save_latex_table_content(latex_32_64, \"mcnnm_32_64_comparison\")\n"
   ],
   "id": "d0a19fd873a03a59",
   "outputs": [
    {
     "name": "stdout",
     "output_type": "stream",
     "text": [
      "Table content saved to /Users/ts/Library/CloudStorage/Dropbox/Apps/Overleaf/Dissertation Oxford/Tables/mcnnm_32_64_comparison.tex\n"
     ]
    }
   ],
   "execution_count": 6
  },
  {
   "metadata": {},
   "cell_type": "markdown",
   "source": "## Results for 56 day sliding window",
   "id": "ffd337c28bf164e6"
  },
  {
   "metadata": {
    "ExecuteTime": {
     "end_time": "2024-09-11T22:30:57.112502Z",
     "start_time": "2024-09-11T22:30:57.092214Z"
    }
   },
   "cell_type": "code",
   "source": [
    "MCNNM_56 = pd.read_parquet('../results/MCNNM-56_32_results.parquet')\n",
    "MCNNM_TSR_56 = pd.read_parquet('../results/MCNNM-TSR-56_results.parquet')\n",
    "Elasticnet_56 = pd.read_parquet('../results/ElasticNet-56_results.parquet')\n",
    "LASSO_56 = pd.read_parquet('../results/LASSO-56_results.parquet')\n",
    "LEAR_56 = pd.read_parquet('../results/LEAR-56_results.parquet')\n",
    "LEAR_Panel_56 = pd.read_parquet('../results/LEAR-Panel-56_results.parquet')\n",
    "# check all have same shape\n",
    "MCNNM_56.shape, MCNNM_TSR_56.shape, Elasticnet_56.shape, LASSO_56.shape, LEAR_56.shape, LEAR_Panel_56.shape"
   ],
   "id": "6eb2d502438ac6d5",
   "outputs": [
    {
     "data": {
      "text/plain": [
       "((2006, 11), (2006, 11), (2006, 11), (2006, 12), (2006, 12), (2006, 12))"
      ]
     },
     "execution_count": 7,
     "metadata": {},
     "output_type": "execute_result"
    }
   ],
   "execution_count": 7
  },
  {
   "metadata": {
    "ExecuteTime": {
     "end_time": "2024-09-11T22:36:02.432962Z",
     "start_time": "2024-09-11T22:36:02.422031Z"
    }
   },
   "cell_type": "code",
   "source": [
    "dataframes_56 = [MCNNM_56, MCNNM_TSR_56, Elasticnet_56, LASSO_56, LEAR_56, LEAR_Panel_56]\n",
    "estimator_names_56 = [r'\\hyperref[est:MC-NNM]{MC-NNM}', r'\\hyperref[est:MC-NNM-TSR]{MC-NNM-TSR}', r'\\hyperref[est:EN]{ElasticNet}', r'\\hyperref[est:LASSO]{LASSO}', r'\\hyperref[est:LEAR]{LEAR}', r'\\hyperref[est:LEAR-Panel]{LEAR-Panel}']\n",
    "table_56 = create_comparison_table(dataframes_56, estimator_names_56)\n",
    "latex_56 = create_latex_table_content(\n",
    "    table_56,\n",
    "    caption=\"Comparison of Estimators on 56 Day Sliding Window\",\n",
    "    label=\"tab:56\"\n",
    ")\n",
    "save_latex_table_content(latex_56, \"56_day_comparison\")"
   ],
   "id": "bee5b8ac62fe92bd",
   "outputs": [
    {
     "name": "stdout",
     "output_type": "stream",
     "text": [
      "Table content saved to /Users/ts/Library/CloudStorage/Dropbox/Apps/Overleaf/Dissertation Oxford/Tables/56_day_comparison.tex\n"
     ]
    }
   ],
   "execution_count": 10
  },
  {
   "metadata": {},
   "cell_type": "markdown",
   "source": "## Results for 84 day sliding window",
   "id": "4c0a8d0dc27422d"
  },
  {
   "metadata": {
    "ExecuteTime": {
     "end_time": "2024-09-11T22:37:14.464706Z",
     "start_time": "2024-09-11T22:37:14.444999Z"
    }
   },
   "cell_type": "code",
   "source": [
    "MCNNM_84 = pd.read_parquet('../results/MCNNM-84_32_results.parquet')\n",
    "MCNNM_TSR_84 = pd.read_parquet('../results/MCNNM-TSR-84_results.parquet')\n",
    "Elasticnet_84 = pd.read_parquet('../results/ElasticNet-84_results.parquet')\n",
    "LASSO_84 = pd.read_parquet('../results/LASSO-84_results.parquet')\n",
    "LEAR_84 = pd.read_parquet('../results/LEAR-84_results.parquet')\n",
    "LEAR_Panel_84 = pd.read_parquet('../results/LEAR-Panel-84_results.parquet')\n",
    "# check all have same shape\n",
    "MCNNM_84.shape, MCNNM_TSR_84.shape, Elasticnet_84.shape, LASSO_84.shape, LEAR_84.shape, LEAR_Panel_84.shape"
   ],
   "id": "20ae93ab37f0b81a",
   "outputs": [
    {
     "data": {
      "text/plain": [
       "((2006, 11), (2006, 11), (2006, 11), (2006, 12), (2006, 12), (2006, 12))"
      ]
     },
     "execution_count": 11,
     "metadata": {},
     "output_type": "execute_result"
    }
   ],
   "execution_count": 11
  },
  {
   "metadata": {
    "ExecuteTime": {
     "end_time": "2024-09-11T22:37:38.423023Z",
     "start_time": "2024-09-11T22:37:38.407817Z"
    }
   },
   "cell_type": "code",
   "source": [
    "dataframes_84 = [MCNNM_84, MCNNM_TSR_84, Elasticnet_84, LASSO_84, LEAR_84, LEAR_Panel_84]\n",
    "estimator_names_84 = [r'\\hyperref[est:MC-NNM]{MC-NNM}', r'\\hyperref[est:MC-NNM-TSR]{MC-NNM-TSR}', r'\\hyperref[est:EN]{ElasticNet}', r'\\hyperref[est:LASSO]{LASSO}', r'\\hyperref[est:LEAR]{LEAR}', r'\\hyperref[est:LEAR-Panel]{LEAR-Panel}']\n",
    "table_84 = create_comparison_table(dataframes_84, estimator_names_84)\n",
    "latex_84 = create_latex_table_content(\n",
    "    table_84,\n",
    "    caption=\"Comparison of Estimators on 84 Day Sliding Window\",\n",
    "    label=\"tab:84\"\n",
    ")\n",
    "save_latex_table_content(latex_84, \"84_day_comparison\")"
   ],
   "id": "729b85302dc95b14",
   "outputs": [
    {
     "name": "stdout",
     "output_type": "stream",
     "text": [
      "Table content saved to /Users/ts/Library/CloudStorage/Dropbox/Apps/Overleaf/Dissertation Oxford/Tables/84_day_comparison.tex\n"
     ]
    }
   ],
   "execution_count": 12
  },
  {
   "metadata": {},
   "cell_type": "raw",
   "source": "## Results for 112 day sliding window",
   "id": "345f8cf415aa965a"
  },
  {
   "metadata": {
    "ExecuteTime": {
     "end_time": "2024-09-11T22:38:00.519626Z",
     "start_time": "2024-09-11T22:38:00.330237Z"
    }
   },
   "cell_type": "code",
   "source": [
    "MCNNM_112 = pd.read_parquet('../results/MCNNM-112_32_results.parquet')\n",
    "MCNNM_TSR_112 = pd.read_parquet('../results/MCNNM-TSR-112_results.parquet')\n",
    "Elasticnet_112 = pd.read_parquet('../results/ElasticNet-112_results.parquet')\n",
    "LASSO_112 = pd.read_parquet('../results/LASSO-112_results.parquet')\n",
    "LEAR_112 = pd.read_parquet('../results/LEAR-112_results.parquet')\n",
    "LEAR_Panel_112 = pd.read_parquet('../results/LEAR-Panel-112_results.parquet')\n",
    "# check all have same shape\n",
    "MCNNM_112.shape, MCNNM_TSR_112.shape, Elasticnet_112.shape, LASSO_112.shape, LEAR_112.shape, LEAR_Panel_112.shape"
   ],
   "id": "6b60185d1257e3bb",
   "outputs": [
    {
     "ename": "FileNotFoundError",
     "evalue": "[Errno 2] No such file or directory: '../results/MCNNM-TSR-112_results.parquet'",
     "output_type": "error",
     "traceback": [
      "\u001B[0;31m---------------------------------------------------------------------------\u001B[0m",
      "\u001B[0;31mFileNotFoundError\u001B[0m                         Traceback (most recent call last)",
      "Cell \u001B[0;32mIn[13], line 2\u001B[0m\n\u001B[1;32m      1\u001B[0m MCNNM_112 \u001B[38;5;241m=\u001B[39m pd\u001B[38;5;241m.\u001B[39mread_parquet(\u001B[38;5;124m'\u001B[39m\u001B[38;5;124m../results/MCNNM-112_32_results.parquet\u001B[39m\u001B[38;5;124m'\u001B[39m)\n\u001B[0;32m----> 2\u001B[0m MCNNM_TSR_112 \u001B[38;5;241m=\u001B[39m \u001B[43mpd\u001B[49m\u001B[38;5;241;43m.\u001B[39;49m\u001B[43mread_parquet\u001B[49m\u001B[43m(\u001B[49m\u001B[38;5;124;43m'\u001B[39;49m\u001B[38;5;124;43m../results/MCNNM-TSR-112_results.parquet\u001B[39;49m\u001B[38;5;124;43m'\u001B[39;49m\u001B[43m)\u001B[49m\n\u001B[1;32m      3\u001B[0m Elasticnet_112 \u001B[38;5;241m=\u001B[39m pd\u001B[38;5;241m.\u001B[39mread_parquet(\u001B[38;5;124m'\u001B[39m\u001B[38;5;124m../results/ElasticNet-112_results.parquet\u001B[39m\u001B[38;5;124m'\u001B[39m)\n\u001B[1;32m      4\u001B[0m LASSO_112 \u001B[38;5;241m=\u001B[39m pd\u001B[38;5;241m.\u001B[39mread_parquet(\u001B[38;5;124m'\u001B[39m\u001B[38;5;124m../results/LASSO-112_results.parquet\u001B[39m\u001B[38;5;124m'\u001B[39m)\n",
      "File \u001B[0;32m~/Library/Caches/pypoetry/virtualenvs/mc-forecasting-IjydRF9q-py3.12/lib/python3.12/site-packages/pandas/io/parquet.py:667\u001B[0m, in \u001B[0;36mread_parquet\u001B[0;34m(path, engine, columns, storage_options, use_nullable_dtypes, dtype_backend, filesystem, filters, **kwargs)\u001B[0m\n\u001B[1;32m    664\u001B[0m     use_nullable_dtypes \u001B[38;5;241m=\u001B[39m \u001B[38;5;28;01mFalse\u001B[39;00m\n\u001B[1;32m    665\u001B[0m check_dtype_backend(dtype_backend)\n\u001B[0;32m--> 667\u001B[0m \u001B[38;5;28;01mreturn\u001B[39;00m \u001B[43mimpl\u001B[49m\u001B[38;5;241;43m.\u001B[39;49m\u001B[43mread\u001B[49m\u001B[43m(\u001B[49m\n\u001B[1;32m    668\u001B[0m \u001B[43m    \u001B[49m\u001B[43mpath\u001B[49m\u001B[43m,\u001B[49m\n\u001B[1;32m    669\u001B[0m \u001B[43m    \u001B[49m\u001B[43mcolumns\u001B[49m\u001B[38;5;241;43m=\u001B[39;49m\u001B[43mcolumns\u001B[49m\u001B[43m,\u001B[49m\n\u001B[1;32m    670\u001B[0m \u001B[43m    \u001B[49m\u001B[43mfilters\u001B[49m\u001B[38;5;241;43m=\u001B[39;49m\u001B[43mfilters\u001B[49m\u001B[43m,\u001B[49m\n\u001B[1;32m    671\u001B[0m \u001B[43m    \u001B[49m\u001B[43mstorage_options\u001B[49m\u001B[38;5;241;43m=\u001B[39;49m\u001B[43mstorage_options\u001B[49m\u001B[43m,\u001B[49m\n\u001B[1;32m    672\u001B[0m \u001B[43m    \u001B[49m\u001B[43muse_nullable_dtypes\u001B[49m\u001B[38;5;241;43m=\u001B[39;49m\u001B[43muse_nullable_dtypes\u001B[49m\u001B[43m,\u001B[49m\n\u001B[1;32m    673\u001B[0m \u001B[43m    \u001B[49m\u001B[43mdtype_backend\u001B[49m\u001B[38;5;241;43m=\u001B[39;49m\u001B[43mdtype_backend\u001B[49m\u001B[43m,\u001B[49m\n\u001B[1;32m    674\u001B[0m \u001B[43m    \u001B[49m\u001B[43mfilesystem\u001B[49m\u001B[38;5;241;43m=\u001B[39;49m\u001B[43mfilesystem\u001B[49m\u001B[43m,\u001B[49m\n\u001B[1;32m    675\u001B[0m \u001B[43m    \u001B[49m\u001B[38;5;241;43m*\u001B[39;49m\u001B[38;5;241;43m*\u001B[39;49m\u001B[43mkwargs\u001B[49m\u001B[43m,\u001B[49m\n\u001B[1;32m    676\u001B[0m \u001B[43m\u001B[49m\u001B[43m)\u001B[49m\n",
      "File \u001B[0;32m~/Library/Caches/pypoetry/virtualenvs/mc-forecasting-IjydRF9q-py3.12/lib/python3.12/site-packages/pandas/io/parquet.py:267\u001B[0m, in \u001B[0;36mPyArrowImpl.read\u001B[0;34m(self, path, columns, filters, use_nullable_dtypes, dtype_backend, storage_options, filesystem, **kwargs)\u001B[0m\n\u001B[1;32m    264\u001B[0m \u001B[38;5;28;01mif\u001B[39;00m manager \u001B[38;5;241m==\u001B[39m \u001B[38;5;124m\"\u001B[39m\u001B[38;5;124marray\u001B[39m\u001B[38;5;124m\"\u001B[39m:\n\u001B[1;32m    265\u001B[0m     to_pandas_kwargs[\u001B[38;5;124m\"\u001B[39m\u001B[38;5;124msplit_blocks\u001B[39m\u001B[38;5;124m\"\u001B[39m] \u001B[38;5;241m=\u001B[39m \u001B[38;5;28;01mTrue\u001B[39;00m  \u001B[38;5;66;03m# type: ignore[assignment]\u001B[39;00m\n\u001B[0;32m--> 267\u001B[0m path_or_handle, handles, filesystem \u001B[38;5;241m=\u001B[39m \u001B[43m_get_path_or_handle\u001B[49m\u001B[43m(\u001B[49m\n\u001B[1;32m    268\u001B[0m \u001B[43m    \u001B[49m\u001B[43mpath\u001B[49m\u001B[43m,\u001B[49m\n\u001B[1;32m    269\u001B[0m \u001B[43m    \u001B[49m\u001B[43mfilesystem\u001B[49m\u001B[43m,\u001B[49m\n\u001B[1;32m    270\u001B[0m \u001B[43m    \u001B[49m\u001B[43mstorage_options\u001B[49m\u001B[38;5;241;43m=\u001B[39;49m\u001B[43mstorage_options\u001B[49m\u001B[43m,\u001B[49m\n\u001B[1;32m    271\u001B[0m \u001B[43m    \u001B[49m\u001B[43mmode\u001B[49m\u001B[38;5;241;43m=\u001B[39;49m\u001B[38;5;124;43m\"\u001B[39;49m\u001B[38;5;124;43mrb\u001B[39;49m\u001B[38;5;124;43m\"\u001B[39;49m\u001B[43m,\u001B[49m\n\u001B[1;32m    272\u001B[0m \u001B[43m\u001B[49m\u001B[43m)\u001B[49m\n\u001B[1;32m    273\u001B[0m \u001B[38;5;28;01mtry\u001B[39;00m:\n\u001B[1;32m    274\u001B[0m     pa_table \u001B[38;5;241m=\u001B[39m \u001B[38;5;28mself\u001B[39m\u001B[38;5;241m.\u001B[39mapi\u001B[38;5;241m.\u001B[39mparquet\u001B[38;5;241m.\u001B[39mread_table(\n\u001B[1;32m    275\u001B[0m         path_or_handle,\n\u001B[1;32m    276\u001B[0m         columns\u001B[38;5;241m=\u001B[39mcolumns,\n\u001B[0;32m   (...)\u001B[0m\n\u001B[1;32m    279\u001B[0m         \u001B[38;5;241m*\u001B[39m\u001B[38;5;241m*\u001B[39mkwargs,\n\u001B[1;32m    280\u001B[0m     )\n",
      "File \u001B[0;32m~/Library/Caches/pypoetry/virtualenvs/mc-forecasting-IjydRF9q-py3.12/lib/python3.12/site-packages/pandas/io/parquet.py:140\u001B[0m, in \u001B[0;36m_get_path_or_handle\u001B[0;34m(path, fs, storage_options, mode, is_dir)\u001B[0m\n\u001B[1;32m    130\u001B[0m handles \u001B[38;5;241m=\u001B[39m \u001B[38;5;28;01mNone\u001B[39;00m\n\u001B[1;32m    131\u001B[0m \u001B[38;5;28;01mif\u001B[39;00m (\n\u001B[1;32m    132\u001B[0m     \u001B[38;5;129;01mnot\u001B[39;00m fs\n\u001B[1;32m    133\u001B[0m     \u001B[38;5;129;01mand\u001B[39;00m \u001B[38;5;129;01mnot\u001B[39;00m is_dir\n\u001B[0;32m   (...)\u001B[0m\n\u001B[1;32m    138\u001B[0m     \u001B[38;5;66;03m# fsspec resources can also point to directories\u001B[39;00m\n\u001B[1;32m    139\u001B[0m     \u001B[38;5;66;03m# this branch is used for example when reading from non-fsspec URLs\u001B[39;00m\n\u001B[0;32m--> 140\u001B[0m     handles \u001B[38;5;241m=\u001B[39m \u001B[43mget_handle\u001B[49m\u001B[43m(\u001B[49m\n\u001B[1;32m    141\u001B[0m \u001B[43m        \u001B[49m\u001B[43mpath_or_handle\u001B[49m\u001B[43m,\u001B[49m\u001B[43m \u001B[49m\u001B[43mmode\u001B[49m\u001B[43m,\u001B[49m\u001B[43m \u001B[49m\u001B[43mis_text\u001B[49m\u001B[38;5;241;43m=\u001B[39;49m\u001B[38;5;28;43;01mFalse\u001B[39;49;00m\u001B[43m,\u001B[49m\u001B[43m \u001B[49m\u001B[43mstorage_options\u001B[49m\u001B[38;5;241;43m=\u001B[39;49m\u001B[43mstorage_options\u001B[49m\n\u001B[1;32m    142\u001B[0m \u001B[43m    \u001B[49m\u001B[43m)\u001B[49m\n\u001B[1;32m    143\u001B[0m     fs \u001B[38;5;241m=\u001B[39m \u001B[38;5;28;01mNone\u001B[39;00m\n\u001B[1;32m    144\u001B[0m     path_or_handle \u001B[38;5;241m=\u001B[39m handles\u001B[38;5;241m.\u001B[39mhandle\n",
      "File \u001B[0;32m~/Library/Caches/pypoetry/virtualenvs/mc-forecasting-IjydRF9q-py3.12/lib/python3.12/site-packages/pandas/io/common.py:882\u001B[0m, in \u001B[0;36mget_handle\u001B[0;34m(path_or_buf, mode, encoding, compression, memory_map, is_text, errors, storage_options)\u001B[0m\n\u001B[1;32m    873\u001B[0m         handle \u001B[38;5;241m=\u001B[39m \u001B[38;5;28mopen\u001B[39m(\n\u001B[1;32m    874\u001B[0m             handle,\n\u001B[1;32m    875\u001B[0m             ioargs\u001B[38;5;241m.\u001B[39mmode,\n\u001B[0;32m   (...)\u001B[0m\n\u001B[1;32m    878\u001B[0m             newline\u001B[38;5;241m=\u001B[39m\u001B[38;5;124m\"\u001B[39m\u001B[38;5;124m\"\u001B[39m,\n\u001B[1;32m    879\u001B[0m         )\n\u001B[1;32m    880\u001B[0m     \u001B[38;5;28;01melse\u001B[39;00m:\n\u001B[1;32m    881\u001B[0m         \u001B[38;5;66;03m# Binary mode\u001B[39;00m\n\u001B[0;32m--> 882\u001B[0m         handle \u001B[38;5;241m=\u001B[39m \u001B[38;5;28;43mopen\u001B[39;49m\u001B[43m(\u001B[49m\u001B[43mhandle\u001B[49m\u001B[43m,\u001B[49m\u001B[43m \u001B[49m\u001B[43mioargs\u001B[49m\u001B[38;5;241;43m.\u001B[39;49m\u001B[43mmode\u001B[49m\u001B[43m)\u001B[49m\n\u001B[1;32m    883\u001B[0m     handles\u001B[38;5;241m.\u001B[39mappend(handle)\n\u001B[1;32m    885\u001B[0m \u001B[38;5;66;03m# Convert BytesIO or file objects passed with an encoding\u001B[39;00m\n",
      "\u001B[0;31mFileNotFoundError\u001B[0m: [Errno 2] No such file or directory: '../results/MCNNM-TSR-112_results.parquet'"
     ]
    }
   ],
   "execution_count": 13
  },
  {
   "metadata": {},
   "cell_type": "code",
   "outputs": [],
   "execution_count": null,
   "source": [
    "dataframes_112 = [MCNNM_112, MCNNM_TSR_112, Elasticnet_112, LASSO_112, LEAR_112, LEAR_Panel_112]\n",
    "estimator_names_112 = [r'\\hyperref[est:MC-NNM]{MC-NNM}', r'\\hyperref[est:MC-NNM-TSR]{MC-NNM-TSR}', r'\\hyperref[est:EN]{ElasticNet}', r'\\hyperref[est:LASSO]{LASSO}', r'\\hyperref[est:LEAR]{LEAR}', r'\\hyperref[est:LEAR-Panel]{LEAR-Panel}']\n",
    "table_112 = create_comparison_table(dataframes_112, estimator_names_112)\n",
    "latex_112 = create_latex_table_content(\n",
    "    table_112,\n",
    "    caption=\"Comparison of Estimators on 112 Day Sliding Window\",\n",
    "    label=\"tab:112\"\n",
    ")\n",
    "save_latex_table_content(latex_112, \"112_day_comparison\")"
   ],
   "id": "7bd110868e71f1b0"
  }
 ],
 "metadata": {
  "kernelspec": {
   "display_name": "Python 3",
   "language": "python",
   "name": "python3"
  },
  "language_info": {
   "codemirror_mode": {
    "name": "ipython",
    "version": 2
   },
   "file_extension": ".py",
   "mimetype": "text/x-python",
   "name": "python",
   "nbconvert_exporter": "python",
   "pygments_lexer": "ipython2",
   "version": "2.7.6"
  }
 },
 "nbformat": 4,
 "nbformat_minor": 5
}

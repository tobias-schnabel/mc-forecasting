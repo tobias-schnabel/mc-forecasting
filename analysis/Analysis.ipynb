{
 "cells": [
  {
   "metadata": {
    "ExecuteTime": {
     "end_time": "2024-09-12T17:50:04.071060Z",
     "start_time": "2024-09-12T17:50:03.806633Z"
    }
   },
   "cell_type": "code",
   "source": [
    "import pandas as pd\n",
    "import os\n",
    "import getpass\n",
    "\n",
    "export_username = \"ts\"  # Only save tables to dropbox on my machine\n",
    "\n",
    "import pandas as pd\n",
    "\n",
    "\n",
    "def create_comparison_table(dataframes, estimator_names, metrics=['RMSE', 'MAE', 'rMAE'], decimal_places=3):\n",
    "    def calc_stats(df, metrics):\n",
    "        stats = {}\n",
    "        for metric in metrics:\n",
    "            stats[f'{metric}_min'] = df[metric].min()\n",
    "            stats[f'{metric}_mean'] = df[metric].mean()\n",
    "            stats[f'{metric}_median'] = df[metric].median()\n",
    "            stats[f'{metric}_max'] = df[metric].max()\n",
    "        \n",
    "        time_metrics = ['fit_time', 'predict_time', 'optimize_time']\n",
    "        for time_metric in time_metrics:\n",
    "            stats[f'{time_metric}_mean'] = df[time_metric].mean()\n",
    "        \n",
    "        return pd.Series(stats)\n",
    "\n",
    "    all_stats = {}\n",
    "    for df, name in zip(dataframes, estimator_names):\n",
    "        all_stats[name] = calc_stats(df, metrics)\n",
    "\n",
    "    comparison_table = pd.DataFrame(all_stats).T\n",
    "\n",
    "    # Create multi-level columns\n",
    "    column_tuples = [(metric, stat) for metric in metrics for stat in ['min', 'mean', 'median', 'max']] + \\\n",
    "                    [(metric, 'mean') for metric in ['fit time', 'predict time', 'optimize time']]\n",
    "    comparison_table.columns = pd.MultiIndex.from_tuples(column_tuples)\n",
    "\n",
    "    # Reorder columns\n",
    "    new_order = metrics + ['fit time', 'predict time', 'optimize time']\n",
    "    comparison_table = comparison_table.reindex(columns=new_order, level=0)\n",
    "\n",
    "    return comparison_table.round(decimal_places)\n",
    "\n",
    "\n",
    "def create_latex_table_from_df(df, caption, label, colnames=None):\n",
    "    \"\"\"\n",
    "    Create LaTeX table content from a pandas DataFrame.\n",
    "    Automatically formats columns with all integer-like floats as integers.\n",
    "    Uses 'H' float specifier, centers all values except the leftmost column,\n",
    "    adds vertical lines between columns after the first one,\n",
    "    ensures the table fits within textwidth, and allows line breaks in column names.\n",
    "    \n",
    "    Args:\n",
    "    df (pd.DataFrame): Input DataFrame\n",
    "    caption (str): Table caption\n",
    "    label (str): Table label for referencing\n",
    "    colnames (list): List of column names. If None, uses df.columns. Use \\\\\\ for line breaks (will cause warning).\n",
    "    \n",
    "    Returns:\n",
    "    str: LaTeX code for the table\n",
    "    \"\"\"\n",
    "    table_content = []\n",
    "    table_content.append(r'\\begin{table}[H]')\n",
    "    table_content.append(r'\\centering')\n",
    "    table_content.append(f'\\\\caption{{{caption}}}')\n",
    "    table_content.append(f'\\\\label{{{label}}}')\n",
    "    \n",
    "    # Ensure table fits within text width\n",
    "    table_content.append(r'\\resizebox{\\textwidth}{!}{')\n",
    "    \n",
    "    # Infer number of columns from df and create table format\n",
    "    num_cols = len(df.columns) + 1  # +1 for the index column\n",
    "    table_format = 'l' + '|c' * (num_cols - 1)\n",
    "    table_content.append(f'\\\\begin{{tabular}}{{{table_format}}}')\n",
    "    \n",
    "    # Use provided column names or df.columns, and add 'Dataset' for the index\n",
    "    if colnames is None:\n",
    "        colnames = ['Dataset'] + list(df.columns)\n",
    "    \n",
    "    # Wrap column names with \\makecell to allow line breaks\n",
    "    wrapped_colnames = [f'\\\\makecell{{{name}}}' for name in colnames]\n",
    "    table_content.append(' & '.join(wrapped_colnames) + r' \\\\')\n",
    "    \n",
    "    # Add cline after column names\n",
    "    table_content.append(r'\\cline{1-' + str(num_cols) + '}')\n",
    "    \n",
    "    # Determine which columns should be formatted as integers\n",
    "    int_columns = [col for col in df.columns if df[col].dtype in ['float64', 'int64'] and \n",
    "                   df[col].apply(lambda x: x.is_integer() if isinstance(x, float) else True).all()]\n",
    "    \n",
    "    for index, row in df.iterrows():\n",
    "        row_content = [f\"{index}\"]  # Start with the index (dataset name)\n",
    "        for col, value in row.items():\n",
    "            if pd.isna(value):\n",
    "                row_content.append('')\n",
    "            elif isinstance(value, (int, float)):\n",
    "                if col in int_columns:\n",
    "                    row_content.append(f\"\\\\num{{{int(value):,}}}\")\n",
    "                elif value < 1 and value > 0:  # Assume it's a percentage\n",
    "                    row_content.append(f\"\\\\num{{{value*100:.4f}}}\\\\%\")\n",
    "                else:\n",
    "                    row_content.append(f\"\\\\num{{{value:,}}}\")\n",
    "            else:\n",
    "                row_content.append(f\"{value}\")\n",
    "        table_content.append(' & '.join(row_content) + r' \\\\')\n",
    "    \n",
    "    # Add bottom line\n",
    "    table_content.append(r'\\hline')\n",
    "    table_content.append(r'\\end{tabular}')\n",
    "    table_content.append(r'}')  # Close resizebox\n",
    "    table_content.append(r'\\end{table}')\n",
    "    \n",
    "    return '\\n'.join(table_content)\n",
    "\n",
    "\n",
    "def create_latex_table_content(df, caption, label):\n",
    "    table_content = []\n",
    "    table_content.append(r'\\begin{table}[H]')\n",
    "    table_content.append(r'\\centering')\n",
    "    table_content.append(f'\\\\caption{{{caption}}}')\n",
    "    table_content.append(f'\\\\label{{{label}}}')\n",
    "    table_content.append(r'\\resizebox{\\textwidth}{!}{')\n",
    "    \n",
    "    num_cols = len(df.columns) + 1\n",
    "    table_format = '|l|' + 'c|' * (num_cols - 1)\n",
    "    table_content.append(f'\\\\begin{{tabular}}{{{table_format}}}')\n",
    "    table_content.append(r'\\hline')\n",
    "    \n",
    "    # Create main headers\n",
    "    main_metrics = df.columns.get_level_values(0).unique()\n",
    "    main_headers = ['Estimator'] + [f'\\\\multicolumn{{4}}{{c|}}{{{metric}}}' for metric in ['RMSE', 'MAE', 'rMAE']] + [f'\\\\multicolumn{{3}}{{c|}}{{{'Mean Execution Time (s)'}}}']\n",
    "    table_content.append(' & '.join(main_headers) + r' \\\\')\n",
    "    \n",
    "    # Add horizontal line between metric names and subcolumn names\n",
    "    table_content.append(r'\\cline{2-' + str(num_cols) + '}')\n",
    "    \n",
    "    # Create sub-headers\n",
    "    sub_headers = ['']\n",
    "    for metric in main_metrics:\n",
    "        if metric in ['RMSE', 'MAE', 'rMAE']:\n",
    "            sub_headers.extend(['min', 'mean', 'median', 'max'])\n",
    "    sub_headers.extend([r'\\texttt{fit()}', r'\\texttt{predict()}', r'\\texttt{optimize()}'])\n",
    "    table_content.append(' & '.join(sub_headers) + r' \\\\')\n",
    "    \n",
    "    table_content.append(r'\\hline')\n",
    "    \n",
    "    # Find minimum and second minimum values for each column\n",
    "    min_values = df.min()\n",
    "    second_min_values = df.apply(lambda x: x.nsmallest(2).max() if len(x) > 1 else x.max())\n",
    "\n",
    "    for i, (index, row) in enumerate(df.iterrows()):\n",
    "        row_content = [f\"{index}\"]\n",
    "        for (col, subcol), value in row.items():\n",
    "            if pd.isna(value):\n",
    "                cell_content = ''\n",
    "            elif isinstance(value, (int, float)):\n",
    "                if value == 0:\n",
    "                    cell_content = '0'\n",
    "                elif value.is_integer():\n",
    "                    cell_content = f\"\\\\num{{{int(value):,}}}\"\n",
    "                elif value < 1 and value > 0:\n",
    "                    cell_content = f\"\\\\num{{{value:.3f}}}\"\n",
    "                else:\n",
    "                    cell_content = f\"\\\\num{{{value:.3f}}}\"\n",
    "                \n",
    "                # Highlight minimum value\n",
    "                if value == min_values[(col, subcol)] and not df[col][subcol].eq(value).all():\n",
    "                    cell_content = f\"\\\\cellcolor{{green!50}}\\\\textbf{{{cell_content}}}\"\n",
    "                # Highlight second minimum value if table has more than 2 rows\n",
    "                elif len(df) > 2 and value == second_min_values[(col, subcol)] and not df[col][subcol].eq(value).all():\n",
    "                    cell_content = f\"\\\\cellcolor{{cyan!50}}{cell_content}\"\n",
    "            else:\n",
    "                cell_content = f\"{value}\"\n",
    "            row_content.append(cell_content)\n",
    "        table_content.append(' & '.join(row_content) + r' \\\\')\n",
    "        \n",
    "        # Add horizontal line after each estimator\n",
    "        table_content.append(r'\\hline')\n",
    "    \n",
    "    table_content.append(r'\\end{tabular}')\n",
    "    table_content.append(r'}')\n",
    "    table_content.append(r'\\end{table}')\n",
    "    \n",
    "    return '\\n'.join(table_content)\n",
    "\n",
    "\n",
    "def save_latex_table_content(content, filename):\n",
    "    \"\"\"\n",
    "    Save LaTeX table content to a file, but only if on the specified machine.\n",
    "    \n",
    "    Args:\n",
    "    content (str): LaTeX table content to save\n",
    "    filename (str): Name of the file to save (without extension)\n",
    "    \n",
    "    Returns:\n",
    "    None\n",
    "    \"\"\"\n",
    "    username = getpass.getuser()\n",
    "    if username == export_username:\n",
    "        filepath = \"/Users/ts/Library/CloudStorage/Dropbox/Apps/Overleaf/Dissertation Oxford/Tables\"\n",
    "        full_filename = os.path.join(filepath, filename + \".tex\")\n",
    "        \n",
    "        with open(full_filename, 'w') as file:\n",
    "            file.write(content)\n",
    "        \n",
    "        print(f\"Table content saved to {full_filename}\")\n",
    "    else:\n",
    "        print(\"Table content not saved (not on the specified machine)\")"
   ],
   "id": "61993d23d01a70fa",
   "outputs": [
    {
     "name": "stderr",
     "output_type": "stream",
     "text": [
      "<>:44: SyntaxWarning: invalid escape sequence '\\ '\n",
      "<>:44: SyntaxWarning: invalid escape sequence '\\ '\n",
      "/var/folders/lq/x2t80c813gsbg58jgjy302hc0000gn/T/ipykernel_4792/216629376.py:44: SyntaxWarning: invalid escape sequence '\\ '\n",
      "  \"\"\"\n"
     ]
    }
   ],
   "execution_count": 1
  },
  {
   "metadata": {},
   "cell_type": "markdown",
   "source": "## Comparison of 64 and 32 bit float precision for MC-NNM 56",
   "id": "768d2eb8c2e40bd3"
  },
  {
   "metadata": {
    "ExecuteTime": {
     "end_time": "2024-09-12T17:50:04.103862Z",
     "start_time": "2024-09-12T17:50:04.075689Z"
    }
   },
   "cell_type": "code",
   "source": [
    "MCNNM_56_64 = pd.read_parquet('../results/MCNNM_56_results.parquet')\n",
    "MCNNM_56_32 = pd.read_parquet('../results/MCNNM-56_32_results.parquet')\n",
    "MCNNM_56_32.shape, MCNNM_56_64.shape"
   ],
   "id": "8da6122bf9318471",
   "outputs": [
    {
     "data": {
      "text/plain": [
       "((2006, 11), (363, 11))"
      ]
     },
     "execution_count": 2,
     "metadata": {},
     "output_type": "execute_result"
    }
   ],
   "execution_count": 2
  },
  {
   "metadata": {
    "ExecuteTime": {
     "end_time": "2024-09-12T17:50:04.162422Z",
     "start_time": "2024-09-12T17:50:04.159972Z"
    }
   },
   "cell_type": "code",
   "source": [
    "# subset the first 363 rows of the 32 bit precision results (this is where I stopped the training for 64 bit)\n",
    "MCNNM_56_32_trunc = MCNNM_56_32.iloc[:363]\n",
    "MCNNM_56_32_trunc.shape, MCNNM_56_64.shape"
   ],
   "id": "a92d70a195959a4d",
   "outputs": [
    {
     "data": {
      "text/plain": [
       "((363, 11), (363, 11))"
      ]
     },
     "execution_count": 3,
     "metadata": {},
     "output_type": "execute_result"
    }
   ],
   "execution_count": 3
  },
  {
   "metadata": {
    "ExecuteTime": {
     "end_time": "2024-09-12T17:50:04.178600Z",
     "start_time": "2024-09-12T17:50:04.171557Z"
    }
   },
   "cell_type": "code",
   "source": [
    "dataframes_32_64 = [MCNNM_56_32_trunc, MCNNM_56_64]\n",
    "estimator_names_32_64 = ['32-bit', '64-bit']\n",
    "table_32_64 = create_comparison_table(dataframes_32_64, estimator_names_32_64)\n",
    "print(table_32_64)"
   ],
   "id": "7ef22986b53dfe4",
   "outputs": [
    {
     "name": "stdout",
     "output_type": "stream",
     "text": [
      "          RMSE                             MAE                           rMAE  \\\n",
      "           min    mean  median      max    min    mean  median     max    min   \n",
      "32-bit  14.245  33.065  30.275  105.003  8.242  18.739  17.650  45.308  0.447   \n",
      "64-bit  13.322  33.033  30.578  105.003  7.547  18.721  17.585  46.387  0.435   \n",
      "\n",
      "                            fit time predict time optimize time  \n",
      "         mean median    max     mean         mean          mean  \n",
      "32-bit  1.750  1.545  4.957      0.0        5.031         2.245  \n",
      "64-bit  1.754  1.565  4.957      0.0        5.041        15.646  \n"
     ]
    }
   ],
   "execution_count": 4
  },
  {
   "metadata": {},
   "cell_type": "markdown",
   "source": "We can see that the 64-bit precision model has slightly better performance than the 32-bit model, with lower RMSE and MAE values. The difference is relatively small, but it is consistent across all metrics. The prediction time is also slightly longer for the 64-bit model, which severely compounds during the optimization phase. This is expected, as the 64-bit model has twice the memory requirements and will be slower to compute.",
   "id": "6d8750fc8cadc786"
  },
  {
   "metadata": {
    "ExecuteTime": {
     "end_time": "2024-09-12T17:50:04.202053Z",
     "start_time": "2024-09-12T17:50:04.191551Z"
    }
   },
   "cell_type": "code",
   "source": [
    "# Create your comparison table\n",
    "dataframes = [MCNNM_56_32_trunc, MCNNM_56_64]\n",
    "estimator_names = [r'\\hyperref[est:MC-NNM]{MC-NNM} (32)', r'\\hyperref[est:MC-NNM]{MC-NNM} (64)']\n",
    "table_32_64 = create_comparison_table(dataframes, estimator_names, decimal_places=3)\n",
    "\n",
    "# Generate the LaTeX content\n",
    "latex_32_64 = create_latex_table_content(\n",
    "    table_32_64,\n",
    "    caption=\"Comparison of 32-bit and 64-bit MC-NNM Estimators On The First Year of Data\",\n",
    "    label=\"tab:32-64\"\n",
    ")\n",
    "\n",
    "# Save the LaTeX content\n",
    "save_latex_table_content(latex_32_64, \"mcnnm_32_64_comparison\")\n"
   ],
   "id": "d0a19fd873a03a59",
   "outputs": [
    {
     "name": "stdout",
     "output_type": "stream",
     "text": [
      "Table content saved to /Users/ts/Library/CloudStorage/Dropbox/Apps/Overleaf/Dissertation Oxford/Tables/mcnnm_32_64_comparison.tex\n"
     ]
    }
   ],
   "execution_count": 5
  },
  {
   "metadata": {},
   "cell_type": "markdown",
   "source": "## Results for 56 day sliding window",
   "id": "ffd337c28bf164e6"
  },
  {
   "metadata": {
    "ExecuteTime": {
     "end_time": "2024-09-12T17:50:04.229762Z",
     "start_time": "2024-09-12T17:50:04.217480Z"
    }
   },
   "cell_type": "code",
   "source": [
    "MCNNM_56 = pd.read_parquet('../results/MCNNM-56_32_results.parquet')\n",
    "MCNNM_TSR_56 = pd.read_parquet('../results/MCNNM-TSR-56_results.parquet')\n",
    "Elasticnet_56 = pd.read_parquet('../results/ElasticNet-56_results.parquet')\n",
    "LASSO_56 = pd.read_parquet('../results/LASSO-56_results.parquet')\n",
    "LEAR_56 = pd.read_parquet('../results/LEAR-56_results.parquet')\n",
    "LEAR_Panel_56 = pd.read_parquet('../results/LEAR-Panel-56_results.parquet')\n",
    "# check all have same shape\n",
    "MCNNM_56.shape, MCNNM_TSR_56.shape, Elasticnet_56.shape, LASSO_56.shape, LEAR_56.shape, LEAR_Panel_56.shape"
   ],
   "id": "6eb2d502438ac6d5",
   "outputs": [
    {
     "data": {
      "text/plain": [
       "((2006, 11), (2006, 11), (2006, 11), (2006, 12), (2006, 12), (2006, 12))"
      ]
     },
     "execution_count": 6,
     "metadata": {},
     "output_type": "execute_result"
    }
   ],
   "execution_count": 6
  },
  {
   "metadata": {
    "ExecuteTime": {
     "end_time": "2024-09-12T17:50:04.270770Z",
     "start_time": "2024-09-12T17:50:04.254518Z"
    }
   },
   "cell_type": "code",
   "source": [
    "dataframes_56 = [MCNNM_56, MCNNM_TSR_56, Elasticnet_56, LASSO_56, LEAR_56, LEAR_Panel_56]\n",
    "estimator_names_56 = [r'\\hyperref[est:MC-NNM]{MC-NNM}', r'\\hyperref[est:MC-NNM-TSR]{MC-NNM-TSR}', r'\\hyperref[est:EN]{ElasticNet}', r'\\hyperref[est:LASSO]{LASSO}', r'\\hyperref[est:LEAR]{LEAR}', r'\\hyperref[est:LEAR-Panel]{LEAR-Panel}']\n",
    "table_56 = create_comparison_table(dataframes_56, estimator_names_56)\n",
    "latex_56 = create_latex_table_content(\n",
    "    table_56,\n",
    "    caption=\"Comparison of Estimators on 56 Day Sliding Window\",\n",
    "    label=\"tab:56\"\n",
    ")\n",
    "save_latex_table_content(latex_56, \"56_day_comparison\")"
   ],
   "id": "bee5b8ac62fe92bd",
   "outputs": [
    {
     "name": "stdout",
     "output_type": "stream",
     "text": [
      "Table content saved to /Users/ts/Library/CloudStorage/Dropbox/Apps/Overleaf/Dissertation Oxford/Tables/56_day_comparison.tex\n"
     ]
    }
   ],
   "execution_count": 7
  },
  {
   "metadata": {},
   "cell_type": "markdown",
   "source": "## Results for 84 day sliding window",
   "id": "4c0a8d0dc27422d"
  },
  {
   "metadata": {
    "ExecuteTime": {
     "end_time": "2024-09-12T17:50:04.311058Z",
     "start_time": "2024-09-12T17:50:04.299258Z"
    }
   },
   "cell_type": "code",
   "source": [
    "MCNNM_84 = pd.read_parquet('../results/MCNNM-84_32_results.parquet')\n",
    "MCNNM_TSR_84 = pd.read_parquet('../results/MCNNM-TSR-84_results.parquet')\n",
    "Elasticnet_84 = pd.read_parquet('../results/ElasticNet-84_results.parquet')\n",
    "LASSO_84 = pd.read_parquet('../results/LASSO-84_results.parquet')\n",
    "LEAR_84 = pd.read_parquet('../results/LEAR-84_results.parquet')\n",
    "LEAR_Panel_84 = pd.read_parquet('../results/LEAR-Panel-84_results.parquet')\n",
    "# check all have same shape\n",
    "MCNNM_84.shape, MCNNM_TSR_84.shape, Elasticnet_84.shape, LASSO_84.shape, LEAR_84.shape, LEAR_Panel_84.shape"
   ],
   "id": "20ae93ab37f0b81a",
   "outputs": [
    {
     "data": {
      "text/plain": [
       "((2006, 11), (2006, 11), (2006, 11), (2006, 12), (2006, 12), (2006, 12))"
      ]
     },
     "execution_count": 8,
     "metadata": {},
     "output_type": "execute_result"
    }
   ],
   "execution_count": 8
  },
  {
   "metadata": {
    "ExecuteTime": {
     "end_time": "2024-09-12T17:50:04.363733Z",
     "start_time": "2024-09-12T17:50:04.348301Z"
    }
   },
   "cell_type": "code",
   "source": [
    "dataframes_84 = [MCNNM_84, MCNNM_TSR_84, Elasticnet_84, LASSO_84, LEAR_84, LEAR_Panel_84]\n",
    "estimator_names_84 = [r'\\hyperref[est:MC-NNM]{MC-NNM}', r'\\hyperref[est:MC-NNM-TSR]{MC-NNM-TSR}', r'\\hyperref[est:EN]{ElasticNet}', r'\\hyperref[est:LASSO]{LASSO}', r'\\hyperref[est:LEAR]{LEAR}', r'\\hyperref[est:LEAR-Panel]{LEAR-Panel}']\n",
    "table_84 = create_comparison_table(dataframes_84, estimator_names_84)\n",
    "latex_84 = create_latex_table_content(\n",
    "    table_84,\n",
    "    caption=\"Comparison of Estimators on 84 Day Sliding Window\",\n",
    "    label=\"tab:84\"\n",
    ")\n",
    "save_latex_table_content(latex_84, \"84_day_comparison\")"
   ],
   "id": "729b85302dc95b14",
   "outputs": [
    {
     "name": "stdout",
     "output_type": "stream",
     "text": [
      "Table content saved to /Users/ts/Library/CloudStorage/Dropbox/Apps/Overleaf/Dissertation Oxford/Tables/84_day_comparison.tex\n"
     ]
    }
   ],
   "execution_count": 9
  },
  {
   "metadata": {},
   "cell_type": "raw",
   "source": "## Results for 112 day sliding window",
   "id": "345f8cf415aa965a"
  },
  {
   "metadata": {
    "ExecuteTime": {
     "end_time": "2024-09-12T17:50:04.415590Z",
     "start_time": "2024-09-12T17:50:04.404762Z"
    }
   },
   "cell_type": "code",
   "source": [
    "MCNNM_112 = pd.read_parquet('../results/MCNNM-112_32_results.parquet')\n",
    "MCNNM_TSR_112 = pd.read_parquet('../results/MCNNM-TSR-112_results.parquet')\n",
    "Elasticnet_112 = pd.read_parquet('../results/ElasticNet-112_results.parquet')\n",
    "LASSO_112 = pd.read_parquet('../results/LASSO-112_results.parquet')\n",
    "LEAR_112 = pd.read_parquet('../results/LEAR-112_results.parquet')\n",
    "LEAR_Panel_112 = pd.read_parquet('../results/LEAR-Panel-112_results.parquet')\n",
    "# check all have same shape\n",
    "MCNNM_112.shape, MCNNM_TSR_112.shape, Elasticnet_112.shape, LASSO_112.shape, LEAR_112.shape, LEAR_Panel_112.shape"
   ],
   "id": "6b60185d1257e3bb",
   "outputs": [
    {
     "data": {
      "text/plain": [
       "((2006, 11), (2006, 11), (2006, 11), (2006, 12), (2006, 12), (2006, 12))"
      ]
     },
     "execution_count": 10,
     "metadata": {},
     "output_type": "execute_result"
    }
   ],
   "execution_count": 10
  },
  {
   "metadata": {
    "ExecuteTime": {
     "end_time": "2024-09-12T17:50:04.483857Z",
     "start_time": "2024-09-12T17:50:04.467733Z"
    }
   },
   "cell_type": "code",
   "source": [
    "dataframes_112 = [MCNNM_112, MCNNM_TSR_112, Elasticnet_112, LASSO_112, LEAR_112, LEAR_Panel_112]\n",
    "estimator_names_112 = [r'\\hyperref[est:MC-NNM]{MC-NNM}', r'\\hyperref[est:MC-NNM-TSR]{MC-NNM-TSR}', r'\\hyperref[est:EN]{ElasticNet}', r'\\hyperref[est:LASSO]{LASSO}', r'\\hyperref[est:LEAR]{LEAR}', r'\\hyperref[est:LEAR-Panel]{LEAR-Panel}']\n",
    "table_112 = create_comparison_table(dataframes_112, estimator_names_112)\n",
    "latex_112 = create_latex_table_content(\n",
    "    table_112,\n",
    "    caption=\"Comparison of Estimators on 112 Day Sliding Window\",\n",
    "    label=\"tab:112\"\n",
    ")\n",
    "save_latex_table_content(latex_112, \"112_day_comparison\")"
   ],
   "id": "7bd110868e71f1b0",
   "outputs": [
    {
     "name": "stdout",
     "output_type": "stream",
     "text": [
      "Table content saved to /Users/ts/Library/CloudStorage/Dropbox/Apps/Overleaf/Dissertation Oxford/Tables/112_day_comparison.tex\n"
     ]
    }
   ],
   "execution_count": 11
  },
  {
   "metadata": {
    "ExecuteTime": {
     "end_time": "2024-09-12T17:50:04.543563Z",
     "start_time": "2024-09-12T17:50:04.538099Z"
    }
   },
   "cell_type": "code",
   "source": [
    "# Summary stats table\n",
    "# Load the data\n",
    "df = pd.read_parquet('summary-stats/data_quality_summary.parquet')\n",
    "\n",
    "# Create the table content\n",
    "latex_table_content = create_latex_table_from_df(\n",
    "    df,\n",
    "    caption=\"Data Quality Summary\",\n",
    "    label=\"tab:data_quality_summary\",\n",
    "    colnames=[\"Dataset\", \"Total Entries\", \"Missing Entries\", \"Missing \\\\%\", \"Longest Missing \\\\\\Streak\", \"Overlapping Missing \\\\\\Entries\"]\n",
    ")\n",
    "\n",
    "# Save the table content\n",
    "save_latex_table_content(latex_table_content, \"data_summary\")"
   ],
   "id": "a22f2ba31293b4ae",
   "outputs": [
    {
     "name": "stdout",
     "output_type": "stream",
     "text": [
      "Table content saved to /Users/ts/Library/CloudStorage/Dropbox/Apps/Overleaf/Dissertation Oxford/Tables/data_summary.tex\n"
     ]
    },
    {
     "name": "stderr",
     "output_type": "stream",
     "text": [
      "<>:10: SyntaxWarning: invalid escape sequence '\\S'\n",
      "<>:10: SyntaxWarning: invalid escape sequence '\\E'\n",
      "<>:10: SyntaxWarning: invalid escape sequence '\\S'\n",
      "<>:10: SyntaxWarning: invalid escape sequence '\\E'\n",
      "/var/folders/lq/x2t80c813gsbg58jgjy302hc0000gn/T/ipykernel_4792/2520320127.py:10: SyntaxWarning: invalid escape sequence '\\S'\n",
      "  colnames=[\"Dataset\", \"Total Entries\", \"Missing Entries\", \"Missing \\\\%\", \"Longest Missing \\\\\\Streak\", \"Overlapping Missing \\\\\\Entries\"]\n",
      "/var/folders/lq/x2t80c813gsbg58jgjy302hc0000gn/T/ipykernel_4792/2520320127.py:10: SyntaxWarning: invalid escape sequence '\\E'\n",
      "  colnames=[\"Dataset\", \"Total Entries\", \"Missing Entries\", \"Missing \\\\%\", \"Longest Missing \\\\\\Streak\", \"Overlapping Missing \\\\\\Entries\"]\n"
     ]
    }
   ],
   "execution_count": 12
  }
 ],
 "metadata": {
  "kernelspec": {
   "display_name": "Python 3",
   "language": "python",
   "name": "python3"
  },
  "language_info": {
   "codemirror_mode": {
    "name": "ipython",
    "version": 2
   },
   "file_extension": ".py",
   "mimetype": "text/x-python",
   "name": "python",
   "nbconvert_exporter": "python",
   "pygments_lexer": "ipython2",
   "version": "2.7.6"
  }
 },
 "nbformat": 4,
 "nbformat_minor": 5
}
